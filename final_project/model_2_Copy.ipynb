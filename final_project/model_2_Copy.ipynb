{
  "cells": [
    {
      "cell_type": "code",
      "source": [
        "from google.colab import drive\n",
        "drive.mount('/content/drive')\n"
      ],
      "metadata": {
        "colab": {
          "base_uri": "https://localhost:8080/"
        },
        "id": "vcr6JXYjc-8t",
        "outputId": "2f96fa10-97f9-4c67-cca8-05a1a9377a6c"
      },
      "execution_count": null,
      "outputs": [
        {
          "output_type": "stream",
          "name": "stdout",
          "text": [
            "Drive already mounted at /content/drive; to attempt to forcibly remount, call drive.mount(\"/content/drive\", force_remount=True).\n"
          ]
        }
      ]
    },
    {
      "cell_type": "code",
      "source": [
        "import pandas as pd\n",
        "import numpy as np\n",
        "import re\n",
        "\n",
        "# Load your data\n",
        "df = pd.read_csv('/content/drive/MyDrive/dataset.csv')\n",
        "\n",
        "# Count NaNs in each column\n",
        "nan_counts = df.isna().sum().sort_values(ascending=False)\n",
        "\n",
        "print(\"NaN counts per column:\")\n",
        "print(nan_counts[nan_counts > 0])\n",
        "\n",
        "\n",
        "# Combine date and time columns if needed\n",
        "if 'LastUpdatedDate' in df.columns and 'LastUpdatedTime' in df.columns:\n",
        "    df['Timestamp'] = pd.to_datetime(\n",
        "        df['LastUpdatedDate'] + ' ' + df['LastUpdatedTime'],\n",
        "        format='%d-%m-%Y %H:%M:%S'\n",
        "    )\n",
        "else:\n",
        "    df['Timestamp'] = pd.to_datetime(df['Timestamp'])\n",
        "\n",
        "# Ensure unique LotID\n",
        "if 'LotID' not in df.columns:\n",
        "    df['LotID'] = df['Latitude'].astype(str) + '_' + df['Longitude'].astype(str)\n",
        "\n",
        "# --- Inspect columns with many NaNs ---\n",
        "nan_counts = df.isna().sum()\n",
        "print(\"NaN counts per column:\")\n",
        "print(nan_counts[nan_counts > 0].sort_values(ascending=False))\n",
        "\n",
        "# If you want to see rows with NaNs in a specific column, e.g. 'TrafficConditionNearby':\n",
        "if 'TrafficConditionNearby' in df.columns:\n",
        "    print(\"\\nRows with NaN in TrafficConditionNearby:\")\n",
        "    print(df[df['TrafficConditionNearby'].isna()][['Timestamp', 'LotID', 'TrafficConditionNearby']].head(10))\n"
      ],
      "metadata": {
        "colab": {
          "base_uri": "https://localhost:8080/"
        },
        "id": "ebJoYvgpYJRx",
        "outputId": "8638c982-d34a-4025-dedc-fa264eeff522"
      },
      "execution_count": null,
      "outputs": [
        {
          "output_type": "stream",
          "name": "stdout",
          "text": [
            "NaN counts per column:\n",
            "Series([], dtype: int64)\n",
            "NaN counts per column:\n",
            "Series([], dtype: int64)\n",
            "\n",
            "Rows with NaN in TrafficConditionNearby:\n",
            "Empty DataFrame\n",
            "Columns: [Timestamp, LotID, TrafficConditionNearby]\n",
            "Index: []\n"
          ]
        }
      ]
    },
    {
      "cell_type": "code",
      "source": [
        "# Clean and map TrafficConditionNearby\n",
        "def extract_traffic(val):\n",
        "    if isinstance(val, str):\n",
        "        match = re.search(r'(low|average|high)', val)\n",
        "        if match:\n",
        "            return match.group(1)\n",
        "        else:\n",
        "            return None\n",
        "    return val\n",
        "\n",
        "traffic_map = {'low': 0, 'average': 1, 'high': 2}\n",
        "df['TrafficConditionNearby'] = df['TrafficConditionNearby'].apply(extract_traffic)\n",
        "df['TrafficConditionNearby'] = df['TrafficConditionNearby'].map(traffic_map).fillna(0)\n",
        "\n",
        "# Fill missing values and ensure correct types\n",
        "df['Capacity'] = pd.to_numeric(df['Capacity'], errors='coerce').fillna(1)\n",
        "df['Occupancy'] = pd.to_numeric(df['Occupancy'], errors='coerce').fillna(0)\n",
        "df['QueueLength'] = pd.to_numeric(df['QueueLength'], errors='coerce').fillna(0)\n",
        "df['TrafficConditionNearby'] = pd.to_numeric(df['TrafficConditionNearby'], errors='coerce').fillna(0)\n",
        "df['IsSpecialDay'] = pd.to_numeric(df['IsSpecialDay'], errors='coerce').fillna(0)\n",
        "\n",
        "vehicle_type_weights = {'car': 1.0, 'bike': 0.5, 'truck': 1.5}\n",
        "df['VehicleTypeWeight'] = df['VehicleType'].map(vehicle_type_weights).fillna(1.0)\n",
        "\n",
        "df['Norm_Occupancy'] = df['Occupancy'] / df['Capacity']\n",
        "df['Norm_Queue'] = df['QueueLength'] / (df['QueueLength'].max() if df['QueueLength'].max() != 0 else 1)\n",
        "df['Norm_Traffic'] = df['TrafficConditionNearby'] / (df['TrafficConditionNearby'].max() if df['TrafficConditionNearby'].max() != 0 else 1)\n",
        "\n",
        "ALPHA = 1.0\n",
        "BETA = 0.5\n",
        "GAMMA = 0.3\n",
        "DELTA = 0.8\n",
        "EPSILON = 0.7\n",
        "\n",
        "df['Raw_Demand'] = (\n",
        "    ALPHA * df['Norm_Occupancy'] +\n",
        "    BETA * df['Norm_Queue'] -\n",
        "    GAMMA * df['Norm_Traffic'] +\n",
        "    DELTA * df['IsSpecialDay'] +\n",
        "    EPSILON * df['VehicleTypeWeight']\n",
        ")\n",
        "\n",
        "if df['Raw_Demand'].max() != df['Raw_Demand'].min():\n",
        "    df['Norm_Demand'] = (df['Raw_Demand'] - df['Raw_Demand'].min()) / (df['Raw_Demand'].max() - df['Raw_Demand'].min())\n",
        "else:\n",
        "    df['Norm_Demand'] = 0.0\n",
        "\n",
        "BASE_PRICE = 10.0\n",
        "LAMBDA = 1.0\n",
        "df['Price_Model2'] = BASE_PRICE * (1 + LAMBDA * df['Norm_Demand'])\n",
        "df['Price_Model2'] = df['Price_Model2'].clip(lower=BASE_PRICE*0.5, upper=BASE_PRICE*2)\n",
        "\n",
        "required_cols = ['Timestamp', 'Occupancy', 'Capacity', 'LotID', 'Price_Model2']\n",
        "df['Price_Model2'] = pd.to_numeric(df['Price_Model2'], errors='coerce').fillna(BASE_PRICE)\n",
        "df['Capacity'] = pd.to_numeric(df['Capacity'], errors='coerce').fillna(1)\n",
        "df['Occupancy'] = pd.to_numeric(df['Occupancy'], errors='coerce').fillna(0)\n",
        "df['LotID'] = df['LotID'].fillna('unknown')\n",
        "df['Timestamp'] = df['Timestamp'].fillna('1970-01-01 00:00:00')\n",
        "df = df.dropna(subset=required_cols)\n",
        "\n",
        "df[required_cols].to_csv(\"parking_stream_model2.csv\", index=False)\n",
        "print(\"Cleaned CSV saved for Pathway. No NaN or None in required columns.\")\n"
      ],
      "metadata": {
        "colab": {
          "base_uri": "https://localhost:8080/"
        },
        "id": "cAHZTqjTc9vZ",
        "outputId": "6bf16e02-fe3d-4a94-c962-5d81056a42d1"
      },
      "execution_count": null,
      "outputs": [
        {
          "output_type": "stream",
          "name": "stdout",
          "text": [
            "Cleaned CSV saved for Pathway. No NaN or None in required columns.\n"
          ]
        }
      ]
    },
    {
      "cell_type": "code",
      "source": [
        "import pathway as pw\n",
        "from bokeh.plotting import figure\n",
        "from bokeh.io import output_notebook\n",
        "\n",
        "output_notebook()\n",
        "\n",
        "class ParkingSchema(pw.Schema):\n",
        "    Timestamp: str\n",
        "    Occupancy: int\n",
        "    Capacity: int\n",
        "    LotID: str\n",
        "    Price_Model2: float\n",
        "\n",
        "data = pw.demo.replay_csv(\n",
        "    \"parking_stream_model2.csv\",\n",
        "    schema=ParkingSchema,\n",
        "    input_rate=100\n",
        ")\n",
        "\n",
        "fmt = \"%Y-%m-%d %H:%M:%S\"\n",
        "data_with_time = data.with_columns(\n",
        "    t = data.Timestamp.dt.strptime(fmt)\n",
        ")\n",
        "\n",
        "result = data_with_time.select(\n",
        "    t = data_with_time.t,\n",
        "    LotID = data_with_time.LotID,\n",
        "    Price_Model2 = data_with_time.Price_Model2\n",
        ")\n",
        "\n",
        "def price_plotter(source):\n",
        "    fig = figure(\n",
        "        height=400,\n",
        "        width=800,\n",
        "        title=\"Model 2: Demand-Based Price per Lot (Pathway Streamed)\",\n",
        "        x_axis_type=\"datetime\",\n",
        "    )\n",
        "    # Plot all lots\n",
        "    lots = list(source.data['LotID'])\n",
        "    unique_lots = list(set(lots))\n",
        "    from bokeh.palettes import Category10, Category20\n",
        "    colors = list(Category10[10]) + list(Category20[20])\n",
        "    for i, lot in enumerate(unique_lots):\n",
        "        mask = [idx for idx, l in enumerate(lots) if l == lot]\n",
        "        if mask:\n",
        "            fig.line(\n",
        "                [source.data['t'][m] for m in mask],\n",
        "                [source.data['Price_Model2'][m] for m in mask],\n",
        "                line_width=2,\n",
        "                color=colors[i % len(colors)],\n",
        "                legend_label=f\"Lot {lot}\"\n",
        "            )\n",
        "    if unique_lots:\n",
        "        fig.legend.location = \"top_left\"\n",
        "    fig.xaxis.axis_label = 'Time'\n",
        "    fig.yaxis.axis_label = 'Price ($)'\n",
        "    return fig\n",
        "\n",
        "# This will display the plot interactively as Pathway streams data\n",
        "viz = result.plot(price_plotter, sorting_col=\"t\")\n",
        "\n",
        "pw.run()\n"
      ],
      "metadata": {
        "colab": {
          "base_uri": "https://localhost:8080/",
          "height": 69,
          "referenced_widgets": [
            "4a3fcbc5199b4e089cd9ed8483f7ea7d",
            "27167b5a57ad400088001c1d2e662686"
          ]
        },
        "id": "oa1e3f5Vf-kO",
        "outputId": "4d0dcf2c-b7ee-4fc0-a031-6d11ceb0b7f3"
      },
      "execution_count": null,
      "outputs": [
        {
          "output_type": "display_data",
          "data": {
            "text/plain": [
              "Output()"
            ],
            "application/vnd.jupyter.widget-view+json": {
              "version_major": 2,
              "version_minor": 0,
              "model_id": "4a3fcbc5199b4e089cd9ed8483f7ea7d"
            }
          },
          "metadata": {}
        },
        {
          "output_type": "stream",
          "name": "stderr",
          "text": [
            "WARNING:pathway_engine.connectors.monitoring:PythonReader: Closing the data source\n",
            "WARNING:pathway_engine.connectors.monitoring:PythonReader: Closing the data source\n",
            "WARNING:pathway_engine.connectors.monitoring:PythonReader: Closing the data source\n"
          ]
        },
        {
          "output_type": "display_data",
          "data": {
            "text/plain": [],
            "text/html": [
              "<pre style=\"white-space:pre;overflow-x:auto;line-height:normal;font-family:Menlo,'DejaVu Sans Mono',consolas,'Courier New',monospace\"></pre>\n"
            ]
          },
          "metadata": {}
        }
      ]
    }
  ],
  "metadata": {
    "colab": {
      "provenance": []
    },
    "kaggle": {
      "accelerator": "none",
      "dataSources": [
        {
          "datasetId": 7749157,
          "sourceId": 12294858,
          "sourceType": "datasetVersion"
        }
      ],
      "dockerImageVersionId": 31040,
      "isGpuEnabled": false,
      "isInternetEnabled": true,
      "language": "python",
      "sourceType": "notebook"
    },
    "kernelspec": {
      "display_name": "Python (pathway_env)",
      "language": "python",
      "name": "pathway_env"
    },
    "language_info": {
      "codemirror_mode": {
        "name": "ipython",
        "version": 3
      },
      "file_extension": ".py",
      "mimetype": "text/x-python",
      "name": "python",
      "nbconvert_exporter": "python",
      "pygments_lexer": "ipython3",
      "version": "3.12.3"
    },
    "widgets": {
      "application/vnd.jupyter.widget-state+json": {
        "4a3fcbc5199b4e089cd9ed8483f7ea7d": {
          "model_module": "@jupyter-widgets/output",
          "model_name": "OutputModel",
          "model_module_version": "1.0.0",
          "state": {
            "_dom_classes": [],
            "_model_module": "@jupyter-widgets/output",
            "_model_module_version": "1.0.0",
            "_model_name": "OutputModel",
            "_view_count": null,
            "_view_module": "@jupyter-widgets/output",
            "_view_module_version": "1.0.0",
            "_view_name": "OutputView",
            "layout": "IPY_MODEL_27167b5a57ad400088001c1d2e662686",
            "msg_id": "",
            "outputs": [
              {
                "output_type": "display_data",
                "data": {
                  "text/plain": "                                            PATHWAY PROGRESS DASHBOARD                                             \n                                                                                                                   \n   \u001b[1m             \u001b[0m \u001b[1m \u001b[0m\u001b[1m       no.\u001b[0m\u001b[1m \u001b[0m \u001b[1m             \u001b[0m \u001b[1m            \u001b[0m  \u001b[1m          \u001b[0m \u001b[1m \u001b[0m\u001b[1m latency\u001b[0m\u001b[1m \u001b[0m \u001b[1m          \u001b[0m \u001b[1m          \u001b[0m \u001b[1m          \u001b[0m   \n   \u001b[1m             \u001b[0m \u001b[1m \u001b[0m\u001b[1m  messages\u001b[0m\u001b[1m \u001b[0m \u001b[1m             \u001b[0m \u001b[1m            \u001b[0m  \u001b[1m          \u001b[0m \u001b[1m \u001b[0m\u001b[1m to wall\u001b[0m\u001b[1m \u001b[0m \u001b[1m \u001b[0m\u001b[1m  lag to\u001b[0m\u001b[1m \u001b[0m \u001b[1m          \u001b[0m \u001b[1m          \u001b[0m   \n   \u001b[1m             \u001b[0m \u001b[1m \u001b[0m\u001b[1m    in the\u001b[0m\u001b[1m \u001b[0m \u001b[1m             \u001b[0m \u001b[1m            \u001b[0m  \u001b[1m          \u001b[0m \u001b[1m \u001b[0m\u001b[1m   clock\u001b[0m\u001b[1m \u001b[0m \u001b[1m \u001b[0m\u001b[1m   input\u001b[0m\u001b[1m \u001b[0m \u001b[1m \u001b[0m\u001b[1m   total\u001b[0m\u001b[1m \u001b[0m \u001b[1m \u001b[0m\u001b[1m current\u001b[0m\u001b[1m \u001b[0m   \n   \u001b[1m             \u001b[0m \u001b[1m \u001b[0m\u001b[1m      last\u001b[0m\u001b[1m \u001b[0m \u001b[1m \u001b[0m\u001b[1min the last\u001b[0m\u001b[1m \u001b[0m \u001b[1m \u001b[0m\u001b[1m     since\u001b[0m\u001b[1m \u001b[0m  \u001b[1m \u001b[0m\u001b[1moperator\u001b[0m\u001b[1m \u001b[0m \u001b[1m \u001b[0m\u001b[1m    [ms]\u001b[0m\u001b[1m \u001b[0m \u001b[1m \u001b[0m\u001b[1m    [ms]\u001b[0m\u001b[1m \u001b[0m \u001b[1m \u001b[0m\u001b[1m    rows\u001b[0m\u001b[1m \u001b[0m \u001b[1m \u001b[0m\u001b[1m    rows\u001b[0m\u001b[1m \u001b[0m   \n   \u001b[1m \u001b[0m\u001b[1mconnector  \u001b[0m\u001b[1m \u001b[0m \u001b[1m \u001b[0m\u001b[1m minibatch\u001b[0m\u001b[1m \u001b[0m \u001b[1m \u001b[0m\u001b[1m     minute\u001b[0m\u001b[1m \u001b[0m \u001b[1m \u001b[0m\u001b[1m     start\u001b[0m\u001b[1m \u001b[0m  ──────────────────────────────────────────────────────   \n   ─────────────────────────────────────────────────────   input             3                                     \n    PythonRead…     finished         18368        18368    output            3          0                          \n    PythonRead…     finished         18368        18368                                                            \n    PythonRead…            1          5720        18351  \u001b[2;3m   Above you can see the latency of input and output    \u001b[0m  \n                                                         \u001b[2;3m  operators. The latency is measured as the difference  \u001b[0m  \n                                                         \u001b[2;3m between the time when the operator processed the data  \u001b[0m  \n                                                         \u001b[2;3m      and the time when pathway acquired the data.      \u001b[0m  \n                                                                                                                   \n                                                                                                                   \n                                                                                                                   \n                                                                                                                   \n                                                                                                                   \n                                                                                                                   \n                                                                                                                   \n                                                                                                                   \n                                                                                                                   \n                                                                                                                   \n                                                                                                                   \n                                                                                                                   \n                                                                                                                   \n                                                                                                                   \n                                                                                                                   \n                                                                                                                   \n                                                                                                                   \n                                                                                                                   \n                                                                                                                   \n                                                                                                                   \n                                                                                                                   \n                                                                                                                   \n                                                                                                                   \n                                                                                                                   \n                                                                                                                   \n                                                                                                                   \n                                                                                                                   \n                                                                                                                   \n                                                                                                                   \n                                                                                                                   \n                                                                                                                   \n                                                                                                                   \n                                                                                                                   \n                                                                                                                   \n                                                                                                                   \n                                                                                                                   \n                                                       LOGS                                                        \n  \u001b[2;36m[07/09/25 14:19:28]\u001b[0m\u001b[2;36m \u001b[0m\u001b[33mWARNING \u001b[0m PythonReader: Closing the data source                                               \n  \u001b[2;36m                   \u001b[0m\u001b[2;36m \u001b[0m\u001b[33mWARNING \u001b[0m PythonReader: Closing the data source                                               \n                                                                                                                   \n                                                                                                                   \n                                                                                                                   \n                                                                                                                   \n                                                                                                                   \n                                                                                                                   \n                                                                                                                   \n                                                                                                                   \n                                                                                                                   \n                                                                                                                   \n                                                                                                                   \n                                                                                                                   \n                                                                                                                   \n                                                                                                                   \n                                                                                                                   \n                                                                                                                   \n                                                                                                                   \n                                                                                                                   \n                                                                                                                   \n                                                                                                                   \n                                                                                                                   \n                                                                                                                   \n                                                                                                                   \n                                                                                                                   \n                                                                                                                   \n                                                                                                                   \n                                                                                                                   \n                                                                                                                   \n                                                                                                                   \n                                                                                                                   \n                                                                                                                   \n                                                                                                                   \n                                                                                                                   \n                                                                                                                   \n                                                                                                                   \n                                                                                                                   \n                                                                                                                   \n                                                                                                                   \n                                                                                                                   \n                                                                                                                   \n                                                                                                                   \n                                                                                                                   \n                                                                                                                   \n                                                                                                                   \n                                                                                                                   \n                                                                                                                   \n                                                                                                                   \n",
                  "text/html": "<pre style=\"white-space:pre;overflow-x:auto;line-height:normal;font-family:Menlo,'DejaVu Sans Mono',consolas,'Courier New',monospace\">                                            PATHWAY PROGRESS DASHBOARD                                             \n                                                                                                                   \n   <span style=\"font-weight: bold\">             </span> <span style=\"font-weight: bold\">        no. </span> <span style=\"font-weight: bold\">             </span> <span style=\"font-weight: bold\">            </span>  <span style=\"font-weight: bold\">          </span> <span style=\"font-weight: bold\">  latency </span> <span style=\"font-weight: bold\">          </span> <span style=\"font-weight: bold\">          </span> <span style=\"font-weight: bold\">          </span>   \n   <span style=\"font-weight: bold\">             </span> <span style=\"font-weight: bold\">   messages </span> <span style=\"font-weight: bold\">             </span> <span style=\"font-weight: bold\">            </span>  <span style=\"font-weight: bold\">          </span> <span style=\"font-weight: bold\">  to wall </span> <span style=\"font-weight: bold\">   lag to </span> <span style=\"font-weight: bold\">          </span> <span style=\"font-weight: bold\">          </span>   \n   <span style=\"font-weight: bold\">             </span> <span style=\"font-weight: bold\">     in the </span> <span style=\"font-weight: bold\">             </span> <span style=\"font-weight: bold\">            </span>  <span style=\"font-weight: bold\">          </span> <span style=\"font-weight: bold\">    clock </span> <span style=\"font-weight: bold\">    input </span> <span style=\"font-weight: bold\">    total </span> <span style=\"font-weight: bold\">  current </span>   \n   <span style=\"font-weight: bold\">             </span> <span style=\"font-weight: bold\">       last </span> <span style=\"font-weight: bold\"> in the last </span> <span style=\"font-weight: bold\">      since </span>  <span style=\"font-weight: bold\"> operator </span> <span style=\"font-weight: bold\">     [ms] </span> <span style=\"font-weight: bold\">     [ms] </span> <span style=\"font-weight: bold\">     rows </span> <span style=\"font-weight: bold\">     rows </span>   \n   <span style=\"font-weight: bold\"> connector   </span> <span style=\"font-weight: bold\">  minibatch </span> <span style=\"font-weight: bold\">      minute </span> <span style=\"font-weight: bold\">      start </span>  ──────────────────────────────────────────────────────   \n   ─────────────────────────────────────────────────────   input             3                                     \n    PythonRead…     finished         18368        18368    output            3          0                          \n    PythonRead…     finished         18368        18368                                                            \n    PythonRead…            1          5720        18351  <span style=\"color: #7f7f7f; text-decoration-color: #7f7f7f; font-style: italic\">   Above you can see the latency of input and output    </span>  \n                                                         <span style=\"color: #7f7f7f; text-decoration-color: #7f7f7f; font-style: italic\">  operators. The latency is measured as the difference  </span>  \n                                                         <span style=\"color: #7f7f7f; text-decoration-color: #7f7f7f; font-style: italic\"> between the time when the operator processed the data  </span>  \n                                                         <span style=\"color: #7f7f7f; text-decoration-color: #7f7f7f; font-style: italic\">      and the time when pathway acquired the data.      </span>  \n                                                                                                                   \n                                                                                                                   \n                                                                                                                   \n                                                                                                                   \n                                                                                                                   \n                                                                                                                   \n                                                                                                                   \n                                                                                                                   \n                                                                                                                   \n                                                                                                                   \n                                                                                                                   \n                                                                                                                   \n                                                                                                                   \n                                                                                                                   \n                                                                                                                   \n                                                                                                                   \n                                                                                                                   \n                                                                                                                   \n                                                                                                                   \n                                                                                                                   \n                                                                                                                   \n                                                                                                                   \n                                                                                                                   \n                                                                                                                   \n                                                                                                                   \n                                                                                                                   \n                                                                                                                   \n                                                                                                                   \n                                                                                                                   \n                                                                                                                   \n                                                                                                                   \n                                                                                                                   \n                                                                                                                   \n                                                                                                                   \n                                                                                                                   \n                                                                                                                   \n                                                       LOGS                                                        \n  <span style=\"color: #7fbfbf; text-decoration-color: #7fbfbf\">[07/09/25 14:19:28] </span><span style=\"color: #808000; text-decoration-color: #808000\">WARNING </span> PythonReader: Closing the data source                                               \n  <span style=\"color: #7fbfbf; text-decoration-color: #7fbfbf\">                    </span><span style=\"color: #808000; text-decoration-color: #808000\">WARNING </span> PythonReader: Closing the data source                                               \n                                                                                                                   \n                                                                                                                   \n                                                                                                                   \n                                                                                                                   \n                                                                                                                   \n                                                                                                                   \n                                                                                                                   \n                                                                                                                   \n                                                                                                                   \n                                                                                                                   \n                                                                                                                   \n                                                                                                                   \n                                                                                                                   \n                                                                                                                   \n                                                                                                                   \n                                                                                                                   \n                                                                                                                   \n                                                                                                                   \n                                                                                                                   \n                                                                                                                   \n                                                                                                                   \n                                                                                                                   \n                                                                                                                   \n                                                                                                                   \n                                                                                                                   \n                                                                                                                   \n                                                                                                                   \n                                                                                                                   \n                                                                                                                   \n                                                                                                                   \n                                                                                                                   \n                                                                                                                   \n                                                                                                                   \n                                                                                                                   \n                                                                                                                   \n                                                                                                                   \n                                                                                                                   \n                                                                                                                   \n                                                                                                                   \n                                                                                                                   \n                                                                                                                   \n                                                                                                                   \n                                                                                                                   \n                                                                                                                   \n                                                                                                                   \n                                                                                                                   \n                                                                                                                   \n</pre>\n"
                },
                "metadata": {}
              }
            ],
            "tabbable": null,
            "tooltip": null
          }
        },
        "27167b5a57ad400088001c1d2e662686": {
          "model_module": "@jupyter-widgets/base",
          "model_name": "LayoutModel",
          "model_module_version": "2.0.0",
          "state": {
            "_model_module": "@jupyter-widgets/base",
            "_model_module_version": "2.0.0",
            "_model_name": "LayoutModel",
            "_view_count": null,
            "_view_module": "@jupyter-widgets/base",
            "_view_module_version": "2.0.0",
            "_view_name": "LayoutView",
            "align_content": null,
            "align_items": null,
            "align_self": null,
            "border_bottom": null,
            "border_left": null,
            "border_right": null,
            "border_top": null,
            "bottom": null,
            "display": null,
            "flex": null,
            "flex_flow": null,
            "grid_area": null,
            "grid_auto_columns": null,
            "grid_auto_flow": null,
            "grid_auto_rows": null,
            "grid_column": null,
            "grid_gap": null,
            "grid_row": null,
            "grid_template_areas": null,
            "grid_template_columns": null,
            "grid_template_rows": null,
            "height": null,
            "justify_content": null,
            "justify_items": null,
            "left": null,
            "margin": null,
            "max_height": null,
            "max_width": null,
            "min_height": null,
            "min_width": null,
            "object_fit": null,
            "object_position": null,
            "order": null,
            "overflow": null,
            "padding": null,
            "right": null,
            "top": null,
            "visibility": null,
            "width": null
          }
        }
      }
    }
  },
  "nbformat": 4,
  "nbformat_minor": 0
}