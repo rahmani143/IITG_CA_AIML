{
  "cells": [
    {
      "cell_type": "markdown",
      "metadata": {
        "id": "VTvr4_sti9Am"
      },
      "source": [
        "# Inroduction\n"
      ]
    },
    {
      "cell_type": "markdown",
      "metadata": {
        "id": "Rm8HKcygh4L2"
      },
      "source": [
        "This sample notebook demonstrates how to process live data streams using Pathway. The dataset used here is a subset of the one provided — specifically, it includes data for only a single parking spot. You are expected to implement your model across all parking spots.\n",
        "\n",
        "Please note that the pricing model used in this notebook is a simple baseline. You are expected to design and implement a more advanced and effective model.\n"
      ]
    },
    {
      "cell_type": "code",
      "execution_count": 191,
      "metadata": {
        "colab": {
          "base_uri": "https://localhost:8080/"
        },
        "id": "LlwkKnB50IGF",
        "outputId": "cfc5ac92-c777-4f12-b46e-83d42b86c525"
      },
      "outputs": [
        {
          "output_type": "stream",
          "name": "stdout",
          "text": [
            "Hello\n"
          ]
        }
      ],
      "source": [
        "!pip install pathway bokeh panel --quiet\n",
        "\n",
        "print(\"Hello\")"
      ]
    },
    {
      "cell_type": "code",
      "execution_count": 192,
      "metadata": {
        "colab": {
          "base_uri": "https://localhost:8080/"
        },
        "id": "pHuc1nkJveN3",
        "outputId": "70993932-d8fd-4b32-a110-48ec7d6d67fb"
      },
      "outputs": [
        {
          "output_type": "stream",
          "name": "stdout",
          "text": [
            "Hello\n"
          ]
        }
      ],
      "source": [
        "import numpy as np\n",
        "import pandas as pd\n",
        "import matplotlib.pyplot as plt\n",
        "import datetime\n",
        "from datetime import datetime\n",
        "import pathway as pw\n",
        "import bokeh.plotting\n",
        "import panel as pn\n",
        "import numpy as np\n",
        "import pandas as pd\n",
        "import pathway as pw\n",
        "import bokeh.plotting\n",
        "import panel as pn\n",
        "from bokeh.io import output_notebook, show\n",
        "\n",
        "print(\"Hello\")"
      ]
    },
    {
      "cell_type": "code",
      "source": [
        "from google.colab import drive\n",
        "drive.mount('/content/drive')"
      ],
      "metadata": {
        "id": "u6GTpKzSHx9W",
        "outputId": "a5e4eed3-85cd-4497-f843-15df8785156c",
        "colab": {
          "base_uri": "https://localhost:8080/"
        }
      },
      "execution_count": 193,
      "outputs": [
        {
          "output_type": "stream",
          "name": "stdout",
          "text": [
            "Drive already mounted at /content/drive; to attempt to forcibly remount, call drive.mount(\"/content/drive\", force_remount=True).\n"
          ]
        }
      ]
    },
    {
      "cell_type": "markdown",
      "metadata": {
        "id": "gGpZl1FxjFXE"
      },
      "source": [
        "# Step 1: Importing and Preprocessing the Data"
      ]
    },
    {
      "cell_type": "code",
      "execution_count": 194,
      "metadata": {
        "id": "4D6geoV9veN3",
        "outputId": "fb52f18b-8ddd-4381-a2b6-d29d6543dfe7",
        "colab": {
          "base_uri": "https://localhost:8080/"
        }
      },
      "outputs": [
        {
          "output_type": "stream",
          "name": "stdout",
          "text": [
            "Hello\n"
          ]
        },
        {
          "output_type": "execute_result",
          "data": {
            "text/plain": [
              "Index(['ID', 'SystemCodeNumber', 'Capacity', 'Latitude', 'Longitude',\n",
              "       'Occupancy', 'VehicleType', 'TrafficConditionNearby', 'QueueLength',\n",
              "       'IsSpecialDay', 'LastUpdatedDate', 'LastUpdatedTime', 'Timestamp',\n",
              "       'LotID'],\n",
              "      dtype='object')"
            ]
          },
          "metadata": {},
          "execution_count": 194
        }
      ],
      "source": [
        "# Load the dataset (replace with your actual file if needed)\n",
        "df = pd.read_csv('/content/drive/MyDrive/dataset.csv')\n",
        "\n",
        "# Combine date and time columns if needed\n",
        "if 'LastUpdatedDate' in df.columns and 'LastUpdatedTime' in df.columns:\n",
        "    df['Timestamp'] = pd.to_datetime(\n",
        "        df['LastUpdatedDate'] + ' ' + df['LastUpdatedTime'],\n",
        "        format='%d-%m-%Y %H:%M:%S'\n",
        "    )\n",
        "else:\n",
        "    df['Timestamp'] = pd.to_datetime(df['Timestamp'])\n",
        "\n",
        "# Sort by time\n",
        "df = df.sort_values('Timestamp').reset_index(drop=True)\n",
        "\n",
        "# Ensure a unique lot identifier column (LotID)\n",
        "if 'LotID' not in df.columns:\n",
        "    df['LotID'] = df['Latitude'].astype(str) + '_' + df['Longitude'].astype(str)\n",
        "\n",
        "# Save a streaming-ready CSV for Pathway\n",
        "df[[\"Timestamp\", \"Occupancy\", \"Capacity\", \"LotID\"]].to_csv(\"parking_stream_model2.csv\", index=False)\n",
        "\n",
        "print(\"Hello\")\n",
        "df.columns\n",
        "\n",
        "# You can find the sample dataset here: https://drive.google.com/file/d/1D479FLjp9aO3Mg8g6Lpj9oRViWacurA6/view?usp=sharing"
      ]
    },
    {
      "cell_type": "code",
      "source": [
        "class ParkingSchema(pw.Schema):\n",
        "    Timestamp: str\n",
        "    Occupancy: int\n",
        "    Capacity: int\n",
        "    LotID: str\n",
        "    Price_Model2: float"
      ],
      "metadata": {
        "id": "MSoJbkceD7lk"
      },
      "execution_count": 195,
      "outputs": []
    },
    {
      "cell_type": "code",
      "execution_count": 196,
      "metadata": {
        "id": "a4LxMh4xziMv"
      },
      "outputs": [],
      "source": [
        "# Load the data as a simulated stream using Pathway's replay_csv function\n",
        "# This replays the CSV data at a controlled input rate to mimic real-time streaming\n",
        "# input_rate=1000 means approximately 1000 rows per second will be ingested into the stream.\n",
        "\n",
        "data = pw.demo.replay_csv(\n",
        "    \"parking_stream_model2.csv\",\n",
        "    schema=ParkingSchema,\n",
        "    input_rate=1000  # Adjust as needed for speed\n",
        ")"
      ]
    },
    {
      "cell_type": "code",
      "execution_count": 197,
      "metadata": {
        "id": "IkBP_AA-zjec",
        "outputId": "c4821cfa-1f53-4990-b3ad-590c0ff99605",
        "colab": {
          "base_uri": "https://localhost:8080/"
        }
      },
      "outputs": [
        {
          "output_type": "stream",
          "name": "stdout",
          "text": [
            "Hello\n"
          ]
        }
      ],
      "source": [
        "# Define the datetime format to parse the 'Timestamp' column\n",
        "fmt = \"%Y-%m-%d %H:%M:%S\"\n",
        "\n",
        "data_with_time = data.with_columns(\n",
        "    t = data.Timestamp.dt.strptime(fmt),\n",
        "    day = data.Timestamp.dt.strptime(fmt).dt.strftime(\"%Y-%m-%dT00:00:00\")\n",
        ")\n",
        "\n",
        "\n",
        "print(\"Hello\")"
      ]
    },
    {
      "cell_type": "code",
      "source": [
        "# Clone your repo (first time)\n",
        "!git clone https://github.com/rahmani143/IITG_CA_AIML.git\n",
        "\n",
        "# After editing, commit and push (replace with your info)\n",
        "!cd IITG_CA_AIML && git add . && git commit -m \"Update from Colab\" && git push\n"
      ],
      "metadata": {
        "colab": {
          "base_uri": "https://localhost:8080/"
        },
        "id": "lXGfqs1cQh62",
        "outputId": "d3df196b-e41a-4c22-b45b-f6c2e628314d"
      },
      "execution_count": 198,
      "outputs": [
        {
          "output_type": "stream",
          "name": "stdout",
          "text": [
            "fatal: destination path 'IITG_CA_AIML' already exists and is not an empty directory.\n",
            "Author identity unknown\n",
            "\n",
            "*** Please tell me who you are.\n",
            "\n",
            "Run\n",
            "\n",
            "  git config --global user.email \"you@example.com\"\n",
            "  git config --global user.name \"Your Name\"\n",
            "\n",
            "to set your account's default identity.\n",
            "Omit --global to set the identity only in this repository.\n",
            "\n",
            "fatal: unable to auto-detect email address (got 'root@c1774eaf447d.(none)')\n"
          ]
        }
      ]
    },
    {
      "cell_type": "code",
      "source": [],
      "metadata": {
        "id": "8wHaRM-AN8lQ"
      },
      "execution_count": 198,
      "outputs": []
    },
    {
      "cell_type": "markdown",
      "metadata": {
        "id": "JNDR7r4DqkhI"
      },
      "source": [
        "# Step 2: Making a simple pricing function"
      ]
    },
    {
      "cell_type": "code",
      "execution_count": 199,
      "metadata": {
        "id": "MznsSjanveN5",
        "colab": {
          "base_uri": "https://localhost:8080/"
        },
        "outputId": "8e7a04b7-3fdf-4f0c-bc38-0cd4436a4fac"
      },
      "outputs": [
        {
          "output_type": "stream",
          "name": "stdout",
          "text": [
            "DEBUG: Rows with NaN in TrafficConditionNearby:\n",
            "                Timestamp                    LotID  TrafficConditionNearby\n",
            "0     2016-10-04 07:59:00  26.14453614_91.73617216                     NaN\n",
            "1     2016-10-04 07:59:00  26.14001386_91.73099967                     NaN\n",
            "2     2016-10-04 07:59:00   20.0000347_78.00000286                     NaN\n",
            "3     2016-10-04 07:59:00  26.14004753_91.73097233                     NaN\n",
            "4     2016-10-04 07:59:00  26.15050395_91.73353109                     NaN\n",
            "...                   ...                      ...                     ...\n",
            "18363 2016-12-19 16:30:00   26.14901995_91.7395035                     NaN\n",
            "18364 2016-12-19 16:30:00  26.14449459_91.73620513                     NaN\n",
            "18365 2016-12-19 16:30:00  26.14453614_91.73617216                     NaN\n",
            "18366 2016-12-19 16:30:00  26.14749998_91.72797778                     NaN\n",
            "18367 2016-12-19 16:30:00  26.15050395_91.73353109                     NaN\n",
            "\n",
            "[18368 rows x 3 columns]\n",
            "Model 2 demand-based pricing calculated, cleaned, and saved.\n"
          ]
        }
      ],
      "source": [
        "\n",
        "\n",
        "cols_to_numeric = ['Occupancy', 'Capacity', 'QueueLength', 'TrafficConditionNearby', 'IsSpecialDay']\n",
        "for col in cols_to_numeric:\n",
        "    df[col] = pd.to_numeric(df[col], errors='coerce')\n",
        "\n",
        "# Debug: Print rows with NaN or zero in required columns\n",
        "for col in cols_to_numeric:\n",
        "    nan_rows = df[df[col].isna()]\n",
        "    if not nan_rows.empty:\n",
        "        print(f\"DEBUG: Rows with NaN in {col}:\")\n",
        "        print(nan_rows[['Timestamp', 'LotID', col]])\n",
        "zero_cap = df[df['Capacity'] == 0]\n",
        "if not zero_cap.empty:\n",
        "    print(\"DEBUG: Rows with zero Capacity:\")\n",
        "    print(zero_cap[['Timestamp', 'LotID', 'Capacity']])\n",
        "\n",
        "# Drop rows with NaN or zero in required columns\n",
        "df = df.dropna(subset=cols_to_numeric)\n",
        "df = df[df['Capacity'] != 0]\n",
        "\n",
        "vehicle_type_weights = {'car': 1.0, 'bike': 0.5, 'truck': 1.5}\n",
        "df['VehicleTypeWeight'] = df['VehicleType'].map(vehicle_type_weights).fillna(1.0)\n",
        "\n",
        "df['Norm_Occupancy'] = df['Occupancy'] / df['Capacity']\n",
        "df['Norm_Queue'] = df['QueueLength'] / df['QueueLength'].max()\n",
        "df['Norm_Traffic'] = df['TrafficConditionNearby'] / df['TrafficConditionNearby'].max()\n",
        "\n",
        "ALPHA = 1.0\n",
        "BETA = 0.5\n",
        "GAMMA = 0.3\n",
        "DELTA = 0.8\n",
        "EPSILON = 0.7\n",
        "\n",
        "df['Raw_Demand'] = (\n",
        "    ALPHA * df['Norm_Occupancy'] +\n",
        "    BETA * df['Norm_Queue'] -\n",
        "    GAMMA * df['Norm_Traffic'] +\n",
        "    DELTA * df['IsSpecialDay'] +\n",
        "    EPSILON * df['VehicleTypeWeight']\n",
        ")\n",
        "\n",
        "if df['Raw_Demand'].max() != df['Raw_Demand'].min():\n",
        "    df['Norm_Demand'] = (df['Raw_Demand'] - df['Raw_Demand'].min()) / (df['Raw_Demand'].max() - df['Raw_Demand'].min())\n",
        "else:\n",
        "    df['Norm_Demand'] = 0.0\n",
        "\n",
        "BASE_PRICE = 10.0\n",
        "LAMBDA = 1.0\n",
        "df['Price_Model2'] = BASE_PRICE * (1 + LAMBDA * df['Norm_Demand'])\n",
        "df['Price_Model2'] = df['Price_Model2'].clip(lower=BASE_PRICE*0.5, upper=BASE_PRICE*2)\n",
        "\n",
        "# Final debug: Print and drop any rows with invalid Price_Model2\n",
        "df['Price_Model2'] = pd.to_numeric(df['Price_Model2'], errors='coerce')\n",
        "bad_rows = df[df['Price_Model2'].isna()]\n",
        "if not bad_rows.empty:\n",
        "    print(\"DEBUG: Dropping rows with invalid Price_Model2 before saving for Pathway:\")\n",
        "    print(bad_rows[['Timestamp', 'LotID', 'Price_Model2']])\n",
        "df = df[df['Price_Model2'].notna()]\n",
        "\n",
        "df[[\"Timestamp\", \"Occupancy\", \"Capacity\", \"LotID\", \"Price_Model2\"]].to_csv(\"parking_stream_model2.csv\", index=False)\n",
        "print(\"Model 2 demand-based pricing calculated, cleaned, and saved.\")\n"
      ]
    },
    {
      "cell_type": "code",
      "source": [
        "\n",
        "# ---- Clean and map TrafficConditionNearby ----\n",
        "def extract_traffic(val):\n",
        "    if isinstance(val, str):\n",
        "        match = re.search(r'(low|average|high)', val)\n",
        "        if match:\n",
        "            return match.group(1)\n",
        "        else:\n",
        "            return None\n",
        "    return val\n",
        "\n",
        "traffic_map = {'low': 0, 'average': 1, 'high': 2}\n",
        "df['TrafficConditionNearby'] = df['TrafficConditionNearby'].apply(extract_traffic)\n",
        "df['TrafficConditionNearby'] = df['TrafficConditionNearby'].map(traffic_map)\n",
        "df['TrafficConditionNearby'] = df['TrafficConditionNearby'].fillna(0)\n",
        "\n",
        "# ---- Ensure all required columns are numeric and fill missing values ----\n",
        "BASE_PRICE = 10.0\n",
        "required_cols = ['Timestamp', 'Occupancy', 'Capacity', 'LotID', 'Price_Model2']\n",
        "\n",
        "df['Capacity'] = pd.to_numeric(df['Capacity'], errors='coerce').fillna(1)\n",
        "df['Occupancy'] = pd.to_numeric(df['Occupancy'], errors='coerce').fillna(0)\n",
        "df['QueueLength'] = pd.to_numeric(df['QueueLength'], errors='coerce').fillna(0)\n",
        "df['TrafficConditionNearby'] = pd.to_numeric(df['TrafficConditionNearby'], errors='coerce').fillna(0)\n",
        "df['IsSpecialDay'] = pd.to_numeric(df['IsSpecialDay'], errors='coerce').fillna(0)\n",
        "\n",
        "# ---- Vehicle type weights ----\n",
        "vehicle_type_weights = {'car': 1.0, 'bike': 0.5, 'truck': 1.5}\n",
        "df['VehicleTypeWeight'] = df['VehicleType'].map(vehicle_type_weights).fillna(1.0)\n",
        "\n",
        "# ---- Feature engineering ----\n",
        "df['Norm_Occupancy'] = df['Occupancy'] / df['Capacity']\n",
        "df['Norm_Queue'] = df['QueueLength'] / (df['QueueLength'].max() if df['QueueLength'].max() != 0 else 1)\n",
        "df['Norm_Traffic'] = df['TrafficConditionNearby'] / (df['TrafficConditionNearby'].max() if df['TrafficConditionNearby'].max() != 0 else 1)\n",
        "\n",
        "# ---- Demand and price calculation ----\n",
        "ALPHA = 1.0\n",
        "BETA = 0.5\n",
        "GAMMA = 0.3\n",
        "DELTA = 0.8\n",
        "EPSILON = 0.7\n",
        "\n",
        "df['Raw_Demand'] = (\n",
        "    ALPHA * df['Norm_Occupancy'] +\n",
        "    BETA * df['Norm_Queue'] -\n",
        "    GAMMA * df['Norm_Traffic'] +\n",
        "    DELTA * df['IsSpecialDay'] +\n",
        "    EPSILON * df['VehicleTypeWeight']\n",
        ")\n",
        "\n",
        "if df['Raw_Demand'].max() != df['Raw_Demand'].min():\n",
        "    df['Norm_Demand'] = (df['Raw_Demand'] - df['Raw_Demand'].min()) / (df['Raw_Demand'].max() - df['Raw_Demand'].min())\n",
        "else:\n",
        "    df['Norm_Demand'] = 0.0\n",
        "\n",
        "LAMBDA = 1.0\n",
        "df['Price_Model2'] = BASE_PRICE * (1 + LAMBDA * df['Norm_Demand'])\n",
        "df['Price_Model2'] = df['Price_Model2'].clip(lower=BASE_PRICE*0.5, upper=BASE_PRICE*2)\n",
        "\n",
        "# ---- Final cleaning: ensure no NaN/None in required columns ----\n",
        "df['Price_Model2'] = pd.to_numeric(df['Price_Model2'], errors='coerce').fillna(BASE_PRICE)\n",
        "df['Capacity'] = pd.to_numeric(df['Capacity'], errors='coerce').fillna(1)\n",
        "df['Occupancy'] = pd.to_numeric(df['Occupancy'], errors='coerce').fillna(0)\n",
        "df['LotID'] = df['LotID'].fillna('unknown')\n",
        "df['Timestamp'] = df['Timestamp'].fillna('1970-01-01 00:00:00')\n",
        "\n",
        "# Drop any row that still has NaN in any required column (should be none now)\n",
        "df = df.dropna(subset=required_cols)\n",
        "\n",
        "# ---- Save for Pathway ----\n",
        "df[required_cols].to_csv(\"parking_stream_model2.csv\", index=False)\n",
        "print(\"Cleaned CSV saved for Pathway. No NaN or None in required columns.\")\n"
      ],
      "metadata": {
        "colab": {
          "base_uri": "https://localhost:8080/"
        },
        "id": "FC_qbc-_RxIY",
        "outputId": "636067e1-a49e-435b-c1d3-e4e6adf7b521"
      },
      "execution_count": 200,
      "outputs": [
        {
          "output_type": "stream",
          "name": "stdout",
          "text": [
            "Cleaned CSV saved for Pathway. No NaN or None in required columns.\n"
          ]
        }
      ]
    },
    {
      "cell_type": "markdown",
      "metadata": {
        "id": "E3sMSFtUqvax"
      },
      "source": [
        "\n",
        "\n",
        "# Step 3: Visualizing Daily Price Fluctuations with a Bokeh Plot"
      ]
    },
    {
      "cell_type": "markdown",
      "metadata": {
        "id": "POd-S7QMo9JA"
      },
      "source": [
        "**Note:** The Bokeh plot in the next cell will only be generated after you run the `pw.run()` cell (i.e., the final cell).\n"
      ]
    },
    {
      "cell_type": "code",
      "execution_count": 203,
      "metadata": {
        "id": "fOL3BJcGveN5"
      },
      "outputs": [],
      "source": [
        "# # # Activate the Panel extension to enable interactive visualizations\n",
        "# # pn.extension()\n",
        "\n",
        "# # Define a custom Bokeh plotting function that takes a data source (from Pathway) and returns a figure\n",
        "# def price_plotter(source):\n",
        "#     # Create a Bokeh figure with datetime x-axis\n",
        "#     fig = bokeh.plotting.figure(\n",
        "#         height=400,\n",
        "#         width=800,\n",
        "#         title=\"Pathway: Daily Parking Price\",\n",
        "#         x_axis_type=\"datetime\",  # Ensure time-based data is properly formatted on the x-axis\n",
        "#     )\n",
        "#     # Plot a line graph showing how the price evolves over time\n",
        "#     fig.line(\"t\", \"price\", source=source, line_width=2, color=\"navy\")\n",
        "\n",
        "#     # Overlay red circles at each data point for better visibility\n",
        "#     fig.circle(\"t\", \"price\", source=source, size=6, color=\"red\")\n",
        "\n",
        "#     return fig\n",
        "\n",
        "# # Use Pathway's built-in .plot() method to bind the data stream (delta_window) to the Bokeh plot\n",
        "# # - 'price_plotter' is the rendering function\n",
        "# # - 'sorting_col=\"t\"' ensures the data is plotted in time order\n",
        "# viz = delta_window.plot(price_plotter, sorting_col=\"t\")\n",
        "\n",
        "# # Create a Panel layout and make it servable as a web app\n",
        "# # This line enables the interactive plot to be displayed when the app is served\n",
        "# pn.Column(viz).servable()\n",
        "# print(\"Hello\")\n",
        "\n",
        "\n",
        "\n",
        "# edit 0:\n",
        "\n",
        "\n",
        "\n",
        "# import panel as pn\n",
        "# import bokeh.plotting\n",
        "\n",
        "# pn.extension('bokeh')\n",
        "\n",
        "# def price_plotter(source):\n",
        "#     fig = bokeh.plotting.figure(\n",
        "#         height=400,\n",
        "#         width=800,\n",
        "#         title=\"Model 2: Demand-Based Price per Lot (Real-Time)\",\n",
        "#         x_axis_type=\"datetime\",\n",
        "#     )\n",
        "#     lots = list(set(source.data['LotID']))\n",
        "#     colors = bokeh.palettes.Category10[10] + bokeh.palettes.Category20[20]\n",
        "#     legend_added = False  # Track if at least one legend is added\n",
        "#     for i, lot in enumerate(lots):\n",
        "#         mask = [l == lot for l in source.data['LotID']]\n",
        "#         # Only plot if this lot has data\n",
        "#         if any(mask):\n",
        "#             fig.line(\n",
        "#                 [t for t, m in zip(source.data['t'], mask) if m],\n",
        "#                 [p for p, m in zip(source.data['Price_Model2'], mask) if m],\n",
        "#                 line_width=2,\n",
        "#                 color=colors[i % len(colors)],\n",
        "#                 legend_label=f\"Lot {lot}\"\n",
        "#             )\n",
        "#             legend_added = True\n",
        "#     if legend_added:\n",
        "#         fig.legend.location = \"top_left\"\n",
        "#     fig.xaxis.axis_label = 'Time'\n",
        "#     fig.yaxis.axis_label = 'Price ($)'\n",
        "#     return fig\n",
        "\n",
        "# viz = data_with_time.plot(price_plotter, sorting_col=\"t\")\n",
        "# pn.Column(viz).servable()\n",
        "\n",
        "\n",
        "# edit 1:\n",
        "\n",
        "\n",
        "# from bokeh.plotting import figure, show, output_notebook\n",
        "# import bokeh.palettes\n",
        "\n",
        "# output_notebook()\n",
        "\n",
        "# def plot_model2(df):\n",
        "#     fig = figure(\n",
        "#         height=400,\n",
        "#         width=800,\n",
        "#         title=\"Model 2: Demand-Based Price per Lot\",\n",
        "#         x_axis_type=\"datetime\",\n",
        "#     )\n",
        "#     lots = df['LotID'].unique()\n",
        "#     palette = bokeh.palettes.Category10[10] + bokeh.palettes.Category20[20]\n",
        "#     for i, lot in enumerate(lots):\n",
        "#         lot_df = df[df['LotID'] == lot]\n",
        "#         fig.line(\n",
        "#             lot_df['Timestamp'],\n",
        "#             lot_df['Price_Model2'],\n",
        "#             line_width=2,\n",
        "#             color=palette[i % len(palette)],\n",
        "#             legend_label=f\"Lot {lot}\"\n",
        "#         )\n",
        "#     fig.legend.location = \"top_left\"\n",
        "#     fig.xaxis.axis_label = 'Time'\n",
        "#     fig.yaxis.axis_label = 'Price ($)'\n",
        "#     show(fig)\n",
        "\n",
        "# plot_model2(df)\n",
        "\n",
        "\n",
        "\n",
        "# edit 2:\n",
        "\n",
        "\n",
        "from bokeh.io import output_notebook, show\n",
        "from bokeh.plotting import figure\n",
        "import pandas as pd\n",
        "\n",
        "output_notebook()\n",
        "\n",
        "# Example: Load your data (replace with your own DataFrame)\n",
        "# df = pd.read_csv(\"parking_stream_model2.csv\")\n",
        "# For demonstration, let's create a dummy DataFrame:\n",
        "# df = pd.DataFrame({\n",
        "#     \"t\": pd.date_range(\"2024-07-01\", periods=10, freq=\"H\"),\n",
        "#     \"LotID\": [\"A\"]*5 + [\"B\"]*5,\n",
        "#     \"Price_Model2\": [10,12,11,13,12,10,11,12,13,14]\n",
        "# })\n",
        "\n",
        "# Replace the above with your actual DataFrame, e.g.:\n",
        "# df = data_with_time.to_pandas()  # If using Pathway's output\n",
        "\n",
        "def price_plotter(df):\n",
        "    fig = figure(\n",
        "        height=400,\n",
        "        width=800,\n",
        "        title=\"Model 2: Demand-Based Price per Lot (Real-Time)\",\n",
        "        x_axis_type=\"datetime\",\n",
        "    )\n",
        "    lots = df[\"LotID\"].unique()\n",
        "    colors = (list(getattr(__import__(\"bokeh.palettes\"), \"Category10\")[10]) +\n",
        "              list(getattr(__import__(\"bokeh.palettes\"), \"Category20\")[20]))\n",
        "    for i, lot in enumerate(lots):\n",
        "        lot_df = df[df[\"LotID\"] == lot]\n",
        "        fig.line(\n",
        "            lot_df[\"t\"],\n",
        "            lot_df[\"Price_Model2\"],\n",
        "            line_width=2,\n",
        "            color=colors[i % len(colors)],\n",
        "            legend_label=f\"Lot {lot}\"\n",
        "        )\n",
        "    fig.legend.location = \"top_left\"\n",
        "    fig.xaxis.axis_label = 'Time'\n",
        "    fig.yaxis.axis_label = 'Price ($)'\n",
        "    show(fig)\n",
        "\n",
        "# Example usage:\n",
        "# price_plotter(df)\n"
      ]
    },
    {
      "cell_type": "code",
      "execution_count": 204,
      "metadata": {
        "id": "0IHWGcX6veN6",
        "colab": {
          "base_uri": "https://localhost:8080/",
          "height": 208,
          "referenced_widgets": [
            "9a76ced9ac0940808d19c52c4fe9e030",
            "f40e27df141946c6b3f5d6d9c0b86d5c"
          ]
        },
        "outputId": "5e2f992f-49f4-4711-a6e2-e87167369f4d"
      },
      "outputs": [
        {
          "output_type": "display_data",
          "data": {
            "text/plain": [
              "Output()"
            ],
            "application/vnd.jupyter.widget-view+json": {
              "version_major": 2,
              "version_minor": 0,
              "model_id": "9a76ced9ac0940808d19c52c4fe9e030"
            }
          },
          "metadata": {}
        },
        {
          "output_type": "stream",
          "name": "stderr",
          "text": [
            "WARNING:pathway_engine.connectors.monitoring:PythonReader: Closing the data source\n",
            "WARNING:pathway_engine.connectors.monitoring:PythonReader: Closing the data source\n",
            "WARNING:pathway_engine.connectors.monitoring:PythonReader: Closing the data source\n",
            "WARNING:pathway_engine.connectors.monitoring:PythonReader: Closing the data source\n",
            "WARNING:pathway_engine.connectors.monitoring:PythonReader: Closing the data source\n",
            "WARNING:pathway_engine.connectors.monitoring:PythonReader: Closing the data source\n",
            "WARNING:pathway_engine.connectors.monitoring:PythonReader: Closing the data source\n",
            "WARNING:pathway_engine.connectors.monitoring:PythonReader: Closing the data source\n",
            "WARNING:pathway_engine.connectors.monitoring:PythonReader: Closing the data source\n",
            "WARNING:pathway_engine.connectors.monitoring:PythonReader: Closing the data source\n",
            "WARNING:pathway_engine.connectors.monitoring:PythonReader: Closing the data source\n"
          ]
        },
        {
          "output_type": "display_data",
          "data": {
            "text/plain": [],
            "text/html": [
              "<pre style=\"white-space:pre;overflow-x:auto;line-height:normal;font-family:Menlo,'DejaVu Sans Mono',consolas,'Courier New',monospace\"></pre>\n"
            ]
          },
          "metadata": {}
        }
      ],
      "source": [
        "\n",
        "\n",
        "# # Start the Pathway pipeline execution in the background\n",
        "# # - This triggers the real-time data stream processing defined above\n",
        "# # - %%capture --no-display suppresses output in the notebook interface\n",
        "\n",
        "%%capture --no-display\n",
        "pw.run()\n",
        "print(\"Hello\")\n",
        "\n"
      ]
    },
    {
      "cell_type": "code",
      "execution_count": 202,
      "metadata": {
        "id": "pklSMqmRp1Gh"
      },
      "outputs": [],
      "source": []
    }
  ],
  "metadata": {
    "colab": {
      "provenance": []
    },
    "kaggle": {
      "accelerator": "none",
      "dataSources": [
        {
          "datasetId": 7749157,
          "sourceId": 12294858,
          "sourceType": "datasetVersion"
        }
      ],
      "dockerImageVersionId": 31040,
      "isGpuEnabled": false,
      "isInternetEnabled": true,
      "language": "python",
      "sourceType": "notebook"
    },
    "kernelspec": {
      "display_name": "Python (pathway_env)",
      "language": "python",
      "name": "pathway_env"
    },
    "language_info": {
      "codemirror_mode": {
        "name": "ipython",
        "version": 3
      },
      "file_extension": ".py",
      "mimetype": "text/x-python",
      "name": "python",
      "nbconvert_exporter": "python",
      "pygments_lexer": "ipython3",
      "version": "3.12.3"
    },
    "widgets": {
      "application/vnd.jupyter.widget-state+json": {
        "9a76ced9ac0940808d19c52c4fe9e030": {
          "model_module": "@jupyter-widgets/output",
          "model_name": "OutputModel",
          "model_module_version": "1.0.0",
          "state": {
            "_dom_classes": [],
            "_model_module": "@jupyter-widgets/output",
            "_model_module_version": "1.0.0",
            "_model_name": "OutputModel",
            "_view_count": null,
            "_view_module": "@jupyter-widgets/output",
            "_view_module_version": "1.0.0",
            "_view_name": "OutputView",
            "layout": "IPY_MODEL_f40e27df141946c6b3f5d6d9c0b86d5c",
            "msg_id": "",
            "outputs": [
              {
                "output_type": "display_data",
                "data": {
                  "text/plain": "                                                                                                                   \n                                                                                                                   \n                                                                                                                   \n                                                                                                                   \n                                                                                                                   \n                                                                                                                   \n                                                                                                                   \n                                                                                                                   \n                                                                                                                   \n                                                                                                                   \n                                                                                                                   \n                                                                                                                   \n                                                                                                                   \n                                                                                                                   \n                                                                                                                   \n                                                                                                                   \n                                                                                                                   \n                                                                                                                   \n                                                                                                                   \n                                                                                                                   \n                                                                                                                   \n                                                                                                                   \n                                                                                                                   \n                                                                                                                   \n                                                                                                                   \n                                                                                                                   \n                                                                                                                   \n                                                                                                                   \n                                                                                                                   \n                                                                                                                   \n                                                                                                                   \n                                                                                                                   \n                                                                                                                   \n                                                                                                                   \n                                                                                                                   \n                                                                                                                   \n                                                                                                                   \n                                                                                                                   \n                                                                                                                   \n                                                                                                                   \n                                                                                                                   \n                                                                                                                   \n                                                                                                                   \n                                                                                                                   \n                                                                                                                   \n                                                                                                                   \n                                                                                                                   \n                                                                                                                   \n                                                                                                                   \n                                                                                                                   \n                                                       LOGS                                                        \n                                                                                                                   \n                                                                                                                   \n                                                                                                                   \n                                                                                                                   \n                                                                                                                   \n                                                                                                                   \n                                                                                                                   \n                                                                                                                   \n                                                                                                                   \n                                                                                                                   \n                                                                                                                   \n                                                                                                                   \n                                                                                                                   \n                                                                                                                   \n                                                                                                                   \n                                                                                                                   \n                                                                                                                   \n                                                                                                                   \n                                                                                                                   \n                                                                                                                   \n                                                                                                                   \n                                                                                                                   \n                                                                                                                   \n                                                                                                                   \n                                                                                                                   \n                                                                                                                   \n                                                                                                                   \n                                                                                                                   \n                                                                                                                   \n                                                                                                                   \n                                                                                                                   \n                                                                                                                   \n                                                                                                                   \n                                                                                                                   \n                                                                                                                   \n                                                                                                                   \n                                                                                                                   \n                                                                                                                   \n                                                                                                                   \n                                                                                                                   \n                                                                                                                   \n                                                                                                                   \n                                                                                                                   \n                                                                                                                   \n                                                                                                                   \n                                                                                                                   \n                                                                                                                   \n                                                                                                                   \n                                                                                                                   \n",
                  "text/html": "<pre style=\"white-space:pre;overflow-x:auto;line-height:normal;font-family:Menlo,'DejaVu Sans Mono',consolas,'Courier New',monospace\">                                                                                                                   \n                                                                                                                   \n                                                                                                                   \n                                                                                                                   \n                                                                                                                   \n                                                                                                                   \n                                                                                                                   \n                                                                                                                   \n                                                                                                                   \n                                                                                                                   \n                                                                                                                   \n                                                                                                                   \n                                                                                                                   \n                                                                                                                   \n                                                                                                                   \n                                                                                                                   \n                                                                                                                   \n                                                                                                                   \n                                                                                                                   \n                                                                                                                   \n                                                                                                                   \n                                                                                                                   \n                                                                                                                   \n                                                                                                                   \n                                                                                                                   \n                                                                                                                   \n                                                                                                                   \n                                                                                                                   \n                                                                                                                   \n                                                                                                                   \n                                                                                                                   \n                                                                                                                   \n                                                                                                                   \n                                                                                                                   \n                                                                                                                   \n                                                                                                                   \n                                                                                                                   \n                                                                                                                   \n                                                                                                                   \n                                                                                                                   \n                                                                                                                   \n                                                                                                                   \n                                                                                                                   \n                                                                                                                   \n                                                                                                                   \n                                                                                                                   \n                                                                                                                   \n                                                                                                                   \n                                                                                                                   \n                                                                                                                   \n                                                       LOGS                                                        \n                                                                                                                   \n                                                                                                                   \n                                                                                                                   \n                                                                                                                   \n                                                                                                                   \n                                                                                                                   \n                                                                                                                   \n                                                                                                                   \n                                                                                                                   \n                                                                                                                   \n                                                                                                                   \n                                                                                                                   \n                                                                                                                   \n                                                                                                                   \n                                                                                                                   \n                                                                                                                   \n                                                                                                                   \n                                                                                                                   \n                                                                                                                   \n                                                                                                                   \n                                                                                                                   \n                                                                                                                   \n                                                                                                                   \n                                                                                                                   \n                                                                                                                   \n                                                                                                                   \n                                                                                                                   \n                                                                                                                   \n                                                                                                                   \n                                                                                                                   \n                                                                                                                   \n                                                                                                                   \n                                                                                                                   \n                                                                                                                   \n                                                                                                                   \n                                                                                                                   \n                                                                                                                   \n                                                                                                                   \n                                                                                                                   \n                                                                                                                   \n                                                                                                                   \n                                                                                                                   \n                                                                                                                   \n                                                                                                                   \n                                                                                                                   \n                                                                                                                   \n                                                                                                                   \n                                                                                                                   \n                                                                                                                   \n</pre>\n"
                },
                "metadata": {}
              }
            ],
            "tabbable": null,
            "tooltip": null
          }
        },
        "f40e27df141946c6b3f5d6d9c0b86d5c": {
          "model_module": "@jupyter-widgets/base",
          "model_name": "LayoutModel",
          "model_module_version": "2.0.0",
          "state": {
            "_model_module": "@jupyter-widgets/base",
            "_model_module_version": "2.0.0",
            "_model_name": "LayoutModel",
            "_view_count": null,
            "_view_module": "@jupyter-widgets/base",
            "_view_module_version": "2.0.0",
            "_view_name": "LayoutView",
            "align_content": null,
            "align_items": null,
            "align_self": null,
            "border_bottom": null,
            "border_left": null,
            "border_right": null,
            "border_top": null,
            "bottom": null,
            "display": null,
            "flex": null,
            "flex_flow": null,
            "grid_area": null,
            "grid_auto_columns": null,
            "grid_auto_flow": null,
            "grid_auto_rows": null,
            "grid_column": null,
            "grid_gap": null,
            "grid_row": null,
            "grid_template_areas": null,
            "grid_template_columns": null,
            "grid_template_rows": null,
            "height": null,
            "justify_content": null,
            "justify_items": null,
            "left": null,
            "margin": null,
            "max_height": null,
            "max_width": null,
            "min_height": null,
            "min_width": null,
            "object_fit": null,
            "object_position": null,
            "order": null,
            "overflow": null,
            "padding": null,
            "right": null,
            "top": null,
            "visibility": null,
            "width": null
          }
        }
      }
    }
  },
  "nbformat": 4,
  "nbformat_minor": 0
}