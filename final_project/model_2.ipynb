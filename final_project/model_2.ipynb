{
  "cells": [
    {
      "cell_type": "markdown",
      "metadata": {
        "id": "VTvr4_sti9Am"
      },
      "source": [
        "# Inroduction\n"
      ]
    },
    {
      "cell_type": "markdown",
      "metadata": {
        "id": "Rm8HKcygh4L2"
      },
      "source": [
        "This sample notebook demonstrates how to process live data streams using Pathway. The dataset used here is a subset of the one provided — specifically, it includes data for only a single parking spot. You are expected to implement your model across all parking spots.\n",
        "\n",
        "Please note that the pricing model used in this notebook is a simple baseline. You are expected to design and implement a more advanced and effective model.\n"
      ]
    },
    {
      "cell_type": "code",
      "execution_count": 94,
      "metadata": {
        "colab": {
          "base_uri": "https://localhost:8080/"
        },
        "id": "LlwkKnB50IGF",
        "outputId": "55857a2d-780b-4426-aa7f-38cea43bddbe"
      },
      "outputs": [
        {
          "output_type": "stream",
          "name": "stdout",
          "text": [
            "Hello\n"
          ]
        }
      ],
      "source": [
        "!pip install pathway bokeh panel --quiet\n",
        "\n",
        "print(\"Hello\")"
      ]
    },
    {
      "cell_type": "code",
      "execution_count": 95,
      "metadata": {
        "colab": {
          "base_uri": "https://localhost:8080/"
        },
        "id": "pHuc1nkJveN3",
        "outputId": "60f51353-01d0-490c-bd99-95394700b0eb"
      },
      "outputs": [
        {
          "output_type": "stream",
          "name": "stdout",
          "text": [
            "Hello\n"
          ]
        }
      ],
      "source": [
        "import numpy as np\n",
        "import pandas as pd\n",
        "import matplotlib.pyplot as plt\n",
        "import datetime\n",
        "from datetime import datetime\n",
        "import pathway as pw\n",
        "import bokeh.plotting\n",
        "import panel as pn\n",
        "import numpy as np\n",
        "import pandas as pd\n",
        "import pathway as pw\n",
        "import bokeh.plotting\n",
        "import panel as pn\n",
        "from bokeh.io import output_notebook, show\n",
        "\n",
        "print(\"Hello\")"
      ]
    },
    {
      "cell_type": "code",
      "source": [
        "from google.colab import drive\n",
        "drive.mount('/content/drive')"
      ],
      "metadata": {
        "id": "u6GTpKzSHx9W",
        "outputId": "fa889f80-9430-4056-d7e4-e6e83f6a7b2e",
        "colab": {
          "base_uri": "https://localhost:8080/"
        }
      },
      "execution_count": 96,
      "outputs": [
        {
          "output_type": "stream",
          "name": "stdout",
          "text": [
            "Drive already mounted at /content/drive; to attempt to forcibly remount, call drive.mount(\"/content/drive\", force_remount=True).\n"
          ]
        }
      ]
    },
    {
      "cell_type": "markdown",
      "metadata": {
        "id": "gGpZl1FxjFXE"
      },
      "source": [
        "# Step 1: Importing and Preprocessing the Data"
      ]
    },
    {
      "cell_type": "code",
      "execution_count": 97,
      "metadata": {
        "id": "4D6geoV9veN3",
        "outputId": "c1a6d6e8-b35c-4b57-9057-846750fc68c0",
        "colab": {
          "base_uri": "https://localhost:8080/"
        }
      },
      "outputs": [
        {
          "output_type": "stream",
          "name": "stdout",
          "text": [
            "Hello\n"
          ]
        },
        {
          "output_type": "execute_result",
          "data": {
            "text/plain": [
              "Index(['ID', 'SystemCodeNumber', 'Capacity', 'Latitude', 'Longitude',\n",
              "       'Occupancy', 'VehicleType', 'TrafficConditionNearby', 'QueueLength',\n",
              "       'IsSpecialDay', 'LastUpdatedDate', 'LastUpdatedTime', 'Timestamp',\n",
              "       'LotID'],\n",
              "      dtype='object')"
            ]
          },
          "metadata": {},
          "execution_count": 97
        }
      ],
      "source": [
        "# Load the dataset (replace with your actual file if needed)\n",
        "df = pd.read_csv('/content/drive/MyDrive/dataset.csv')\n",
        "\n",
        "# Combine date and time columns if needed\n",
        "if 'LastUpdatedDate' in df.columns and 'LastUpdatedTime' in df.columns:\n",
        "    df['Timestamp'] = pd.to_datetime(\n",
        "        df['LastUpdatedDate'] + ' ' + df['LastUpdatedTime'],\n",
        "        format='%d-%m-%Y %H:%M:%S'\n",
        "    )\n",
        "else:\n",
        "    df['Timestamp'] = pd.to_datetime(df['Timestamp'])\n",
        "\n",
        "# Sort by time\n",
        "df = df.sort_values('Timestamp').reset_index(drop=True)\n",
        "\n",
        "# Ensure a unique lot identifier column (LotID)\n",
        "if 'LotID' not in df.columns:\n",
        "    df['LotID'] = df['Latitude'].astype(str) + '_' + df['Longitude'].astype(str)\n",
        "\n",
        "# Save a streaming-ready CSV for Pathway\n",
        "df[[\"Timestamp\", \"Occupancy\", \"Capacity\", \"LotID\"]].to_csv(\"parking_stream_model2.csv\", index=False)\n",
        "\n",
        "print(\"Hello\")\n",
        "df.columns\n",
        "\n",
        "# You can find the sample dataset here: https://drive.google.com/file/d/1D479FLjp9aO3Mg8g6Lpj9oRViWacurA6/view?usp=sharing"
      ]
    },
    {
      "cell_type": "code",
      "source": [
        "class ParkingSchema(pw.Schema):\n",
        "    Timestamp: str\n",
        "    Occupancy: int\n",
        "    Capacity: int\n",
        "    LotID: str\n",
        "    Price_Model2: float"
      ],
      "metadata": {
        "id": "MSoJbkceD7lk"
      },
      "execution_count": 98,
      "outputs": []
    },
    {
      "cell_type": "code",
      "execution_count": 99,
      "metadata": {
        "id": "a4LxMh4xziMv"
      },
      "outputs": [],
      "source": [
        "# Load the data as a simulated stream using Pathway's replay_csv function\n",
        "# This replays the CSV data at a controlled input rate to mimic real-time streaming\n",
        "# input_rate=1000 means approximately 1000 rows per second will be ingested into the stream.\n",
        "\n",
        "data = pw.demo.replay_csv(\n",
        "    \"parking_stream_model2.csv\",\n",
        "    schema=ParkingSchema,\n",
        "    input_rate=100  # Adjust as needed for speed\n",
        ")"
      ]
    },
    {
      "cell_type": "code",
      "execution_count": 100,
      "metadata": {
        "id": "IkBP_AA-zjec",
        "outputId": "6a360bcf-5b5a-4b19-961a-51768701fba0",
        "colab": {
          "base_uri": "https://localhost:8080/"
        }
      },
      "outputs": [
        {
          "output_type": "stream",
          "name": "stdout",
          "text": [
            "Hello\n"
          ]
        }
      ],
      "source": [
        "# Define the datetime format to parse the 'Timestamp' column\n",
        "fmt = \"%Y-%m-%d %H:%M:%S\"\n",
        "\n",
        "data_with_time = data.with_columns(\n",
        "    t = data.Timestamp.dt.strptime(fmt),\n",
        "    day = data.Timestamp.dt.strptime(fmt).dt.strftime(\"%Y-%m-%dT00:00:00\")\n",
        ")\n",
        "\n",
        "\n",
        "print(\"Hello\")"
      ]
    },
    {
      "cell_type": "code",
      "source": [
        "# Fill missing TrafficConditionNearby with 0 (or any reasonable default)\n",
        "if df['TrafficConditionNearby'].isna().all():\n",
        "    print(\"All TrafficConditionNearby values are missing. Filling with 0.\")\n",
        "    df['TrafficConditionNearby'] = 0\n",
        "else:\n",
        "    mean_traffic = df['TrafficConditionNearby'].mean()\n",
        "    print(f\"Filling missing TrafficConditionNearby with mean: {mean_traffic}\")\n",
        "    df['TrafficConditionNearby'] = df['TrafficConditionNearby'].fillna(mean_traffic)\n"
      ],
      "metadata": {
        "id": "8wHaRM-AN8lQ",
        "outputId": "6efe85a9-c8f5-470c-a1bc-8e540a13f8d8",
        "colab": {
          "base_uri": "https://localhost:8080/",
          "height": 393
        }
      },
      "execution_count": 101,
      "outputs": [
        {
          "output_type": "error",
          "ename": "TypeError",
          "evalue": "Could not convert string 'lowlowlowlowlowlowlowaveragelowlowlowlowlowaveragelowlowaveragelowlowaveragelowlowaveragelowaveragelowlowlowaveragelowlowlowlowlowlowlowlowlowlowlowlowlowlowlowlowlowlowlowlowlowlowlowlowlowlowlowlowlowlowlowlowlowlowlowlowlowaveragelowlowlowlowlowlowlowlowlowlowaveragelowlowlowaveragelowlowaverageaveragehighaverageaverageaverageaveragehighaveragehighaverageaveragehighaverageaverageaverageaverageaverageaverageaverageaveragehighaverageaverageaverageaveragehighaverageaverageaverageaverageaverageaverageaverageaveragehighhighaveragehighaverageaverageaveragehighhighhighhighhighhighhighhighhighhighhighhighhighaveragehighhighhighhighhighhighhighhighhighhighaveragehighhighhighhighhighhighaveragehighhighhighhighhighhighhighhighhighhighaverageaverageaverageaverageaverageaverageaveragehighhighaverageaverageaveragehighaverageaverageaverageaverageaverageaverageaverageaverageaveragehighaverageaverageaverageaverageaverageaverageaverageaverageaverageaverageaverageaverageaverageaverageaverageaverageaveragehighaveragelowlowlowlowlowlowlowlowaveragelowaveragelowlowlowlowlowlowaveragelowlowlowaveragelowlowlowlowlowlowaveragelowlowlowlowlowlowlowlowaveragelowlowlowaveragelowlowlowlowlowlowlowlowlowlowlowlowaveragelowlowlowlowaveragelowlowlowlowlowlowlowlowlowlowaveragelowlowlowlowaveragelowlowlowlowaveragelowlowlowlowaveragelowlowaveragelowlowaveragelowlowlowlowlowlowlowlowaverageaveragelowlowlowlowlowlowlowlowlowaverageaverageaveragehighaverageaverageaveragehighhighaveragehighaverageaverageaverageaverageaverageaverageaverageaverageaverageaverageaveragehighhighaverageaverageaveragehighaverageaverageaverageaverageaverageaveragehighaverageaverageaverageaverageaverageaverageaverageaveragehighhighhighhighhighhighhighhighhighhighhighhighhighaveragehighhighhighhighhighhighhighhighaveragehighhighhighhighhighhighaveragehighhighhighhighhighhighhighhighaveragehighhighhighhighhighhighhighhighhighaveragehighhighhighaverageaveragehighhighaverageaverageaverageaverageaverageaverageaverageaveragehighaverageaverageaverageaverageaverageaverageaverageaverageaverageaverageaveragehighaverageaverageaverageaverageaveragehighaverageaverageaverageaveragehighhighaverageaveragehighhighaverageaverageaverageaveragehighlowaveragelowaveragelowlowlowlowlowlowlowlowaveragelowlowlowlowlowlowaveragelowlowlowlowlowlowlowlowlowaveragelowlowlowaveragelowlowlowlowlowlowaveragelowaveragelowlowlowlowlowlowlowlowlowaveragelowlowlowaverageaveragelowlowlowlowlowlowaveragelowlowaveragelowlowlowlowlowlowaveragelowlowlowlowlowlowlowlowlowlowaveragelowlowlowlowlowlowlowlowlowlowaveragelowlowlowlowlowlowlowlowlowlowlowaveragelowlowlowaverageaveragehighaverageaverageaverageaverageaverageaverageaverageaverageaverageaveragehighaverageaverageaverageaverageaverageaverageaveragehighaverageaverageaveragehighaverageaverageaverageaverageaveragehighaverageaverageaverageaverageaveragehighaverageaverageaveragehighhighhighhighhighhighhighaveragehighhighhighhighhighhighhighhighhighhighhighhighhighhighaveragehighhighhighhighhighaveragehighhighhighhighhighhighhighhighaverageaveragehighhighaveragehighhighaveragehighhighhighhighhighhighhighhighhighhighhighhighaverageaverageaverageaverageaverageaverageaverageaverageaverageaverageaverageaverageaverageaverageaverageaverageaverageaveragehighaverageaverageaverageaveragehighaverageaverageaverageaveragelowlowlowlowlowlowlowlowlowlowlowlowlowaveragelowlowlowlowlowlowlowlowlowaveragelowlowlowlowlowaveragelowlowlowlowlowlowlowlowlowlowaveragelowlowlowaveragelowlowlowlowlowaveragelowlowaveragelowlowlowlowlowlowlowlowlowlowlowlowlowlowlowlowlowlowaveragelowaveragelowlowlowlowlowaveragelowlowlowlowlowaveragelowlowlowlowaveragelowaveragelowlowlowlowaverageaveragelowlowlowlowlowlowlowlowlowaveragelowaveragelowlowlowaveragelowlowlowaveragelowaveragelowlowlowaveragehighaverageaverageaverageaveragehighaverageaverageaverageaverageaverageaveragehighaverageaverageaverageaverageaverageaverageaverageaverageaverageaverageaveragehighaverageaverageaverageaverageaverageaverageaveragehighaverageaverageaverageaverageaverageaveragehighaverageaveragehighhighhighhighhighhighhighhighhighhighaveragehighhighhighhighhighhighhighhighhighhighhighhighhighhighhighhighhighhighhighaveragehighhighhighhighhighhighhighhighaveragehighhighhighaveragehighhighhighhighhighhighaveragehighaveragehighhighhighaverageaverageaverageaverageaveragehighaverageaverageaverageaverageaverageaverageaverageaverageaverageaverageaverageaverageaverageaveragehighaverageaveragehighaveragehighaverageaveragelowlowlowlowlowlowlowlowlowlowlowlowlowlowlowlowlowlowlowlowlowlowlowlowlowaveragelowlowlowlowlowlowlowlowlowlowlowlowlowlowlowlowlowlowlowaveragelowlowlowlowlowlowlowaveragelowaverageaverageaveragelowaverageaveragelowlowlowlowlowlowlowlowlowlowlowlowlowlowaveragelowlowlowlowlowaveragelowaveragelowaveragelowaveragelowlowlowlowlowlowaveragelowlowlowlowlowlowlowlowaveragelowaveragelowlowlowlowlowlowlowlowlowaveragelowaveragelowlowlowlowlowaveragelowaverageaverageaverageaverageaverageaverageaverageaverageaverageaverageaverageaverageaverageaverageaverageaverageaverageaverageaverageaverageaverageaverageaverageaverageaverageaverageaverageaverageaverageaveragehighaverageaverageaverageaverageaverageaverageaveragehighaverageaverageaveragehighhighhighhighhighhighhighhighhighhighhighhighhighhighhighhighhighhighaveragehighhighaveragehighhighhighhighhighhighhighhighhighhighhighhighhighhighhighhighhighhighhighaveragehighhighaveragehighhighhighaveragehighhighhighhighaverageaveragehighhighaverageaverageaveragehighaverageaverageaverageaverageaverageaverageaverageaverageaverageaverageaverageaverageaverageaverageaverageaverageaverageaverageaverageaverageaverageaverageaverageaverageaverageaverageaverageaverageaverageaverageaverageaverageaverageaverageaverageaverageaverageaveragelowaveragelowaveragelowlowaveragelowlowlowaveragelowaveragelowlowlowlowlowlowlowaveragelowlowlowlowlowlowlowlowaveragelowaveragelowlowlowlowaveragelowlowlowlowaverageaveragelowlowlowlowlowlowlowlowlowlowaverageaverageaveragelowlowlowlowlowlowlowlowlowlowlowlowlowlowlowlowaveragelowaveragelowlowlowlowlowlowlowlowlowaveragelowaveragelowlowaveragelowlowlowaveragelowlowlowlowlowaverageaveragelowlowlowlowlowaveragelowaveragelowlowlowaverageaverageaverageaverageaveragehighaverageaverageaveragehighaveragehighaveragehighaverageaverageaverageaverageaverageaverageaverageaverageaverageaverageaverageaverageaverageaverageaverageaverageaverageaverageaverageaverageaverageaverageaverageaverageaverageaverageaverageaverageaveragehighaverageaverageaverageaverageaverageaverageaverageaverageaverageaverageaveragehighhighaveragehighhighhighhighhighhighhighhighhighhighhighhighhighhighhighhighhighhighhighhighhighhighhighhighhighhighhighhighaveragehighhighhighhighhighhighhighhighhighhighhighaverageaverageaverageaveragehighaverageaveragehighaverageaverageaveragehighaverageaverageaverageaverageaverageaverageaverageaverageaveragehighhighaverageaverageaveragehighaveragelowlowlowlowlowlowlowlowlowaveragelowlowaveragelowaveragelowlowlowlowlowlowlowlowlowlowlowlowlowlowlowlowaveragelowlowlowlowlowlowlowlowlowlowlowlowlowlowlowlowlowlowlowlowlowlowaveragelowlowlowlowaverageaveragelowlowaveragelowlowlowlowlowlowaveragelowlowlowlowlowlowaveragelowlowlowlowlowaveragelowlowaverageaveragelowlowaveragelowlowaverageaveragelowlowlowlowlowlowlowlowlowlowlowlowlowlowlowlowlowaveragelowaverageaveragelowaveragelowlowlowlowlowlowlowlowaverageaverageaverageaverageaverageaveragehighaverageaverageaveragehighhighaverageaverageaverageaverageaverageaverageaverageaveragehighaverageaverageaveragehighaverageaverageaverageaverageaverageaverageaveragehighaverageaverageaverageaveragehighaverageaverageaverageaveragehighaverageaverageaverageaveragehighaverageaverageaverageaverageaverageaveragehighhighhighhighhighhighhighhighhighhighhighhighhighaverageaveragehighhighhighhighhighaveragehighhighhighhighhighaveragehighhighhighhighhighhighhighhighhighhighhighhighhighhighaveragehighhighaverageaveragehighhighhighaverageaverageaverageaverageaveragehighhighaverageaverageaverageaveragehighaverageaveragehighaverageaverageaverageaverageaverageaverageaverageaverageaveragehighaverageaverageaverageaverageaverageaverageaverageaverageaverageaverageaveragehighlowlowlowaveragelowlowlowlowlowlowlowaveragelowlowlowlowaveragelowlowaveragelowaveragelowlowlowlowlowaveragelowlowlowlowlowlowaveragelowlowlowlowlowlowlowlowlowlowlowlowlowlowaveragelowlowlowlowlowlowlowlowlowaveragelowlowlowlowlowaveragelowlowlowlowlowlowlowlowlowlowlowlowlowlowlowlowlowlowaveragelowlowaveragelowlowaveragelowlowlowlowlowlowlowlowlowaverageaverageaveragelowlowlowlowlowlowlowlowlowhighaveragehighaverageaverageaverageaverageaverageaverageaverageaveragehighaverageaveragehighaverageaverageaverageaverageaverageaverageaverageaverageaverageaverageaverageaverageaverageaveragehighaverageaverageaverageaverageaverageaverageaverageaveragehighaverageaverageaveragehighhighaveragehighhighhighhighaveragehighhighhighhighhighhighhighhighhighhighaveragehighaveragehighhighhighaveragehighhighaveragehighhighhighhighhighhighhighhighhighhighaveragehighhighaverageaveragehighhighhighhighhighhighhighhighhighhighhighhighhighaverageaverageaverageaverageaverageaverageaverageaverageaverageaverageaverageaverageaverageaverageaverageaverageaverageaverageaverageaverageaverageaverageaverageaverageaverageaverageaveragehighaveragelowlowlowlowlowlowlowlowlowaveragelowlowlowlowlowlowlowlowaveragelowlowlowlowlowlowlowlowaverageaveragelowaveragelowlowlowlowlowlowlowlowlowlowlowlowaveragelowaverageaveragelowlowlowlowaveragelowlowlowlowlowlowlowlowlowlowlowaveragelowlowlowlowlowlowlowlowlowlowaverageaverageaveragelowlowlowlowlowlowlowlowlowlowaverageaveragelowlowlowlowlowlowlowlowlowlowlowlowlowlowlowlowaveragelowlowlowlowlowlowlowlowlowlowlowaverageaveragelowlowlowlowlowlowaverageaverageaverageaverageaverageaverageaverageaverageaverageaverageaverageaverageaverageaverageaverageaveragehighaverageaverageaverageaverageaverageaveragehighaverageaverageaverageaveragehighhighaverageaverageaverageaverageaveragehighaverageaverageaverageaverageaveragehighhighhighhighhighhighhighhighhighhighhighhighhighhighhighhighhighhighhighaveragehighhighhighhighhighhighaveragehighhighhighhighhighhighaveragehighhighhighhighhighhighhighhighhighhighaveragehighhighhighhighhighhighhighhighhighaverageaveragehighaveragehighhighaverageaverageaveragehighhighhighaverageaverageaveragehighaverageaverageaverageaverageaveragehighaverageaverageaverageaverageaverageaveragehighaverageaveragelowaveragelowlowaverageaveragelowlowlowlowlowlowlowlowlowaveragelowlowlowlowaveragelowlowlowlowaveragelowlowaveragelowlowlowlowaverageaveragelowlowaveragelowlowlowlowlowlowlowlowaveragelowlowlowlowlowlowaveragelowaveragelowlowlowlowlowlowaveragelowlowlowlowaverageaveragelowlowlowlowlowlowlowlowlowlowaveragelowlowlowaveragelowlowlowaveragelowlowaveragelowlowlowlowlowlowlowlowlowlowlowlowaveragelowlowlowlowlowlowlowlowlowlowlowlowlowlowlowlowlowlowlowlowlowlowaverageaverageaveragehighaverageaverageaverageaverageaverageaverageaveragehighaverageaverageaverageaverageaverageaverageaveragehighaverageaverageaverageaverageaveragehighaveragehighaverageaverageaveragehighaverageaveragehighaverageaverageaverageaverageaverageaverageaverageaverageaverageaverageaverageaveragehighaverageaverageaverageaverageaverageaverageaveragehighhighaveragehighhighhighhighhighhighhighhighhighhighaveragehighhighaveragehighhighhighhighhighhighhighhighhighhighhighhighhighhighaveragehighhighhighhighaveragehighhighaveragehighhighhighaverageaverageaveragehighhighaverageaverageaverageaveragehighaveragehighaveragehighaveragehighaverageaverageaverageaverageaverageaverageaveragehighaverageaveragehighaverageaveragelowlowlowlowlowlowlowlowlowlowlowaveragelowlowlowlowlowlowlowaveragelowlowlowlowlowaveragelowlowlowlowlowlowaverageaveragelowlowlowlowlowlowlowlowaveragelowlowlowlowaveragelowlowaveragelowlowlowlowlowlowaveragelowlowlowlowlowlowaveragelowaveragelowlowlowlowlowlowlowlowlowlowaveragelowlowlowlowaveragelowlowlowlowlowlowaveragelowaveragelowlowlowlowaveragelowlowlowaveragelowlowlowlowaveragelowlowaveragelowlowlowlowlowlowlowlowlowlowlowlowlowlowlowlowaverageaveragelowlowlowlowlowaverageaveragelowlowlowlowlowaverageaverageaverageaverageaverageaverageaverageaverageaverageaverageaverageaverageaverageaverageaveragehighaveragehighaverageaverageaverageaverageaverageaverageaveragehighaverageaveragehighhighhighhighhighhighhighaverageaveragehighhighhighhighhighhighhighhighhighhighhighhighhighaveragehighhighhighhighhighaveragehighhighhighhighhighhighhighhighhighaveragehighaveragehighhighhighhighhighhighhighaveragehighhighhighhighaveragehighhighaverageaverageaverageaverageaverageaveragehighaverageaverageaverageaverageaverageaverageaverageaverageaverageaverageaverageaverageaveragehighaverageaveragehighaverageaverageaverageaveragelowlowlowlowlowlowlowlowlowlowlowlowlowaveragelowlowaveragelowlowlowlowlowlowlowlowlowaveragelowaveragelowlowlowaveragelowlowlowlowlowlowlowlowaveragelowlowlowaveragelowlowlowlowaveragelowlowlowlowlowlowlowlowlowlowlowlowlowlowlowlowlowlowlowlowlowlowlowlowaveragelowlowlowlowlowlowlowlowlowlowlowaverageaveragelowlowaverageaveragelowlowlowaveragelowaveragelowlowlowaveragelowlowlowlowaveragelowaveragelowlowlowlowlowlowlowlowlowlowlowlowlowlowlowlowlowlowlowlowlowaverageaveragelowlowlowlowlowlowlowaverageaverageaveragehighaverageaverageaverageaverageaverageaverageaveragehighaveragehighaveragehighaverageaverageaverageaverageaveragehighaverageaverageaverageaverageaverageaveragehighhighhighhighhighhighhighhighhighhighhighhighhighhighhighhighhighhighhighhighhighhighhighhighhighhighhighhighhighaveragehighhighhighhighhighhighhighhighhighaveragehighhighhighaverageaverageaveragehighhighhighhighhighhighhighhighaveragehighhighaveragehighaverageaverageaverageaverageaveragehighaveragehighaverageaverageaverageaveragehighaverageaverageaverageaverageaverageaverageaverageaverageaverageaverageaverageaveragelowlowlowlowaveragelowlowlowlowlowlowaveragelowlowlowlowlowlowlowlowlowlowlowaveragelowlowlowlowaveragelowlowlowlowlowlowlowlowlowlowlowlowlowlowlowlowlowlowlowlowlowlowlowlowlowlowlowaveragelowaveragelowlowlowlowlowlowlowlowlowlowlowlowlowlowlowlowaverageaverageaverageaveragelowlowlowaveragelowlowlowaveragelowlowlowaveragelowlowlowlowlowlowlowlowlowlowlowlowlowlowlowlowlowlowlowlowlowaveragelowlowlowaveragelowlowlowaveragelowlowlowlowlowlowaverageaveragehighaverageaverageaverageaveragehighaverageaverageaveragehighhighaverageaverageaveragehighaverageaverageaveragehighaverageaverageaverageaverageaverageaverageaveragehighhighaverageaverageaverageaverageaverageaverageaveragehighaverageaverageaveragehighhighhighhighhighhighhighhighaveragehighaveragehighhighhighhighhighhighhighhighaveragehighhighaveragehighhighhighhighaveragehighhighhighhighaveragehighhighhighhighaveragehighhighhighhighhighhighhighaveragehighhighhighhighaveragehighhighaveragehighhighaverageaverageaverageaverageaverageaverageaverageaverageaverageaverageaverageaveragehighaverageaverageaverageaveragehighhighaverageaverageaverageaverageaverageaverageaverageaverageaveragelowlowlowaveragelowlowlowlowlowlowaveragelowlowlowaveragelowlowlowlowaveragelowlowlowlowlowlowlowaveragelowlowlowlowlowaveragelowlowlowlowlowaveragelowlowlowaveragelowaveragelowlowaverageaverageaveragelowlowlowlowlowlowlowlowlowlowlowlowlowlowlowlowlowlowlowlowlowlowlowaveragelowlowlowlowlowaveragelowlowlowlowlowlowlowaveragelowlowlowlowaveragelowaveragelowaveragelowlowlowlowlowlowlowlowlowlowlowlowlowlowlowaveragelowlowlowaverageaveragelowlowaveragelowlowlowlowaverageaverageaverageaverageaverageaveragehighaverageaverageaverageaverageaverageaverageaverageaverageaveragehighaverageaverageaverageaverageaverageaverageaverageaverageaveragehighaverageaverageaverageaverageaverageaverageaverageaveragehighaverageaverageaveragehighaverageaveragehighhighhighhighaveragehighhighaveragehighhighhighhighhighhighhighhighaveragehighhighaveragehighhighaveragehighhighhighhighhighaveragehighhighaveragehighhighhighhighhighhighhighhighhighhighhighhighhighhighhighhighhighhighhighhighhighhighhighhighaverageaverageaverageaverageaverageaverageaverageaverageaverageaverageaverageaverageaverageaverageaverageaverageaveragehighaverageaverageaveragehighaveragehighhighaverageaverageaverageaveragehighhighaverageaverageaverageaverageaverageaverageaverageaveragehighaverageaveragelowlowlowlowlowlowlowaveragelowlowlowlowlowlowlowlowlowlowlowlowlowaveragelowlowlowaveragelowlowlowlowlowlowlowlowlowlowlowlowaveragelowaveragelowlowaveragelowlowaveragelowlowlowlowlowlowlowlowlowlowlowlowaveragelowlowlowaveragelowlowlowlowaveragelowlowaveragelowaveragelowlowlowaveragelowlowlowlowaverageaveragelowlowlowlowlowlowlowlowlowlowlowlowlowlowlowlowlowlowlowlowlowlowlowlowlowlowaveragelowlowlowlowaveragelowlowlowaveragelowlowlowlowlowlowlowaverageaverageaverageaverageaverageaverageaverageaverageaverageaverageaverageaverageaveragehighaverageaverageaverageaverageaveragehighaverageaverageaveragehighaveragehighaverageaverageaveragehighhighaveragehighhighhighhighhighhighhighhighhighhighhighhighhighhighhighhighhighaveragehighhighhighhighhighhighhighaveragehighhighaveragehighhighhighhighaveragehighhighhighaveragehighhighhighhighaveragehighhighhighhighhighhighhighhighaveragehighaverageaverageaverageaverageaverageaverageaveragehighhighaverageaverageaveragehighaverageaverageaverageaveragehighaverageaverageaverageaverageaverageaverageaverageaverageaverageaveragelowlowlowlowlowlowlowlowlowlowlowlowlowlowlowlowlowaveragelowlowlowaveragelowaveragelowlowlowlowlowlowlowaveragelowlowlowlowlowlowlowlowlowlowlowaveragelowlowlowaveragelowlowlowlowlowlowaveragelowlowlowlowlowlowlowlowlowlowlowlowlowlowlowlowlowlowlowlowlowlowlowlowaverageaveragelowlowlowlowaveragelowlowlowlowlowlowlowlowaveragelowlowlowlowlowlowlowlowlowlowlowlowaverageaverageaverageaveragelowlowaveragelowaveragelowlowlowlowlowlowlowlowaveragelowlowlowaveragelowlowlowlowlowlowlowlowaverageaverageaverageaverageaverageaverageaverageaverageaverageaverageaverageaverageaverageaverageaverageaveragehighaverageaverageaveragehighaveragehighaverageaverageaverageaverageaveragehighaveragehighhighaverageaverageaverageaverageaverageaverageaverageaverageaverageaverageaveragehighhighhighhighhighhighaveragehighhighhighhighhighhighhighhighhighhighaveragehighhighhighhighhighhighhighhighhighhighhighhighhighhighhighaveragehighhighhighhighhighhighhighhighaveragehighaverageaverageaverageaverageaverageaverageaverageaverageaverageaverageaverageaverageaverageaveragehighaverageaverageaverageaveragehighaverageaverageaveragehighaverageaverageaverageaverageaverageaverageaveragehighaverageaverageaverageaverageaverageaverageaverageaveragelowlowlowlowlowlowlowlowlowlowlowlowlowlowlowlowlowlowlowaveragelowlowlowlowlowaveragelowlowaveragelowlowlowlowlowlowaveragelowlowlowlowlowlowlowlowaveragelowlowlowlowlowlowlowlowlowlowlowlowlowaveragelowlowlowlowlowlowlowlowlowlowlowlowlowlowlowlowlowlowaverageaveragelowlowlowlowlowlowlowlowlowlowlowlowlowlowlowlowaveragelowlowlowlowlowlowlowlowlowlowlowlowlowlowlowlowaveragelowlowaveragelowaveragelowlowlowlowlowlowlowlowaverageaveragehighaverageaverageaverageaverageaverageaverageaverageaverageaverageaverageaveragehighaverageaverageaverageaverageaverageaverageaverageaverageaverageaverageaverageaverageaverageaverageaveragehighhighaverageaverageaverageaveragehighaverageaverageaverageaveragehighhighhighhighaveragehighhighaveragehighaveragehighhighhighhighhighhighhighhighhighhighhighhighhighaveragehighhighhighhighhighhighaveragehighhighhighhighhighhighhighhighhighhighhighhighhighaverageaverageaverageaverageaverageaverageaverageaveragehighaverageaverageaverageaverageaverageaveragehighhighaveragehighaverageaverageaveragehighaverageaverageaverageaverageaveragehighhighhighhighaverageaverageaverageaverageaveragehighhighaverageaverageaveragelowlowlowlowlowlowlowlowlowlowlowlowlowlowlowlowlowlowlowlowlowlowlowlowlowlowlowlowaveragelowlowlowaveragelowlowlowlowlowlowlowlowlowlowlowlowlowlowlowlowlowlowlowlowaveragelowlowlowlowlowlowlowlowlowlowlowlowlowlowlowlowlowlowlowaveragelowlowlowaveragelowlowlowlowlowlowlowlowlowlowlowlowaverageaveragelowlowlowaveragelowlowaveragelowlowlowlowlowlowaveragelowaveragelowaveragelowlowlowlowlowlowlowlowlowaveragelowlowlowlowlowhighaverageaverageaverageaverageaverageaverageaverageaverageaverageaverageaverageaverageaverageaverageaveragehighaverageaverageaverageaveragehighaverageaveragehighaverageaverageaverageaverageaverageaverageaverageaverageaverageaverageaverageaverageaverageaverageaverageaverageaveragehighhighhighhighhighhighhighhighhighhighhighhighhighhighhighhighhighhighhighhighhighhighhighhighhighhighhighaveragehighhighhighhighhighhighaveragehighhighhighhighhighhighhighaveragehighaverageaverageaverageaverageaveragehighaverageaverageaverageaverageaverageaverageaverageaverageaveragehighhighaverageaverageaverageaverageaverageaverageaverageaverageaverageaverageaverageaverageaverageaverageaveragehighaverageaverageaverageaverageaverageaverageaveragelowlowaveragelowlowlowlowlowlowaveragelowlowlowlowlowaveragelowlowlowlowlowlowaveragelowlowlowaverageaverageaveragelowlowlowlowlowlowlowlowlowaveragelowlowlowlowlowaverageaveragelowlowlowlowlowlowlowlowlowlowlowlowlowlowlowaveragelowaverageaveragelowlowlowlowlowlowlowaveragelowaveragelowlowlowaveragelowaveragelowlowlowlowlowlowlowlowlowlowlowlowlowlowlowlowlowlowaveragelowlowlowaveragelowlowlowlowlowlowlowlowaverageaverageaverageaverageaverageaverageaverageaverageaverageaverageaverageaverageaverageaverageaverageaveragehighaverageaverageaverageaveragehighaveragehighaverageaverageaverageaverageaverageaverageaverageaverageaverageaverageaverageaverageaveragehighaverageaveragehighaveragehighhighhighhighhighhighhighhighhighhighhighhighaveragehighhighhighhighhighhighhighhighhighhighhighhighhighhighhighhighhighhighhighhighhighhighhighhighhighhighhighhighaveragehighhighhighhighhighaveragehighhighhighhighaveragehighhighhighaverageaveragehighhighaverageaverageaverageaverageaverageaverageaverageaverageaveragehighaveragehighaverageaverageaverageaverageaveragehighaverageaverageaverageaverageaverageaverageaverageaverageaverageaverageaverageaverageaveragehighaverageaverageaverageaverageaverageaveragelowaveragelowaverageaverageaveragelowlowlowlowlowlowlowlowaveragelowaverageaverageaveragelowlowlowlowaverageaveragelowlowlowlowlowaveragelowlowlowlowaveragelowaveragelowlowlowlowlowlowlowlowlowlowlowaveragelowlowlowlowaveragelowlowlowlowaveragelowaveragelowlowlowlowlowlowlowlowlowlowlowlowlowlowlowlowlowlowlowlowlowaveragelowaveragelowlowlowaverageaveragelowlowlowlowlowlowaveragelowlowlowaveragelowlowlowlowlowlowlowaverageaveragelowlowlowlowlowlowlowlowlowlowlowlowaveragelowlowaverageaverageaverageaverageaverageaverageaverageaverageaveragehighaverageaverageaverageaverageaverageaverageaverageaveragehighaverageaverageaverageaverageaverageaverageaverageaverageaveragehighhighhighhighhighhighhighhighaveragehighhighhighhighhighhighhighhighhighhighhighhighhighhighhighaveragehighhighhighhighhighhighhighhighhighhighhighaverageaverageaveragehighhighhighhighhighhighhighhighhighhighhighaveragehighhighhighhighhighaveragehighaverageaveragehighaverageaverageaverageaverageaverageaveragehighaverageaverageaverageaverageaveragehighaveragehighaverageaveragehighaverageaverageaverageaverageaveragelowlowlowlowlowlowlowlowlowlowlowaveragelowlowlowlowlowlowlowaveragelowlowlowlowlowaveragelowlowlowlowlowlowlowlowlowlowlowlowlowlowlowlowlowlowlowlowaveragelowlowaveragelowlowlowlowlowlowlowlowlowlowlowlowlowlowlowlowlowlowlowaveragelowlowlowlowlowlowlowlowaveragelowlowlowlowlowlowlowaveragelowlowlowlowaveragelowlowlowaveragelowlowaveragelowlowlowlowlowaveragelowaveragelowlowaveragelowlowaveragelowlowlowlowlowlowlowlowlowlowlowlowlowlowlowlowlowlowlowlowlowlowlowaveragelowlowlowaverageaverageaverageaverageaverageaverageaverageaverageaveragehighaverageaverageaverageaverageaverageaverageaveragehighaverageaverageaveragehighaverageaverageaverageaverageaverageaverageaverageaveragehighaverageaverageaverageaverageaverageaveragehighhighaverageaverageaveragehighhighhighhighaveragehighhighhighhighhighhighhighhighhighhighhighhighhighhighhighaveragehighaveragehighhighhighhighhighhighhighaveragehighhighhighhighhighhighhighhighhighhighaverageaverageaverageaverageaverageaverageaverageaverageaverageaveragehighaverageaverageaverageaverageaveragehighhighaverageaveragehighaverageaverageaverageaverageaverageaverageaverageaveragehighaverageaverageaveragehighaverageaveragehighaverageaverageaverageaverageaverageaverageaverageaveragelowlowlowlowaverageaveragelowlowlowlowlowlowaveragelowlowlowaveragelowaveragelowaveragelowlowlowlowlowlowlowlowlowlowlowlowlowlowlowlowlowlowlowlowlowlowaveragelowlowlowlowlowlowlowlowlowaveragelowlowaveragelowaveragelowlowaveragelowlowaveragelowlowlowlowlowlowlowlowlowlowlowlowlowlowlowaverageaveragelowlowlowlowlowlowlowlowlowlowlowlowaveragelowlowaveragelowlowlowlowlowlowlowlowlowlowaveragelowaveragelowlowaverageaverageaveragelowlowlowlowlowlowlowlowaverageaverageaverageaverageaveragehighaverageaverageaverageaverageaverageaverageaverageaveragehighaverageaveragehighaverageaverageaveragehighaverageaveragehighaverageaverageaverageaverageaverageaveragehighaverageaverageaverageaverageaverageaverageaveragehighaverageaverageaveragehighhighhighhighhighhighhighhighhighhighaveragehighhighaveragehighhighaveragehighhighhighhighhighaveragehighhighhighhighhighhighhighhighhighhighhighhighhighhighhighhighaveragehighaverageaverageaveragehighaverageaverageaverageaveragehighaverageaverageaverageaverageaverageaverageaveragehighaverageaverageaveragehighaverageaverageaverageaverageaverageaverageaverageaveragehighaverageaverageaverageaverageaverageaverageaverageaverageaverageaverageaverageaveragelowlowlowlowaveragelowlowlowlowlowlowlowlowlowaveragelowlowlowlowlowlowlowlowlowlowlowlowlowaveragelowlowlowlowlowlowlowlowlowlowlowlowlowlowlowlowlowaveragelowlowlowlowlowlowlowlowlowlowaveragelowlowlowlowlowlowlowlowlowlowlowlowlowlowlowlowlowlowlowaveragelowlowlowlowlowlowlowlowlowaveragelowlowlowaveragelowlowlowaveragelowlowlowlowlowlowlowlowlowaveragelowlowlowlowlowlowlowlowaveragelowaveragelowlowlowlowlowlowlowlowlowaverageaverageaverageaverageaverageaverageaverageaverageaverageaverageaverageaverageaveragehighaverageaverageaverageaverageaverageaverageaverageaverageaveragehighhighaveragehighaveragehighhighhighhighhighaverageaveragehighhighhighaveragehighhighhighhighhighhighhighhighhighhighhighhighhighhighhighhighhighhighhighhighhighhighhighhighhighhighhighhighhighhighhighhighhighhighhighhighhighhighhighhighhighhighhighhighhighaverageaverageaverageaverageaverageaverageaveragehighaverageaverageaveragehighaverageaverageaveragehighaverageaverageaverageaveragehighaverageaveragehighhighaverageaverageaveragelowlowlowlowlowlowlowlowaveragelowlowlowaveragelowlowlowlowlowlowlowlowlowlowaveragelowlowlowlowlowaveragelowlowaveragelowlowlowlowlowlowlowlowlowlowlowlowlowlowlowlowaveragelowlowlowlowlowlowlowlowlowlowlowlowlowlowlowaverageaveragelowlowlowlowaveragelowlowlowlowlowlowlowlowlowlowlowaveragelowlowlowlowaveragelowlowlowlowlowlowlowlowlowlowaveragelowlowlowlowlowlowlowlowlowaveragelowlowlowlowlowlowlowaveragelowlowlowlowaveragelowlowlowlowlowlowlowlowlowlowlowaverageaveragelowlowlowlowaverageaverageaverageaverageaverageaverageaverageaverageaverageaverageaverageaverageaverageaveragehighaverageaverageaverageaverageaverageaverageaverageaveragehighaverageaveragehighaveragehighhighhighhighhighhighhighhighaverageaveragehighhighhighhighhighhighhighhighhighhighhighhighhighhighhighhighaveragehighhighhighhighhighhighaveragehighhighhighhighhighhighhighaveragehighhighhighhighhighhighhighhighhighaveragehighhighhighhighaverageaverageaverageaverageaverageaverageaverageaverageaverageaverageaverageaveragehighaverageaverageaverageaverageaverageaverageaveragehighaverageaverageaverageaverageaveragehighaverageaverageaverageaverageaveragehighaverageaverageaverageaverageaverageaverageaverageaverageaverageaveragelowlowlowlowlowaveragelowlowlowlowaveragelowlowlowaveragelowlowlowlowlowlowlowlowlowlowlowlowlowlowlowlowlowlowaveragelowlowlowlowlowlowlowlowlowlowlowlowlowlowaveragelowlowlowaveragelowlowlowlowaveragelowlowlowlowlowlowlowlowaveragelowlowlowlowlowlowaveragelowaveragelowaveragelowlowlowlowlowlowlowlowlowlowaveragelowlowlowlowlowlowlowlowaveragelowaveragelowlowlowlowlowlowlowlowlowlowlowlowlowlowlowlowlowlowaveragelowlowlowlowlowlowlowlowlowlowlowlowlowlowlowlowlowlowaveragelowlowlowaverageaveragelowaveragelowlowlowlowlowlowlowlowaverageaverageaverageaverageaverageaverageaverageaverageaverageaverageaverageaverageaverageaverageaverageaverageaverageaveragehighaverageaverageaverageaverageaverageaverageaverageaverageaverageaveragehighhighhighaverageaverageaverageaverageaverageaverageaverageaverageaverageaveragehighaveragehighhighhighhighhighhighhighhighhighhighhighhighhighhighhighhighhighaveragehighhighhighaveragehighhighhighhighhighhighhighhighhighhighhighhighhighhighhighhighaveragehighaverageaverageaverageaverageaverageaverageaverageaverageaverageaverageaverageaveragehighaverageaverageaverageaverageaverageaverageaverageaverageaveragehighhighaveragehighhighaverageaverageaverageaverageaverageaverageaveragehighaveragehighaverageaverageaverageaveragehighlowlowlowaverageaveragelowlowlowlowlowlowlowlowlowlowlowlowlowlowlowlowlowlowlowaveragelowlowaveragelowlowaveragelowlowlowlowlowlowaveragelowlowlowlowaveragelowaveragelowlowaveragelowlowlowlowlowlowlowlowlowlowlowlowlowaveragelowlowaveragelowlowaveragelowlowlowlowlowlowlowlowlowlowlowlowlowlowlowlowlowaverageaveragelowlowlowlowlowlowlowaverageaveragelowlowaverageaverageaverageaverageaveragehighaverageaverageaverageaverageaverageaverageaverageaverageaveragehighaverageaverageaverageaverageaverageaverageaverageaverageaverageaveragehighaveragehighhighhighhighhighhighaveragehighhighhighhighhighhighhighhighhighhighhighhighhighaveragehighhighhighaveragehighhighhighhighhighhighhighhighhighhighhighhighaveragehighhighhighhighhighhighhighhighhighaveragehighhighhighhighaveragehighhighhighaverageaverageaverageaveragehighaverageaveragehighaverageaverageaveragehighaverageaverageaverageaverageaverageaverageaverageaverageaverageaverageaveragehighaverageaverageaverageaverageaverageaverageaverageaverageaveragehighaveragehighaverageaverageaverageaverageaverageaveragelowlowlowlowlowlowlowlowlowlowaveragelowlowlowaveragelowlowlowlowlowlowaveragelowlowlowlowlowlowlowlowlowaveragelowlowlowlowlowlowlowlowlowaveragelowlowlowlowlowaveragelowlowlowlowlowlowlowlowlowlowlowlowlowlowlowlowlowlowaveragelowaveragelowlowaveragelowlowaveragelowlowlowlowlowlowlowlowaveragelowlowlowlowlowlowlowlowlowlowlowlowlowlowlowaveragelowlowlowlowlowlowlowlowaveragelowlowaveragelowlowlowlowlowlowlowlowlowlowaveragelowlowlowaveragehighaverageaveragehighaverageaverageaverageaverageaverageaverageaverageaverageaverageaveragehighaverageaverageaveragehighaverageaverageaverageaverageaverageaverageaverageaveragehighaveragehighhighhighhighhighhighhighhighhighaveragehighhighaveragehighaveragehighhighhighhighhighhighhighhighhighhighhighhighhighhighhighhighhighhighhighhighhighhighhighhighhighhighhighhighhighhighhighhighhighhighhighhighhighhighhighaverageaverageaveragehighaverageaverageaverageaverageaverageaverageaverageaverageaverageaveragehighaverageaverageaverageaveragehighaverageaverageaverageaverageaverageaverageaverageaverageaverageaverageaverageaverageaverageaverageaverageaverageaverageaverageaverageaverageaverageaverageaveragelowlowaveragelowlowlowlowlowlowlowlowlowlowlowlowlowlowlowlowaveragelowlowlowlowlowaveragelowlowlowlowlowlowlowlowlowaveragelowlowlowlowlowlowlowlowlowlowlowlowlowlowlowlowaveragelowaveragelowlowlowlowlowaveragelowlowaveragelowlowlowlowlowlowlowlowlowlowlowlowlowaveragelowlowlowlowlowlowlowaverageaveragelowaveragelowlowlowlowlowlowaveragelowlowaveragelowlowlowlowlowlowlowlowaveragelowaverageaveragelowlowlowlowlowlowlowlowlowlowlowlowlowlowhighaverageaverageaverageaverageaverageaveragehighhighaverageaverageaverageaveragehighaverageaverageaverageaverageaverageaverageaverageaverageaverageaverageaverageaverageaverageaverageaverageaverageaverageaverageaverageaverageaverageaverageaveragehighhighaverageaveragehighhighaveragehighhighhighhighhighhighhighhighhighhighhighhighhighhighhighhighhighaveragehighhighhighhighaveragehighhighhighhighhighhighhighaveragehighhighhighhighhighhighhighhighhighaverageaverageaveragehighaverageaverageaverageaverageaveragehighhighaverageaveragehighaverageaverageaverageaverageaveragehighaverageaverageaverageaverageaveragehighaveragehighaverageaverageaveragehighaverageaveragehighaverageaverageaverageaverageaverageaverageaveragelowaverageaverageaveragelowlowlowlowlowlowlowlowlowlowaverageaverageaverageaveragelowlowlowlowlowaveragelowlowlowlowlowlowlowlowaveragelowlowlowlowlowlowlowlowlowlowlowlowlowlowlowlowlowlowlowlowlowlowaveragelowlowlowlowlowlowlowlowlowlowlowlowlowaveragelowlowlowlowlowlowlowaveragelowlowaveragelowlowlowlowaverageaveragelowlowlowlowlowlowlowaveragelowlowlowlowlowlowlowlowlowlowlowlowlowlowlowaveragelowlowlowlowlowlowlowaveragelowlowlowlowlowlowlowlowaverageaveragehighaverageaverageaverageaverageaverageaverageaveragehighaverageaverageaverageaverageaveragehighaverageaverageaverageaverageaverageaverageaveragehighaverageaveragehighaverageaveragehighhighaveragehighhighhighhighhighhighhighhighhighhighhighaveragehighhighhighhighaveragehighhighhighhighhighhighhighhighhighhighhighhighhighhighhighhighhighhighhighhighhighhighhighhighhighhighhighhighhighaveragehighhighaveragehighhighaverageaverageaverageaverageaverageaverageaverageaverageaveragehighaveragehighaverageaverageaverageaverageaveragehighaverageaveragehighaverageaveragehighhighaverageaveragehighhighaveragehighaverageaverageaverageaverageaverageaverageaverageaverageaverageaverageaveragelowlowlowlowlowlowaveragelowlowlowlowlowlowlowlowlowlowaveragelowlowlowlowlowlowlowlowaveragelowlowlowlowlowaveragelowlowlowlowaverageaveragelowlowlowlowlowlowlowlowlowlowaveragelowlowlowlowlowlowlowaveragelowlowlowlowlowlowlowlowaveragelowlowlowlowaveragelowlowlowlowaveragelowlowlowlowlowlowlowlowlowlowlowlowlowlowaveragelowlowlowlowlowaveragelowlowaveragelowlowlowlowlowlowlowaveragelowaveragelowlowaverageaveragelowaveragelowlowlowlowlowaverageaveragehighaveragehighaveragehighaverageaverageaverageaverageaverageaveragehighhighaverageaverageaverageaverageaverageaverageaverageaveragehighaverageaverageaveragehighaverageaveragehighaveragehighhighaveragehighhighhighhighhighaveragehighhighhighhighhighhighhighhighhighhighhighhighaveragehighhighhighhighhighhighaveragehighaveragehighhighhighhighhighhighhighhighhighhighhighhighhighhighhighhighaveragehighhighhighaveragehighhighaverageaverageaverageaverageaverageaverageaverageaverageaverageaverageaverageaveragehighaverageaverageaverageaverageaverageaverageaveragehighhighaverageaverageaverageaverageaverageaverageaverageaverageaverageaverageaverageaverageaverageaverageaverageaverageaverageaverageaverageaveragelowlowlowlowlowlowlowlowlowlowlowlowlowlowaveragelowlowaveragelowlowlowlowlowlowlowlowlowlowaveragelowlowlowlowlowaveragelowlowlowlowlowaveragelowaveragelowlowlowlowlowlowlowlowaveragelowaveragelowlowlowlowlowlowlowlowlowlowlowlowaveragelowlowlowlowlowlowlowlowlowlowaveragelowlowlowaveragelowlowaveragelowaveragelowlowlowlowlowlowlowlowlowlowlowlowlowaveragelowlowlowlowaveragelowlowlowlowlowlowaverageaveragehighaveragehighhighaverageaverageaverageaverageaverageaveragehighaverageaverageaverageaverageaverageaveragehighaverageaverageaverageaverageaverageaveragehighhighaverageaverageaverageaverageaverageaverageaverageaverageaverageaverageaverageaverageaveragehighhighhighhighhighhighhighaveragehighhighhighhighhighhighhighhighaveragehighhighhighhighhighhighhighhighhighhighhighhighhighhighaveragehighhighhighhighaveragehighhighhighaveragehighhighhighhighhighhighhighhighhighhighhighhighhighhighhighhighhighaverageaverageaverageaverageaverageaverageaverageaveragehighhighaverageaveragehighhighaverageaverageaverageaverageaverageaverageaverageaveragehighaverageaverageaverageaverageaverageaverageaverageaverageaverageaverageaverageaverageaverageaverageaverageaverageaverageaverageaveragelowlowlowlowlowlowlowlowlowaveragelowlowaveragelowlowlowlowlowlowaveragelowlowaveragelowlowlowaveragelowlowlowlowlowlowaveragelowlowlowlowaverageaveragelowlowlowlowlowlowaverageaveragelowlowlowlowlowlowlowlowlowlowlowlowlowaveragelowlowlowlowlowlowlowaveragelowlowlowlowlowlowaverageaveragelowlowlowlowlowlowlowlowlowlowlowlowlowlowlowlowlowlowaveragelowlowlowlowlowlowlowlowaverageaveragelowlowlowlowlowlowaveragelowaveragelowlowlowlowlowaveragelowlowlowaverageaverageaveragehighaverageaverageaverageaveragehighaverageaveragehighhighaverageaverageaverageaverageaverageaverageaverageaverageaverageaveragehighaverageaverageaverageaverageaverageaverageaverageaverageaverageaverageaverageaverageaverageaverageaverageaveragehighaveragehighhighhighhighhighaveragehighhighhighhighhighhighhighhighhighhighhighhighhighhighhighhighhighhighhighhighhighhighhighhighhighaveragehighhighhighhighhighhighhighhighhighhighaverageaverageaverageaverageaverageaverageaverageaverageaverageaverageaverageaveragehighaveragehighaveragehighhighaverageaveragehighaveragehighaverageaverageaverageaveragehighhighaverageaverageaveragehighaverageaverageaverageaveragehighaverageaverageaverageaveragelowlowaveragelowlowlowlowlowlowlowaveragelowlowlowlowlowlowlowlowlowlowaveragelowaveragelowlowlowaveragelowlowaveragelowlowlowlowaveragelowlowlowaverageaverageaveragelowlowlowlowlowlowlowlowaveragelowlowlowlowlowlowaveragelowaveragelowlowaveragelowlowaverageaveragelowlowlowaveragelowlowlowlowlowlowlowlowlowlowlowaveragelowaveragelowlowlowlowlowlowlowlowlowlowlowlowlowlowlowlowlowlowlowlowlowlowlowlowlowlowlowlowlowlowlowlowlowlowlowlowlowaveragelowaveragelowaverageaveragehighaverageaverageaverageaveragehighhighaveragehighaverageaverageaverageaverageaverageaverageaverageaverageaverageaverageaveragehighhighaverageaverageaverageaverageaveragehighhighaverageaverageaverageaverageaverageaverageaveragehighhighaverageaveragehighaveragehighhighhighhighhighhighhighaverageaveragehighhighhighaveragehighhighhighhighhighhighhighhighhighhighhighaverageaveragehighhighhighhighhighhighhighhighhighhighhighhighhighhighaverageaverageaveragehighaverageaverageaverageaveragehighaverageaverageaverageaverageaverageaveragehighaverageaverageaverageaverageaverageaverageaverageaveragehighhighhighaveragehighaverageaverageaveragehighhighaverageaverageaverageaverageaveragehighaverageaveragelowlowaveragelowaveragelowlowlowlowlowaveragelowaveragelowlowaveragelowlowlowlowlowlowaverageaveragelowlowlowlowlowlowlowlowlowlowlowlowlowlowlowlowlowlowlowlowlowlowlowlowlowlowaveragelowaveragelowlowaveragelowlowlowlowlowlowlowlowlowlowlowlowlowlowlowlowlowlowlowlowlowlowlowlowlowlowlowlowaveragelowaveragelowlowlowaveragelowlowlowaveragelowlowlowlowlowlowlowlowlowlowlowlowlowlowlowlowlowaveragehighaverageaverageaverageaverageaverageaverageaverageaverageaverageaveragehighaverageaverageaverageaveragehighhighaveragehighaverageaverageaverageaverageaverageaveragehighaverageaverageaverageaverageaverageaverageaveragehighaverageaverageaverageaverageaveragehighaverageaverageaverageaveragehighaverageaverageaverageaverageaverageaverageaverageaverageaverageaveragehighhighhighhighhighhighhighhighhighhighhighaveragehighhighhighhighhighhighhighhighhighhighhighaveragehighhighhighhighhighhighhighhighhighhighhighhighhighhighhighhighhighaveragehighaverageaverageaverageaverageaverageaverageaverageaverageaverageaverageaverageaverageaverageaverageaverageaverageaverageaverageaverageaverageaverageaverageaverageaverageaverageaverageaverageaverageaverageaverageaverageaverageaverageaverageaverageaverageaveragehighhighaveragelowlowaveragelowlowaveragelowlowlowlowaveragelowlowlowlowlowlowlowlowlowlowlowaveragelowlowlowlowaverageaveragelowlowaveragelowlowlowlowlowlowlowlowlowlowlowlowlowlowlowlowaveragelowlowlowlowlowlowlowlowlowlowlowlowaveragelowlowlowlowlowlowlowaveragelowlowlowaverageaveragelowlowlowlowaveragelowlowaveragelowlowlowlowlowlowlowlowlowlowlowlowlowlowlowlowlowlowlowlowlowlowlowlowlowlowlowlowaveragelowlowlowaveragelowlowlowlowlowlowlowlowlowlowaverageaverageaverageaverageaveragehighhighaverageaverageaverageaverageaverageaverageaverageaverageaverageaverageaverageaverageaverageaverageaveragehighaverageaverageaverageaverageaverageaveragehighhighhighhighhighaveragehighaveragehighhighhighhighhighhighhighhighhighhighhighhighhighhighhighhighaverageaverageaveragehighhighaveragehighhighhighhighhighhighhighhighhighhighhighaveragehighhighhighhighhighaveragehighhighhighhighhighhighhighaverageaverageaverageaverageaverageaverageaverageaverageaverageaveragehighaverageaverageaverageaverageaverageaverageaverageaveragehighaverageaverageaverageaverageaverageaverageaverageaveragehighaverageaverageaverageaverageaverageaverageaverageaverageaverageaverageaverageaverageaveragelowlowlowlowlowlowlowlowlowlowlowlowlowlowlowlowlowlowlowlowlowlowlowlowlowaveragelowlowlowlowlowlowlowaveragelowaveragelowlowlowaverageaveragelowlowlowlowlowlowlowlowlowlowlowaveragelowaveragelowaveragelowlowlowlowlowlowlowlowlowlowlowaveragelowlowlowlowlowlowlowlowlowaveragelowlowlowlowaveragelowaveragelowlowlowlowlowlowlowlowlowlowlowlowlowlowaveragelowlowaveragelowlowlowlowlowaveragelowlowlowlowlowlowlowlowaverageaveragelowlowlowlowlowlowaverageaverageaverageaverageaverageaverageaverageaveragehighaverageaverageaveragehighaverageaverageaverageaverageaverageaveragehighaverageaveragehighhighaverageaverageaverageaverageaveragehighhighhighhighaveragehighhighaveragehighaveragehighaverageaveragehighhighhighhighhighhighhighhighhighhighaveragehighhighhighhighhighhighhighhighhighhighhighhighhighhighhighhighhighhighhighhighaveragehighhighhighhighhighhighhighhighhighhighaverageaverageaveragehighaverageaverageaverageaverageaverageaverageaverageaverageaverageaverageaverageaveragehighaverageaverageaveragehighaverageaverageaverageaverageaverageaverageaverageaverageaverageaverageaverageaverageaverageaverageaveragehighaverageaverageaverageaveragehighlowlowlowlowlowaveragelowlowlowlowlowaveragelowlowlowlowlowlowlowlowlowlowlowlowlowlowaveragelowlowlowlowaverageaverageaverageaveragelowlowlowaveragelowlowlowlowlowaverageaveragelowlowlowlowlowlowlowaveragelowlowlowlowlowlowlowlowlowlowlowlowlowaveragelowlowlowlowaveragelowlowaveragelowlowlowlowlowlowlowlowlowlowlowlowlowlowlowlowlowlowlowlowaverageaveragelowaverageaveragelowlowlowlowlowlowlowlowlowlowlowlowlowlowlowlowaveragelowlowaveragelowlowaveragelowlowaverageaverageaverageaverageaverageaverageaverageaverageaverageaverageaverageaverageaverageaverageaverageaverageaverageaveragehighaverageaverageaveragehighaverageaverageaverageaverageaveragehighhighhighhighhighhighhighhighhighhighaveragehighhighhighhighhighhighhighhighhighhighhighhighhighhighhighhighhighhighhighhighaveragehighhighhighhighhighhighhighhighhighhighhighhighhighhighhighhighhighhighhighhighhighhighhighhighaverageaverageaverageaverageaverageaverageaverageaveragehighaveragehighhighhighaverageaveragehighaverageaverageaverageaverageaverageaverageaverageaverageaverageaverageaverageaverageaverageaverageaverageaverageaverageaverageaverageaverageaveragehighhighaverageaverageaveragelowlowlowlowaverageaveragelowaveragelowlowlowlowlowlowlowaveragelowlowaveragelowaveragelowlowlowlowlowlowlowlowlowlowlowlowaveragelowlowlowlowaveragelowlowlowlowlowaveragelowlowlowlowlowlowlowlowlowlowlowlowlowlowlowlowlowlowlowaveragelowlowlowlowlowlowaveragelowlowlowlowlowlowlowlowlowlowlowlowaveragelowlowaveragelowlowlowlowlowlowlowlowlowaveragelowaveragelowlowlowlowlowlowlowlowlowlowlowlowlowaveragelowlowaveragelowlowlowlowlowlowlowlowlowhighaverageaverageaverageaverageaverageaverageaverageaveragehighaverageaverageaverageaverageaverageaverageaveragehighhighaverageaverageaverageaverageaverageaverageaveragehighaveragehighhighhighhighhighhighhighaveragehighhighhighhighhighhighhighhighhighhighhighhighhighhighhighhighhighhighhighhighhighaveragehighhighaveragehighaveragehighhighhighhighhighhighhighhighhighhighhighhighhighhighhighhighhighhighhighhighhighaveragehighaverageaverageaverageaverageaverageaverageaverageaverageaverageaverageaverageaveragehighaveragehighhighhighaverageaverageaverageaverageaveragehighaverageaverageaveragehighaverageaverageaverageaveragehighaverageaverageaverageaverageaverageaverageaveragehighlowlowlowlowlowaveragelowlowlowlowlowlowlowlowlowlowlowlowlowlowlowlowlowlowlowlowlowlowlowlowaveragelowlowlowlowlowlowlowlowaveragelowlowlowlowlowlowlowlowlowlowlowlowlowlowlowlowlowaveragelowlowlowlowaveragelowlowaveragelowlowlowlowlowlowlowlowlowlowaveragelowlowlowlowlowlowlowlowlowaveragelowlowlowlowaveragelowlowlowlowlowaveragelowlowlowaveragelowlowlowaveragelowlowlowlowlowlowaverageaverageaverageaverageaveragehighhighaverageaverageaverageaverageaverageaverageaverageaverageaverageaverageaverageaverageaverageaverageaverageaverageaverageaverageaverageaverageaverageaverageaveragehighaveragehighaverageaverageaverageaverageaverageaverageaverageaverageaveragehighhighhighhighhighhighhighhighhighhighhighhighhighhighhighhighhighhighhighhighhighhighhighhighhighhighaveragehighhighhighhighhighhighaveragehighhighhighhighhighhighhighhighhighhighhighhighhighhighhighhighhighhighhighhighhighhighaverageaverageaverageaverageaveragehighaverageaverageaverageaverageaverageaverageaveragehighaverageaverageaverageaverageaverageaverageaverageaverageaverageaveragehighaverageaverageaverageaverageaverageaverageaverageaverageaveragehighaverageaverageaverageaverageaverageaveragehighlowlowlowlowlowlowlowlowlowlowlowlowlowlowlowlowaveragelowlowlowaveragelowaveragelowlowaverageaveragelowlowlowlowlowlowlowaveragelowlowlowaveragelowlowlowlowlowlowaveragelowlowlowlowlowaveragelowlowlowlowlowlowlowlowlowlowlowlowaveragelowlowlowlowaveragelowlowlowlowlowlowlowlowlowlowlowlowlowlowlowlowlowlowlowaveragelowlowlowlowlowlowlowlowlowlowlowlowaveragelowaveragelowlowlowlowlowlowlowaveragelowaveragelowlowlowlowlowlowlowlowlowaverageaverageaverageaverageaveragehighhighaveragehighaverageaverageaverageaverageaveragehighaverageaveragehighaverageaverageaverageaverageaverageaverageaverageaverageaveragehighaverageaveragehighhighhighhighhighhighhighhighhighhighhighhighhighhighhighhighhighhighhighhighhighaveragehighhighhighhighhighhighhighhighhighaveragehighhighhighhighhighhighhighhighaveragehighhighhighhighhighhighhighhighhighhighhighhighhighhighhighaverageaverageaverageaverageaverageaverageaverageaverageaverageaverageaverageaverageaverageaverageaverageaverageaverageaverageaverageaverageaverageaverageaverageaverageaverageaveragehighaverageaverageaverageaverageaverageaverageaverageaverageaveragehighaverageaveragehighhighaveragelowlowlowaveragelowlowlowlowlowlowlowlowlowlowlowaverageaveragelowlowlowlowaverageaveragelowlowaveragelowlowlowlowlowlowlowlowlowaveragelowlowlowlowlowaveragelowlowlowlowlowaveragelowlowlowlowlowlowlowlowlowlowlowlowlowlowlowlowlowlowlowlowlowlowlowlowlowaverageaverageaveragelowlowlowlowlowlowlowlowlowaverageaveragelowlowlowlowlowlowlowaveragelowlowlowlowlowlowaveragelowlowlowlowlowlowlowlowlowlowaverageaverageaverageaverageaverageaverageaverageaverageaverageaverageaverageaverageaverageaverageaverageaverageaverageaverageaveragehighaverageaveragehighaverageaveragehighhighaverageaverageaverageaverageaverageaverageaverageaverageaverageaverageaverageaverageaverageaverageaverageaverageaverageaverageaverageaveragehighaveragehighhighaverageaverageaverageaverageaveragehighhighhighhighhighhighhighhighaveragehighhighhighhighhighaveragehighhighhighhighhighhighhighhighhighhighhighaveragehighhighhighhighhighhighhighhighhighhighhighhighaveragehighhighaverageaverageaveragehighhighhighaverageaveragehighhighaverageaverageaverageaveragehighaverageaverageaverageaverageaveragehighaverageaverageaveragehighhighaverageaverageaveragelowlowlowlowlowlowlowlowlowlowlowaveragelowlowlowlowlowaveragelowlowlowlowlowaveragelowlowlowlowlowlowlowlowlowlowlowlowaveragelowlowlowlowlowlowlowaveragelowaveragelowlowlowlowlowaveragelowlowlowlowlowaverageaveragelowlowlowlowlowaveragelowlowlowlowlowlowlowlowlowlowlowlowlowlowlowlowlowlowlowlowlowlowlowlowlowlowlowlowlowlowlowlowlowaveragelowlowlowlowlowlowaveragelowlowlowlowlowaveragelowlowlowlowlowlowlowlowaveragelowlowlowaveragehighaverageaverageaverageaveragehighhighaverageaverageaverageaverageaverageaverageaveragehighaveragehighaverageaverageaverageaverageaverageaverageaverageaverageaverageaverageaverageaverageaveragehighaverageaverageaverageaverageaverageaverageaverageaverageaverageaveragehighhighhighhighhighhighhighhighhighaveragehighaveragehighhighhighaverageaveragehighhighhighhighhighhighhighhighhighhighhighhighhighaveragehighaveragehighhighhighhighhighhighhighhighhighhighhighhighhighhighhighhighhighhighhighhighhighhighhighaveragehighaverageaverageaverageaverageaveragehighaveragehighaverageaverageaverageaveragehighhighhighaverageaveragehighhighaveragehighaverageaveragehighhighaverageaverageaverageaverageaverageaverageaverageaverageaverageaverageaverageaverageaverageaverageaveragelowlowaveragelowlowlowlowlowlowlowlowlowlowlowlowaveragelowaveragelowlowlowlowlowlowlowlowaveragelowlowaveragelowlowlowlowlowlowlowaveragelowlowlowlowlowlowaveragelowlowlowlowaveragelowaveragelowlowaveragelowlowlowlowlowlowaveragelowlowlowlowlowlowaveragelowlowlowaveragelowlowlowlowaveragelowlowaveragelowlowlowaveragelowlowlowaveragelowlowlowlowlowlowlowlowaveragelowlowaveragelowlowlowlowlowlowlowlowlowaveragelowaverageaverageaverageaverageaverageaverageaverageaveragehighaveragehighaverageaverageaveragehighaveragehighaverageaverageaveragehighaverageaverageaverageaverageaverageaverageaverageaverageaverageaverageaverageaverageaverageaverageaverageaverageaverageaverageaverageaverageaveragehighhighhighhighhighhighhighhighhighhighhighhighhighaveragehighhighhighhighhighhighhighhighhighhighhighhighhighhighhighhighhighaveragehighhighhighhighhighhighhighhighhighhighhighhighhighhighhighhighhighhighhighhighhighhighhighhighaverageaverageaveragehighaverageaveragehighaverageaverageaverageaveragehighaverageaveragehighaverageaverageaverageaverageaverageaverageaverageaverageaverageaverageaverageaverageaverageaverageaverageaverageaverageaverageaverageaverageaverageaverageaverageaverageaverageaverageaveragelowlowlowlowlowlowlowlowlowlowlowlowlowlowlowlowlowlowlowlowlowlowlowlowlowlowlowlowlowlowaveragelowlowlowlowaverageaveragelowlowlowlowlowlowlowlowlowlowaveragelowlowlowlowlowlowaveragelowlowlowlowlowlowlowaveragelowlowlowlowlowlowlowlowlowaveragelowlowlowlowlowlowlowaveragelowlowlowlowaveragelowlowlowlowlowlowaveragelowaveragelowlowlowlowlowlowlowlowlowaveragelowlowaverageaveragelowlowlowlowlowaverageaveragelowaveragelowlowlowaveragelowlowaverageaverageaverageaverageaverageaverageaveragehighhighaverageaveragehighaverageaverageaverageaverageaverageaverageaveragehighhighaverageaverageaverageaveragehighaveragehighaverageaveragehighhighhighhighhighhighhighhighhighhighhighaveragehighhighhighhighhighhighhighhighhighhighhighhighhighhighhighhighhighaveragehighhighhighhighhighhighhighhighhighhighhighhighhighhighhighhighhighhighhighhighaveragehighhighhighhighhighaverageaverageaverageaverageaverageaverageaverageaverageaveragehighaverageaverageaverageaverageaverageaverageaverageaverageaverageaverageaveragehighhighaverageaveragehighaverageaveragelowaveragelowlowlowlowlowlowlowlowaveragelowlowlowlowlowlowlowlowlowlowaveragelowlowlowlowlowlowlowlowlowlowlowaveragelowlowlowlowlowlowlowlowaveragelowaveragelowaveragelowlowlowlowlowlowlowlowlowaverageaveragelowlowlowaveragelowlowaveragelowlowlowlowlowlowlowaveragelowlowlowlowaveragelowlowlowlowlowaveragelowlowlowlowlowlowlowlowlowlowlowlowlowlowlowlowlowlowlowlowlowaveragelowlowlowlowlowlowaveragelowlowlowlowlowlowlowlowlowlowlowlowlowaveragehighaverageaverageaverageaverageaverageaverageaverageaverageaverageaverageaverageaverageaverageaverageaverageaveragehighhighaverageaveragehighaverageaverageaveragehighaverageaverageaverageaverageaverageaverageaverageaverageaverageaverageaveragehighaverageaverageaveragehighhighhighhighhighhighaveragehighhighhighhighhighhighhighhighhighhighhighhighhighhighhighaverageaveragehighhighhighaveragehighhighhighhighhighhighhighhighhighhighhighaveragehighhighhighaveragehighhighhighhighhighhighhighhighhighhighhighhighaveragehighaverageaverageaverageaverageaverageaverageaverageaveragehighaverageaverageaverageaverageaverageaverageaveragehighaverageaverageaverageaverageaveragehighaverageaverageaveragelowlowlowlowlowlowlowaveragelowlowlowlowlowlowlowlowlowlowaveragelowlowlowlowlowlowaveragelowaverageaveragelowlowlowlowlowlowlowlowlowlowaveragelowaverageaveragelowlowaveragelowlowlowaverageaveragelowlowlowlowlowlowlowaveragelowlowlowaveragelowlowlowlowlowlowlowlowlowlowlowaverageaveragelowlowlowlowaveragelowlowlowlowlowlowlowaveragelowlowlowlowlowlowaveragelowlowlowlowlowlowaveragelowaveragelowlowlowlowlowlowlowlowlowlowlowlowlowlowlowlowlowlowlowlowaveragelowlowlowlowaveragelowlowaveragelowlowaveragelowlowlowaverageaverageaverageaverageaverageaveragehighhighaverageaverageaverageaverageaverageaverageaveragehighhighhighaverageaveragehighaveragehighaverageaverageaverageaveragehighhighhighhighhighhighaveragehighhighhighhighhighhighaveragehighhighhighhighhighaveragehighhighhighhighaveragehighhighhighhighhighhighaveragehighhighhighhighhighhighhighhighhighhighhighhighaveragehighhighhighhighhighhighhighhighhighhighhighhighaverageaverageaverageaverageaverageaverageaverageaverageaverageaverageaverageaverageaverageaverageaverageaverageaverageaverageaverageaverageaverageaverageaverageaverageaverageaverageaverageaveragelowlowlowlowlowlowlowlowaveragelowlowlowlowlowlowlowlowlowlowlowaveragelowlowlowlowlowlowlowlowlowlowlowlowlowaveragelowlowaveragelowaverageaveragelowlowaveragelowlowlowaveragelowlowlowlowlowlowlowlowaverageaveragelowlowlowaveragelowaveragelowlowlowlowaveragelowlowlowlowaveragelowlowlowlowlowlowlowlowlowlowlowaveragelowlowlowlowlowlowlowlowlowlowlowlowlowlowlowlowlowaveragelowlowlowlowlowlowlowlowlowlowlowlowlowlowaveragelowaveragelowlowlowlowlowaverageaverageaverageaverageaverageaverageaverageaverageaverageaverageaverageaverageaverageaveragehighhighaverageaveragehighaverageaverageaverageaverageaverageaverageaverageaverageaverageaveragehighaverageaverageaverageaverageaverageaverageaveragehighaverageaverageaverageaverageaverageaverageaverageaverageaverageaverageaverageaverageaverageaverageaverageaverageaverageaveragehighaveragehighhighhighhighhighhighhighhighaveragehighhighhighhighaveragehighhighhighhighhighhighaveragehighhighhighhighhighhighhighhighhighhighaveragehighhighhighaveragehighhighhighhighaverageaverageaverageaverageaverageaverageaverageaverageaverageaverageaverageaverageaverageaverageaverageaverageaverageaverageaveragehighaverageaverageaverageaverageaverageaverageaverageaverageaverageaverageaveragehighaverageaverageaveragehighaverageaverageaverageaverageaveragehighlowlowlowlowlowaverageaverageaveragelowlowlowlowlowlowlowlowaveragelowlowlowaveragelowlowlowaveragelowlowaverageaveragelowlowlowaveragelowlowlowlowlowlowlowlowlowlowlowlowaverageaverageaveragelowlowlowlowlowlowlowlowaveragelowlowlowaverageaverageaverageaveragelowlowaverageaveragelowlowaveragelowlowlowlowlowlowlowlowlowlowlowlowlowlowlowlowlowlowlowlowlowlowlowlowlowlowlowlowlowlowlowlowlowlowlowlowlowlowlowlowlowaverageaverageaverageaveragehighaverageaverageaverageaveragehighaverageaverageaveragehighaverageaverageaverageaverageaverageaverageaveragehighhighaverageaverageaverageaveragehighhighaverageaverageaveragehighaverageaverageaverageaverageaverageaverageaverageaveragehighhighhighhighhighhighhighhighhighhighhighhighhighhighhighhighhighhighhighhighhighhighhighhighhighhighhighaveragehighhighhighhighhighhighhighhighhighhighhighhighhighaveragehighhighhighhighhighhighhighhighaveragehighhighhighaveragehighaverageaverageaverageaveragehighhighaverageaverageaverageaverageaverageaverageaverageaveragehighaverageaverageaverageaverageaverageaverageaverageaveragehighaveragehighaverageaverageaveragehighhighaveragehighaverageaverageaverageaverageaveragehighaverageaverageaverageaveragelowlowlowlowaveragelowaverageaveragelowlowlowlowlowlowlowlowlowlowlowaveragelowaveragelowlowlowlowlowlowlowlowlowaveragelowlowlowlowlowlowaveragelowlowlowaverageaveragelowlowlowlowaveragelowlowlowlowlowlowlowaverageaveragelowlowaveragelowaveragelowaveragelowlowlowaverageaveragelowlowlowlowlowlowlowlowlowlowlowaveragelowlowlowlowlowlowaveragelowlowaveragelowlowaveragelowlowlowaveragelowlowlowlowlowlowlowlowlowlowaveragelowlowhighaverageaverageaverageaverageaverageaverageaverageaverageaverageaverageaverageaverageaverageaverageaverageaverageaverageaveragehighaverageaverageaverageaverageaverageaverageaveragehighaverageaverageaverageaverageaverageaverageaverageaverageaveragehighaverageaverageaverageaverageaverageaverageaverageaverageaverageaverageaverageaverageaverageaverageaverageaverageaveragehighhighaveragehighhighhighhighhighhighhighhighhighhighhighhighhighhighhighhighhighhighhighhighhighaverageaveragehighhighhighaveragehighhighhighhighhighhighhighhighhighhighhighhighaveragehighaverageaverageaverageaverageaverageaverageaveragehighhighaverageaverageaverageaverageaverageaverageaverageaverageaverageaverageaverageaverageaverageaverageaverageaverageaverageaveragelowlowlowaveragelowlowaverageaveragelowlowlowlowlowlowaveragelowlowlowlowlowlowlowlowlowlowlowaveragelowlowlowlowlowlowlowlowlowlowlowlowlowlowlowlowlowaveragelowlowlowlowlowlowlowaveragelowlowlowlowlowaveragelowlowlowlowlowlowaveragelowlowlowlowaveragelowlowaveragelowlowlowlowlowaverageaverageaveragelowlowlowaveragelowlowaveragelowlowaveragelowaveragelowlowlowaveragelowlowlowlowlowlowlowlowlowlowlowlowlowlowlowlowlowlowlowlowaveragelowlowlowlowlowlowlowlowlowlowaveragelowlowlowlowlowlowaveragelowlowaverageaverageaverageaverageaverageaveragehighaverageaverageaverageaverageaverageaverageaverageaverageaverageaverageaverageaveragehighaverageaverageaverageaverageaverageaverageaverageaveragehighhighhighhighhighhighhighhighhighhighhighhighhighhighhighhighhighaveragehighhighhighhighhighhighhighhighhighhighhighhighhighhighhighhighhighhighhighhighhighhighhighhighhighhighhighhighhighhighhighhighhighaveragehighhighhighhighhighhighaverageaverageaverageaverageaverageaverageaveragehighaverageaverageaveragehighaverageaverageaverageaverageaverageaverageaverageaverageaverageaverageaverageaverageaverageaverageaverageaverageaverageaverageaverageaverageaverageaverageaverageaverageaverageaverageaverageaverageaveragelowlowlowaveragelowlowlowlowlowlowlowaveragelowlowlowlowlowlowlowlowlowlowlowlowlowlowlowlowlowlowlowlowlowlowlowlowlowaveragelowlowlowlowlowlowlowlowaveragelowlowlowlowlowlowlowlowlowlowlowlowlowlowlowaveragelowlowlowlowlowlowlowlowlowlowlowlowlowaveragelowaveragelowaveragelowlowlowlowaveragelowlowlowlowlowlowlowlowlowlowlowlowlowlowlowlowlowlowlowlowlowlowlowlowlowlowlowlowlowlowlowlowlowlowlowaveragelowlowlowlowaverageaverageaverageaverageaverageaverageaverageaverageaverageaverageaverageaverageaverageaverageaverageaveragehighaverageaverageaverageaverageaveragehighaveragehighhighaverageaveragehighhighhighhighhighhighhighhighhighhighaveragehighhighhighhighhighhighhighhighhighhighhighhighhighhighhighhighhighhighhighhighhighaveragehighhighhighhighhighhighhighhighhighhighhighhighhighhighhighhighhighhighhighaveragehighaveragehighaverageaverageaverageaverageaverageaverageaverageaverageaverageaverageaverageaverageaveragehighaverageaverageaverageaverageaverageaverageaverageaverageaverageaverageaverageaverageaverageaverageaverageaverageaverageaveragehighaverageaverageaverageaverageaverageaveragehighaverageaveragelowlowlowlowlowlowlowaveragelowlowlowlowlowlowlowlowlowlowlowlowaveragelowlowlowlowlowlowlowlowaverageaveragelowaveragelowlowaveragelowlowlowlowaveragelowlowlowlowlowlowlowlowlowlowlowlowaveragelowlowlowaveragelowlowaveragelowlowlowlowlowlowlowlowlowlowlowlowlowlowlowlowlowlowlowlowlowlowlowlowlowlowlowaveragelowlowlowaverageaverageaveragelowlowlowlowlowlowlowaverageaveragelowlowlowlowlowaveragelowlowaverageaverageaverageaverageaveragehighaverageaverageaverageaverageaverageaverageaveragehighaverageaverageaverageaverageaverageaverageaverageaverageaveragehighaverageaveragehighaverageaverageaverageaverageaverageaverageaverageaverageaverageaverageaveragehighaverageaverageaveragehighhighhighhighhighhighhighhighhighhighhighhighhighhighhighhighhighhighhighhighhighhighhighhighhighhighhighaveragehighhighhighhighhighhighhighhighhighhighhighhighhighhighhighhighhighhighhighhighhighhighaveragehighhighhighhighhighaverageaveragehighaverageaverageaverageaveragehighaveragehighaverageaverageaverageaverageaverageaveragehighaverageaverageaverageaverageaverageaverageaveragehighaverageaverageaveragelowaveragelowaveragelowlowlowlowlowlowlowlowaverageaveragelowlowlowaverageaverageaveragelowlowaveragelowlowlowlowlowlowlowlowlowlowlowlowlowlowlowlowlowlowlowlowaveragelowlowlowlowlowlowlowlowlowlowlowlowlowlowlowlowaveragelowlowlowlowlowlowlowlowaveragelowlowlowlowlowlowaveragelowlowlowlowlowlowlowlowlowlowaveragelowlowlowlowlowlowlowaveragelowlowlowlowlowaverageaveragelowaveragelowaveragelowlowlowlowaveragelowlowlowlowlowlowlowlowaveragelowlowlowlowlowaveragelowaverageaveragehighaverageaverageaverageaverageaverageaverageaveragehighaveragehighaverageaveragehighaverageaverageaverageaverageaverageaverageaveragehighaverageaverageaveragehighaverageaverageaveragehighhighaverageaverageaveragehighaverageaverageaverageaverageaveragehighhighhighhighhighhighhighhighaveragehighhighhighaveragehighaveragehighhighhighhighhighhighhighhighhighhighaveragehighhighhighhighhighhighhighhighhighhighhighhighhighhighaveragehighaveragehighhighhighhighhighaveragehighhighhighhighhighaverageaverageaverageaverageaverageaverageaverageaverageaverageaverageaverageaveragehighaverageaverageaverageaveragehighaverageaverageaverageaverageaverageaveragehighhighaverageaverageaveragelowlowlowlowlowlowaverageaveragelowlowlowaveragelowlowlowlowlowlowlowlowlowlowlowlowlowaveragelowlowaveragelowlowlowaveragelowlowlowlowlowlowlowlowlowlowaveragelowlowlowaveragelowlowlowaveragelowlowlowlowlowlowlowlowlowlowlowlowlowaveragelowlowlowlowlowlowlowlowlowlowlowlowaveragelowlowaveragelowlowlowlowlowlowaveragelowaveragelowlowlowlowaveragelowaveragelowlowaveragelowlowaveragelowaveragelowlowlowlowlowlowlowlowlowlowlowlowlowlowlowlowlowlowaveragelowlowlowlowaverageaveragehighaverageaverageaverageaveragehighaveragehighaverageaverageaveragehighaverageaverageaveragehighaverageaverageaverageaverageaverageaverageaverageaverageaverageaverageaverageaverageaverageaverageaverageaverageaverageaveragehighaverageaverageaverageaveragehighhighhighhighhighaveragehighhighaveragehighhighhighhighhighhighhighhighhighhighhighhighhighhighhighhighhighhighhighaveragehighhighhighhighhighhighhighhighhighhighhighhighhighaveragehighhighhighaveragehighaveragehighhighaveragehighhighhighhighaverageaverageaveragehighaverageaverageaverageaverageaverageaverageaverageaveragehighaveragehighaverageaverageaverageaverageaverageaverageaverageaverageaverageaverageaverageaveragelowlowlowlowlowlowlowlowlowlowlowlowlowlowlowlowlowlowlowlowlowaveragelowlowlowlowlowlowlowlowlowlowlowlowlowlowlowaveragelowlowlowlowlowlowlowaverageaveragelowlowlowlowlowlowlowaveragelowlowlowlowlowlowlowaveragelowlowlowlowlowlowlowlowlowlowlowlowlowlowlowaveragelowlowaveragelowaveragelowlowlowaveragelowaverageaveragelowaveragelowaverageaverageaveragelowlowlowlowaveragelowlowaveragelowlowlowlowaveragelowlowlowlowlowlowlowlowlowlowlowlowlowlowlowlowlowlowlowaveragelowaveragelowlowlowlowlowlowaverageaverageaverageaverageaverageaverageaverageaverageaveragehighaverageaverageaverageaverageaverageaverageaveragehighaverageaverageaveragehighhighaverageaverageaverageaverageaverageaverageaverageaverageaverageaveragehighaverageaverageaverageaverageaverageaverageaverageaveragehighhighhighaverageaverageaverageaveragehighhighaveragehighhighhighhighhighhighhighhighhighhighhighhighhighhighhighhighhighhighhighhighhighhighhighhighhighhighhighhighhighaverageaveragehighhighaverageaverageaverageaverageaverageaverageaverageaveragehighaverageaverageaveragehighaverageaverageaverageaverageaverageaverageaverageaverageaveragehighaverageaverageaverageaverageaverageaveragehighaverageaverageaveragehighaverageaverageaverageaveragehighaverageaveragelowlowlowlowlowlowlowlowlowlowlowlowlowaveragelowlowlowlowlowlowlowlowaveragelowlowlowlowlowlowlowlowlowlowlowlowlowlowlowaveragelowlowlowaveragelowlowlowlowaverageaveragelowlowlowlowaveragelowlowlowlowlowlowlowlowlowlowlowlowlowlowlowlowaveragelowaveragelowlowlowaveragelowlowlowlowlowlowlowaveragelowlowlowlowlowlowlowlowlowlowlowlowlowlowlowlowlowlowlowlowlowlowaveragelowlowlowaveragelowlowlowlowlowlowlowlowaveragelowlowlowlowlowaverageaverageaverageaverageaverageaverageaverageaverageaverageaverageaverageaverageaveragehighaverageaverageaveragehighaverageaverageaverageaverageaverageaveragehighaverageaverageaveragehighhighhighhighhighhighhighhighhighhighhighaveragehighhighhighhighhighhighaveragehighhighhighhighhighhighhighhighhighhighaveragehighhighhighaveragehighhighhighhighhighhighhighhighaveragehighhighhighhighhighhighaveragehighaveragehighhighhighaverageaverageaverageaverageaverageaverageaverageaverageaverageaverageaverageaverageaverageaverageaverageaverageaverageaverageaverageaverageaverageaverageaverageaveragehighaveragehighaverageaveragelowlowlowaverageaveragelowaveragelowlowaveragelowlowlowlowlowlowlowlowlowaveragelowlowlowlowlowlowlowlowlowlowlowaveragelowlowlowaveragelowlowlowlowlowlowlowlowlowlowlowaveragelowlowlowlowlowlowlowlowaveragelowlowlowlowlowaveragelowlowaveragelowlowlowlowlowaveragelowlowlowlowlowlowlowlowlowlowlowlowlowlowlowlowlowlowlowaveragelowlowaveragelowlowlowaveragelowlowlowlowaveragelowlowlowlowlowlowlowlowlowlowlowlowlowlowlowlowlowlowlowlowlowlowlowlowlowlowlowlowlowlowaveragelowlowlowlowaverageaverageaverageaveragehighaverageaverageaverageaverageaverageaverageaveragehighaverageaverageaverageaverageaverageaverageaverageaverageaverageaveragehighaveragehighaverageaveragehighaverageaverageaverageaveragehighhighaverageaveragehighaverageaverageaverageaverageaveragehighhighhighaveragehighhighaveragehighhighhighhighhighhighhighhighhighhighhighhighaveragehighaveragehighhighhighhighhighaveragehighhighhighhighhighhighhighhighhighhighhighhighhighhighaverageaverageaverageaverageaverageaverageaverageaverageaverageaverageaveragehighaverageaverageaverageaveragehighaveragehighaveragehighaverageaverageaverageaveragehighaverageaverageaverageaverageaverageaverageaverageaverageaveragehighaverageaveragehighaverageaverageaveragelowlowlowlowlowlowlowaveragelowlowlowlowaveragelowlowlowaveragelowaverageaveragelowlowlowlowlowlowlowlowlowlowlowlowlowlowlowlowlowlowlowlowlowlowlowaveragelowlowlowlowlowaveragelowlowlowlowlowlowlowlowlowlowlowaveragelowlowlowlowlowlowaverageaveragelowlowlowaveragelowlowaveragelowlowlowlowlowlowlowlowlowlowlowlowlowlowlowlowlowlowlowlowlowlowlowaveragelowlowlowlowlowlowlowlowlowlowlowlowlowlowlowlowlowlowlowaveragelowlowlowlowlowaverageaverageaveragehighhighaverageaverageaverageaverageaverageaverageaverageaverageaverageaverageaverageaveragehighaverageaverageaverageaverageaverageaverageaveragehighaverageaverageaveragehighhighhighhighhighhighhighhighhighhighhighaveragehighhighhighhighhighhighhighhighhighhighaveragehighhighhighhighhighhighaveragehighhighhighhighhighhighhighhighhighhighhighhighhighhighhighhighhighhighhighhighhighhighhighhighaverageaveragehighaverageaverageaverageaverageaverageaverageaverageaverageaverageaverageaveragehighaveragehighaverageaverageaverageaverageaverageaverageaverageaverageaverageaverageaveragehighaverageaverageaverageaverageaverageaverageaverageaverageaverageaverageaverageaveragehighaveragelowaveragelowlowlowlowaveragelowlowlowlowaveragelowaverageaveragelowlowlowlowlowaveragelowlowlowlowlowlowlowaverageaveragelowlowlowlowlowlowaverageaveragelowaveragelowlowlowlowlowlowlowlowlowlowlowlowlowlowlowlowaveragelowlowlowlowlowlowlowlowlowlowlowaveragelowlowlowaveragelowlowlowlowlowlowlowlowlowlowlowlowlowaveragelowlowlowlowlowlowlowlowlowlowlowlowlowlowlowaveragelowlowlowlowlowlowlowlowlowlowlowlowlowlowlowlowlowlowlowlowlowlowaverageaverageaverageaverageaverageaverageaverageaverageaverageaverageaverageaverageaveragehighaveragehighaverageaverageaverageaverageaverageaverageaverageaverageaverageaverageaverageaverageaverageaverageaverageaverageaveragehighaverageaverageaverageaverageaverageaverageaverageaveragehighhighhighaveragehighhighhighhighhighhighhighhighhighhighhighhighhighaveragehighhighhighhighaveragehighhighhighhighhighaveragehighhighhighhighhighhighhighhighhighhighhighhighhighhighaverageaverageaveragehighaverageaverageaverageaverageaveragehighaveragehighaverageaverageaverageaverageaverageaverageaveragehighaverageaverageaverageaverageaverageaverageaverageaveragelowlowlowlowlowlowlowlowlowlowlowaverageaveragelowlowaveragelowlowlowlowlowlowlowaveragelowlowaveragelowlowaverageaveragelowaveragelowlowlowlowlowlowlowlowlowlowlowlowlowaverageaveragelowlowlowlowlowlowaveragelowlowaverageaveragelowlowaveragelowlowlowlowlowaveragelowlowlowlowlowlowlowlowlowlowaveragelowlowaverageaveragelowaveragelowlowlowlowlowlowlowlowlowlowlowlowlowlowlowlowlowlowlowlowlowlowlowlowlowlowlowlowlowaverageaveragelowlowlowlowlowlowlowlowlowlowaveragelowlowlowaveragelowlowlowlowlowlowlowlowlowaverageaverageaverageaverageaverageaverageaverageaverageaverageaverageaverageaveragehighaveragehighaverageaverageaverageaverageaverageaverageaverageaveragehighhighhighhighaverageaverageaverageaverageaverageaverageaverageaveragehighaverageaverageaverageaverageaveragehighhighhighhighhighhighhighhighhighhighhighhighaveragehighhighhighhighaveragehighhighhighhighhighhighhighhighhighhighhighhighhighhighaveragehighhighhighhighhighhighhighhighhighhighaverageaveragehighaverageaverageaveragehighaverageaverageaveragehighhighaverageaverageaverageaveragehighaverageaverageaverageaverageaveragehighhighaverageaverageaverageaveragelowaveragelowlowlowlowlowaveragelowlowlowlowaveragelowlowlowaveragelowlowaveragelowaverageaveragelowlowlowlowlowlowlowaveragelowlowlowlowlowlowlowlowlowlowlowlowlowlowlowlowlowlowaveragelowlowlowlowlowlowlowlowlowlowlowlowlowlowlowlowlowlowlowaveragelowlowlowlowlowlowlowlowlowlowlowlowlowlowlowaveragelowlowlowlowlowaveragelowaveragelowlowlowlowaveragelowaveragelowlowlowlowlowlowlowlowlowaveragelowlowlowlowaverageaverageaveragelowlowlowlowlowaveragelowlowlowlowaveragelowlowlowlowaveragelowlowlowlowlowlowaverageaverageaverageaverageaverageaverageaverageaverageaverageaverageaveragehighaverageaverageaverageaverageaverageaverageaverageaverageaveragehighaverageaverageaverageaverageaverageaverageaverageaverageaverageaverageaverageaverageaverageaverageaverageaverageaveragehighaverageaveragehighhighaveragehighhighhighhighhighaveragehighhighhighhighhighhighhighhighaveragehighhighhighhighhighhighhighhighhighhighhighaveragehighhighhighhighhighhighhighhighhighhighhighhighaverageaverageaverageaveragehighaveragehighaverageaverageaverageaverageaverageaverageaverageaverageaverageaverageaverageaveragehighaverageaverageaveragehighaverageaverageaverageaverageaverageaveragehighaverageaverageaverageaverageaverageaveragehighaverageaverageaverageaveragelowlowlowaveragelowlowaverageaveragelowlowlowlowlowaveragelowlowaveragelowlowlowlowlowlowaveragelowlowlowlowaveragelowaveragelowlowlowlowlowaveragelowlowlowlowlowlowlowlowlowlowaveragelowaveragelowaveragelowlowaveragelowlowlowlowlowlowlowlowlowlowlowlowlowlowlowlowlowlowaveragelowlowlowlowlowlowlowlowlowlowlowlowlowaveragelowlowlowlowaverageaveragelowlowlowlowlowlowlowaverageaveragelowlowlowaveragelowlowlowlowaverageaverageaverageaveragehighaveragehighaverageaverageaveragehighaveragehighaveragehighaverageaverageaverageaverageaverageaverageaverageaverageaverageaverageaverageaverageaverageaverageaverageaverageaverageaverageaverageaverageaverageaverageaverageaverageaverageaverageaverageaverageaverageaverageaverageaverageaverageaverageaverageaverageaverageaverageaverageaverageaveragehighhighhighhighhighhighhighhighhighhighhighaveragehighhighhighhighhighhighhighhighhighhighhighaveragehighaveragehighhighaveragehighhighhighhighhighhighaveragehighhighhighhighhighhighhighhighaverageaverageaverageaveragehighhighaverageaverageaverageaveragehighaverageaveragehighaverageaverageaverageaverageaverageaverageaverageaverageaverageaverageaverageaverageaverageaverageaverageaverageaveragehighaverageaverageaverageaverageaverageaverageaverageaverageaveragelowlowlowaveragelowlowlowlowlowaveragelowlowlowlowlowlowlowlowlowaveragelowlowlowlowlowlowlowlowlowlowaveragelowlowlowlowlowlowlowlowlowlowlowlowlowlowaveragelowlowlowlowlowlowlowlowlowaveragelowlowlowlowlowlowlowlowlowlowlowlowlowaveragelowlowaveragelowlowlowlowlowlowlowlowlowlowlowlowlowlowlowaveragelowlowlowlowlowlowlowlowlowlowlowlowlowlowlowlowlowlowlowlowlowlowlowlowlowlowlowlowlowlowlowlowlowlowlowlowlowaverageaveragehighaveragehighaveragehighaverageaverageaverageaverageaverageaverageaverageaverageaverageaverageaveragehighaverageaverageaverageaverageaverageaverageaverageaverageaverageaverageaverageaverageaverageaverageaveragehighaverageaveragehighaverageaverageaverageaveragehighhighhighhighhighhighaveragehighaverageaveragehighhighhighhighaveragehighhighhighhighhighhighhighhighhighhighhighhighhighhighhighhighhighhighhighaveragehighhighhighhighhighhighhighaverageaverageaverageaverageaverageaveragehighaverageaverageaverageaverageaverageaverageaverageaverageaverageaverageaverageaverageaverageaverageaverageaverageaverageaverageaverageaveragehighaverageaverageaverageaverageaverageaverageaverageaveragehighaveragehighaverageaverageaveragelowlowlowlowlowlowlowlowlowlowaverageaveragelowlowaveragelowlowlowlowaveragelowlowlowlowaveragelowlowlowlowlowlowlowaverageaveragelowlowlowaveragelowlowlowaveragelowlowlowlowlowlowlowlowlowaveragelowlowlowlowlowlowlowlowlowaveragelowlowlowlowaveragelowlowlowaveragelowlowlowlowlowlowlowlowlowlowlowaveragelowlowaverageaverageaveragelowlowlowaverageaveragelowlowlowlowlowlowlowlowaveragelowaveragelowlowlowaveragelowlowlowlowlowlowlowaveragelowlowlowlowlowlowlowlowlowlowaverageaverageaverageaverageaverageaverageaverageaveragehighaverageaverageaverageaveragehighaveragehighaverageaverageaverageaverageaverageaverageaverageaverageaverageaverageaverageaveragehighhighhighhighhighhighhighaveragehighhighhighhighhighhighhighhighhighhighhighhighhighhighhighhighhighaveragehighhighhighhighaveragehighhighhighhighhighhighhighhighhighhighhighhighhighhighhighhighhighhighhighhighhighhighhighhighhighaverageaveragehighaverageaverageaverageaverageaverageaveragehighaverageaverageaveragehighaverageaverageaverageaveragehighaverageaverageaverageaverageaverageaverageaverageaverageaverageaverageaveragelowlowlowlowlowlowaveragelowlowlowlowlowlowlowaveragelowlowlowlowlowlowlowaveragelowlowlowlowlowlowlowlowlowlowlowlowlowlowlowaverageaveragelowaveragelowlowlowlowlowlowlowlowlowaverageaveragelowlowaveragelowlowlowlowlowlowlowlowlowlowlowlowlowlowlowlowlowlowlowlowaveragelowlowaveragelowlowlowaveragelowlowaveragelowlowlowlowlowlowlowlowaveragelowlowaveragelowaveragelowlowlowlowlowaveragelowlowlowlowlowlowlowaveragelowlowlowlowlowlowlowlowaveragelowlowlowlowlowlowlowlowlowlowlowlowlowlowaverageaverageaverageaverageaverageaverageaverageaverageaverageaverageaverageaverageaverageaverageaverageaveragehighaverageaverageaverageaverageaverageaverageaveragehighaveragehighhighaveragehighaverageaverageaveragehighaveragehighaverageaverageaverageaverageaverageaveragehighhighhighhighhighhighhighaveragehighhighaveragehighhighhighaveragehighhighhighhighhighhighhighhighhighhighhighhighhighhighaveragehighhighhighhighhighhighhighaveragehighhighhighhighaverageaverageaverageaverageaverageaveragehighaverageaveragehighaverageaverageaveragehighaverageaverageaveragehighaveragehighaverageaverageaverageaverageaverageaverageaverageaverageaverageaverageaverageaverageaveragehighaverageaverageaveragehighaverageaverageaverageaveragelowlowaveragelowlowlowlowlowlowlowlowlowlowlowlowaveragelowlowlowlowaveragelowlowlowlowlowlowlowlowlowaveragelowlowlowlowaveragelowlowlowlowlowaveragelowlowlowlowlowlowlowlowlowlowlowlowlowaveragelowlowlowlowlowlowlowlowlowaveragelowlowlowlowlowaverageaveragelowlowlowlowlowlowlowaveragelowlowlowlowlowaveragelowlowlowlowlowlowlowaveragelowlowlowlowlowlowlowlowlowlowlowlowlowlowlowlowaveragelowlowlowlowlowlowlowlowaveragelowlowlowlowlowaveragehighaverageaverageaverageaveragehighaverageaverageaverageaverageaveragehighhighaverageaverageaverageaverageaveragehighhighaverageaverageaveragehighaverageaverageaverageaverageaverageaverageaverageaverageaverageaverageaverageaverageaverageaverageaveragehighaveragehighhighhighhighhighhighhighhighhighhighhighhighhighhighhighhighhighhighhighaveragehighaveragehighhighhighhighhighhighhighhighhighhighhighhighhighhighhighhighaveragehighhighhighaverageaverageaverageaveragehighhighaverageaverageaverageaverageaverageaverageaverageaverageaverageaverageaveragehighaverageaverageaveragehighaverageaverageaverageaverageaverageaverageaverageaverageaverageaverageaverageaverageaverageaverageaverageaverageaverageaverageaverageaveragelowaveragelowlowlowlowaverageaveragelowlowlowlowlowaveragelowlowlowaveragelowlowaveragelowaveragelowlowlowlowlowlowaveragelowlowlowlowlowaverageaveragelowlowlowlowlowaveragelowlowlowlowaveragelowlowlowlowlowaveragelowlowlowaveragelowlowlowaveragelowlowaveragelowlowlowlowlowlowlowlowlowlowlowlowlowlowlowlowlowlowlowlowlowlowlowlowlowlowlowlowlowlowlowlowlowlowaveragelowlowlowlowaveragelowlowlowlowaverageaveragelowaveragelowlowlowaveragelowlowlowlowlowlowlowlowlowaverageaverageaverageaverageaverageaveragehighhighaverageaverageaverageaverageaveragehighaverageaveragehighaverageaverageaverageaverageaverageaverageaverageaveragehighaverageaveragehighhighhighhighhighhighhighhighhighhighaveragehighhighhighhighhighhighhighhighaveragehighaveragehighhighhighhighhighhighhighhighhighhighhighhighhighhighhighhighhighhighhighhighaverageaverageaverageaverageaverageaverageaverageaverageaverageaverageaveragehighaverageaverageaverageaveragehighaverageaverageaverageaverageaverageaverageaverageaverageaverageaverageaverageaverageaverageaverageaverageaveragehighaverageaverageaverageaverageaveragehighhighaveragelowlowlowlowlowlowlowlowlowlowlowlowlowlowlowlowaveragelowlowlowaveragelowlowaveragelowlowlowlowlowlowlowlowlowlowlowlowlowlowlowlowlowlowlowlowlowlowlowaveragelowlowlowlowlowaveragelowaveragelowaveragelowlowlowlowlowlowlowlowlowaveragelowlowlowlowlowaveragelowaveragelowlowlowlowlowlowlowaveragelowlowlowlowlowlowaveragelowlowlowaveragelowlowlowlowlowlowlowlowlowlowlowlowaveragelowlowaveragelowaverageaverageaverageaverageaverageaverageaverageaverageaveragehighaverageaverageaverageaverageaverageaverageaverageaverageaverageaverageaverageaverageaverageaverageaveragehighaverageaveragehighhighhighhighhighhighhighhighhighhighhighhighhighhighhighhighhighhighhighaveragehighhighhighhighhighhighhighhighhighhighhighhighhighhighhighaveragehighhighhighhighhighhighhighhighhighhighhighhighhighhighhighhighhighhighhighhighaverageaverageaverageaverageaverageaverageaverageaverageaverageaverageaverageaverageaverageaverageaverageaverageaverageaverageaverageaverageaverageaverageaverageaverageaverageaverageaverageaveragehighaverageaverageaveragehighaverageaverageaverageaverageaveragehighaverageaverageaveragelowlowlowlowaverageaveragelowlowlowlowlowlowlowlowlowlowaveragelowlowaveragelowlowlowlowlowlowlowlowlowlowlowaveragelowaveragelowlowlowlowlowlowlowlowlowlowlowaveragelowaveragelowlowlowlowlowlowlowlowlowlowlowlowlowlowaveragelowlowaveragelowlowlowlowlowlowlowaveragelowaveragelowlowlowlowlowlowlowlowlowlowlowlowaverageaverageaveragelowlowlowaveragelowlowlowaveragelowlowlowlowlowlowlowlowlowlowlowlowlowaverageaverageaverageaverageaverageaverageaverageaverageaverageaverageaverageaverageaveragehighaverageaverageaverageaverageaverageaverageaveragehighhighaverageaverageaverageaverageaverageaverageaverageaverageaverageaverageaverageaverageaverageaverageaverageaverageaverageaverageaverageaverageaveragehighaveragehighhighhighhighhighhighaveragehighaveragehighhighhighhighhighhighhighhighhighhighhighhighhighhighhighhighhighhighhighhighhighhighhighhighhighhighhighaveragehighhighhighhighaveragehighhighhighhighhighhighhighhighhighhighaverageaverageaverageaveragehighaverageaverageaverageaverageaverageaverageaverageaverageaverageaverageaverageaverageaverageaverageaverageaverageaveragehighaverageaverageaverageaverageaverageaveragehighhighaverageaverageaverageaverageaverageaveragehighaveragehighaverageaverageaveragelowlowlowlowlowlowlowaveragelowlowlowaveragelowlowlowlowlowlowlowlowlowaverageaveragelowlowaveragelowlowlowlowlowlowlowlowlowlowlowlowlowlowlowlowlowlowlowlowlowlowlowlowlowlowlowlowlowlowlowlowlowlowlowlowlowlowlowlowlowlowlowlowlowlowlowaveragelowlowlowlowlowlowlowlowlowlowlowlowlowlowlowlowlowlowlowlowlowlowlowlowlowlowlowaveragelowaverageaveragelowaveragelowlowlowlowlowlowlowlowlowlowlowaveragelowlowaveragelowlowlowaveragehighaverageaverageaverageaverageaveragehighhighaverageaverageaverageaverageaverageaverageaverageaverageaverageaveragehighaverageaverageaverageaverageaverageaverageaverageaverageaverageaverageaverageaverageaveragehighaverageaverageaverageaverageaverageaverageaverageaveragehighhighhighhighhighaveragehighhighhighhighhighhighhighhighaveragehighhighhighhighhighaveragehighhighhighhighhighhighhighhighhighhighhighhighhighhighhighhighhighhighhighhighhighaverageaverageaverageaverageaverageaverageaverageaverageaverageaverageaverageaverageaverageaverageaveragehighaverageaverageaverageaveragehighaverageaverageaverageaverageaverageaverageaverageaverageaveragehighaverageaverageaverageaverageaverageaverageaverageaverageaverageaverageaveragelowlowlowlowlowaveragelowlowlowaveragelowlowlowlowaveragelowlowlowlowlowlowaveragelowlowaverageaveragelowlowlowlowlowlowlowaveragelowlowlowlowlowaveragelowlowlowlowlowaveragelowlowlowlowlowaveragelowaveragelowlowaveragelowlowaveragelowaveragelowlowlowlowlowlowlowlowlowlowlowlowaveragelowlowlowlowlowaveragelowlowlowlowlowlowaveragelowlowlowlowlowlowaveragelowaveragelowlowaverageaverageaveragelowaverageaveragelowlowlowlowlowaveragelowaverageaverageaverageaverageaverageaveragehighaverageaverageaverageaveragehighaverageaverageaverageaverageaverageaverageaveragehighaverageaverageaverageaverageaverageaverageaverageaverageaverageaverageaverageaverageaverageaverageaverageaverageaverageaveragehighhighaveragehighhighhighhighhighhighhighhighhighhighhighhighhighhighhighhighhighhighhighhighhighhighhighhighhighhighhighhighhighhighhighhighhighhighhighhighhighhighhighhighhighhighhighhighhighhighhighhighhighhighhighaveragehighhighhighhighhighhighaverageaverageaveragehighaverageaverageaverageaverageaverageaverageaverageaverageaverageaveragehighaverageaverageaverageaverageaveragehighaverageaveragehighaveragehighhighlowlowlowaveragelowlowlowlowlowlowlowlowlowlowlowlowlowlowlowlowlowlowlowlowlowaveragelowaveragelowlowlowlowlowlowlowlowlowlowlowlowaveragelowlowlowlowlowaveragelowlowlowlowlowlowaveragelowlowlowlowlowlowlowaveragelowaveragelowlowaveragelowaveragelowaveragelowlowaveragelowlowaveragelowlowlowlowlowlowlowlowlowlowlowlowlowlowlowlowlowlowlowlowaveragelowlowlowlowlowaveragelowlowlowlowlowlowlowlowlowlowaverageaveragelowlowlowlowlowlowlowlowlowlowaverageaverageaverageaverageaverageaverageaverageaverageaverageaverageaveragehighaverageaveragehighaverageaverageaverageaverageaverageaverageaverageaveragehighaverageaverageaverageaveragehighaveragehighaverageaverageaverageaverageaverageaverageaverageaveragehighaveragehighhighhighhighhighhighhighhighhighhighhighaveragehighhighhighaveragehighhighhighhighhighhighhighhighhighhighaveragehighhighhighhighhighhighhighaveragehighaveragehighhighhighhighhighhighhighhighhighhighhighhighhighhighhighaverageaveragehighhighhighaveragehighaverageaveragehighaverageaverageaverageaverageaverageaverageaverageaverageaverageaverageaveragehighaveragehighaverageaverageaverageaverageaverageaverageaverageaverageaverageaverageaverageaverageaverageaverageaverageaveragehighaverageaverageaverageaveragehighaveragelowaveragelowlowlowlowlowlowlowaveragelowaveragelowlowlowlowlowlowlowlowaveragelowlowlowlowlowlowlowlowlowlowlowlowlowlowlowlowlowlowlowlowlowlowlowlowlowlowaveragelowlowaveragelowlowlowlowlowaveragelowlowlowlowlowlowlowlowlowlowlowlowlowlowlowlowaverageaveragelowlowlowlowlowlowlowaverageaveragelowlowlowlowlowaveragelowlowaverageaveragelowlowlowlowlowlowlowlowlowlowlowaveragelowlowlowlowlowlowhighaverageaverageaverageaverageaveragehighaverageaverageaverageaverageaverageaveragehighhighhighaverageaverageaveragehighaveragehighaverageaverageaverageaverageaverageaverageaverageaverageaverageaverageaveragehighaverageaverageaverageaverageaveragehighaverageaveragehighhighhighhighhighhighhighhighaveragehighhighhighaveragehighhighaveragehighhighhighhighhighhighhighhighhighhighhighhighhighhighhighhighhighaveragehighhighhighhighhighhighhighaveragehighhighhighhighhighhighhighhighaveragehighhighaveragehighhighhighhighaverageaverageaverageaverageaverageaverageaverageaverageaverageaverageaverageaverageaverageaverageaverageaverageaverageaverageaverageaveragehighhighaverageaverageaverageaveragelowlowlowlowlowlowlowlowlowlowlowlowlowlowlowlowlowlowaveragelowlowaveragelowlowlowlowlowlowlowlowlowlowaveragelowlowlowaveragelowlowlowaveragelowaverageaveragelowlowlowlowlowlowlowlowlowlowlowlow' to numeric",
          "traceback": [
            "\u001b[0;31m---------------------------------------------------------------------------\u001b[0m",
            "\u001b[0;31mTypeError\u001b[0m                                 Traceback (most recent call last)",
            "\u001b[0;32m/tmp/ipython-input-101-4134286334.py\u001b[0m in \u001b[0;36m<cell line: 0>\u001b[0;34m()\u001b[0m\n\u001b[1;32m      4\u001b[0m     \u001b[0mdf\u001b[0m\u001b[0;34m[\u001b[0m\u001b[0;34m'TrafficConditionNearby'\u001b[0m\u001b[0;34m]\u001b[0m \u001b[0;34m=\u001b[0m \u001b[0;36m0\u001b[0m\u001b[0;34m\u001b[0m\u001b[0;34m\u001b[0m\u001b[0m\n\u001b[1;32m      5\u001b[0m \u001b[0;32melse\u001b[0m\u001b[0;34m:\u001b[0m\u001b[0;34m\u001b[0m\u001b[0;34m\u001b[0m\u001b[0m\n\u001b[0;32m----> 6\u001b[0;31m     \u001b[0mmean_traffic\u001b[0m \u001b[0;34m=\u001b[0m \u001b[0mdf\u001b[0m\u001b[0;34m[\u001b[0m\u001b[0;34m'TrafficConditionNearby'\u001b[0m\u001b[0;34m]\u001b[0m\u001b[0;34m.\u001b[0m\u001b[0mmean\u001b[0m\u001b[0;34m(\u001b[0m\u001b[0;34m)\u001b[0m\u001b[0;34m\u001b[0m\u001b[0;34m\u001b[0m\u001b[0m\n\u001b[0m\u001b[1;32m      7\u001b[0m     \u001b[0mprint\u001b[0m\u001b[0;34m(\u001b[0m\u001b[0;34mf\"Filling missing TrafficConditionNearby with mean: {mean_traffic}\"\u001b[0m\u001b[0;34m)\u001b[0m\u001b[0;34m\u001b[0m\u001b[0;34m\u001b[0m\u001b[0m\n\u001b[1;32m      8\u001b[0m     \u001b[0mdf\u001b[0m\u001b[0;34m[\u001b[0m\u001b[0;34m'TrafficConditionNearby'\u001b[0m\u001b[0;34m]\u001b[0m \u001b[0;34m=\u001b[0m \u001b[0mdf\u001b[0m\u001b[0;34m[\u001b[0m\u001b[0;34m'TrafficConditionNearby'\u001b[0m\u001b[0;34m]\u001b[0m\u001b[0;34m.\u001b[0m\u001b[0mfillna\u001b[0m\u001b[0;34m(\u001b[0m\u001b[0mmean_traffic\u001b[0m\u001b[0;34m)\u001b[0m\u001b[0;34m\u001b[0m\u001b[0;34m\u001b[0m\u001b[0m\n",
            "\u001b[0;32m/usr/local/lib/python3.11/dist-packages/pandas/core/series.py\u001b[0m in \u001b[0;36mmean\u001b[0;34m(self, axis, skipna, numeric_only, **kwargs)\u001b[0m\n\u001b[1;32m   6547\u001b[0m         \u001b[0;34m**\u001b[0m\u001b[0mkwargs\u001b[0m\u001b[0;34m,\u001b[0m\u001b[0;34m\u001b[0m\u001b[0;34m\u001b[0m\u001b[0m\n\u001b[1;32m   6548\u001b[0m     ):\n\u001b[0;32m-> 6549\u001b[0;31m         \u001b[0;32mreturn\u001b[0m \u001b[0mNDFrame\u001b[0m\u001b[0;34m.\u001b[0m\u001b[0mmean\u001b[0m\u001b[0;34m(\u001b[0m\u001b[0mself\u001b[0m\u001b[0;34m,\u001b[0m \u001b[0maxis\u001b[0m\u001b[0;34m,\u001b[0m \u001b[0mskipna\u001b[0m\u001b[0;34m,\u001b[0m \u001b[0mnumeric_only\u001b[0m\u001b[0;34m,\u001b[0m \u001b[0;34m**\u001b[0m\u001b[0mkwargs\u001b[0m\u001b[0;34m)\u001b[0m\u001b[0;34m\u001b[0m\u001b[0;34m\u001b[0m\u001b[0m\n\u001b[0m\u001b[1;32m   6550\u001b[0m \u001b[0;34m\u001b[0m\u001b[0m\n\u001b[1;32m   6551\u001b[0m     \u001b[0;34m@\u001b[0m\u001b[0mdoc\u001b[0m\u001b[0;34m(\u001b[0m\u001b[0mmake_doc\u001b[0m\u001b[0;34m(\u001b[0m\u001b[0;34m\"median\"\u001b[0m\u001b[0;34m,\u001b[0m \u001b[0mndim\u001b[0m\u001b[0;34m=\u001b[0m\u001b[0;36m1\u001b[0m\u001b[0;34m)\u001b[0m\u001b[0;34m)\u001b[0m\u001b[0;34m\u001b[0m\u001b[0;34m\u001b[0m\u001b[0m\n",
            "\u001b[0;32m/usr/local/lib/python3.11/dist-packages/pandas/core/generic.py\u001b[0m in \u001b[0;36mmean\u001b[0;34m(self, axis, skipna, numeric_only, **kwargs)\u001b[0m\n\u001b[1;32m  12418\u001b[0m         \u001b[0;34m**\u001b[0m\u001b[0mkwargs\u001b[0m\u001b[0;34m,\u001b[0m\u001b[0;34m\u001b[0m\u001b[0;34m\u001b[0m\u001b[0m\n\u001b[1;32m  12419\u001b[0m     ) -> Series | float:\n\u001b[0;32m> 12420\u001b[0;31m         return self._stat_function(\n\u001b[0m\u001b[1;32m  12421\u001b[0m             \u001b[0;34m\"mean\"\u001b[0m\u001b[0;34m,\u001b[0m \u001b[0mnanops\u001b[0m\u001b[0;34m.\u001b[0m\u001b[0mnanmean\u001b[0m\u001b[0;34m,\u001b[0m \u001b[0maxis\u001b[0m\u001b[0;34m,\u001b[0m \u001b[0mskipna\u001b[0m\u001b[0;34m,\u001b[0m \u001b[0mnumeric_only\u001b[0m\u001b[0;34m,\u001b[0m \u001b[0;34m**\u001b[0m\u001b[0mkwargs\u001b[0m\u001b[0;34m\u001b[0m\u001b[0;34m\u001b[0m\u001b[0m\n\u001b[1;32m  12422\u001b[0m         )\n",
            "\u001b[0;32m/usr/local/lib/python3.11/dist-packages/pandas/core/generic.py\u001b[0m in \u001b[0;36m_stat_function\u001b[0;34m(self, name, func, axis, skipna, numeric_only, **kwargs)\u001b[0m\n\u001b[1;32m  12375\u001b[0m         \u001b[0mvalidate_bool_kwarg\u001b[0m\u001b[0;34m(\u001b[0m\u001b[0mskipna\u001b[0m\u001b[0;34m,\u001b[0m \u001b[0;34m\"skipna\"\u001b[0m\u001b[0;34m,\u001b[0m \u001b[0mnone_allowed\u001b[0m\u001b[0;34m=\u001b[0m\u001b[0;32mFalse\u001b[0m\u001b[0;34m)\u001b[0m\u001b[0;34m\u001b[0m\u001b[0;34m\u001b[0m\u001b[0m\n\u001b[1;32m  12376\u001b[0m \u001b[0;34m\u001b[0m\u001b[0m\n\u001b[0;32m> 12377\u001b[0;31m         return self._reduce(\n\u001b[0m\u001b[1;32m  12378\u001b[0m             \u001b[0mfunc\u001b[0m\u001b[0;34m,\u001b[0m \u001b[0mname\u001b[0m\u001b[0;34m=\u001b[0m\u001b[0mname\u001b[0m\u001b[0;34m,\u001b[0m \u001b[0maxis\u001b[0m\u001b[0;34m=\u001b[0m\u001b[0maxis\u001b[0m\u001b[0;34m,\u001b[0m \u001b[0mskipna\u001b[0m\u001b[0;34m=\u001b[0m\u001b[0mskipna\u001b[0m\u001b[0;34m,\u001b[0m \u001b[0mnumeric_only\u001b[0m\u001b[0;34m=\u001b[0m\u001b[0mnumeric_only\u001b[0m\u001b[0;34m\u001b[0m\u001b[0;34m\u001b[0m\u001b[0m\n\u001b[1;32m  12379\u001b[0m         )\n",
            "\u001b[0;32m/usr/local/lib/python3.11/dist-packages/pandas/core/series.py\u001b[0m in \u001b[0;36m_reduce\u001b[0;34m(self, op, name, axis, skipna, numeric_only, filter_type, **kwds)\u001b[0m\n\u001b[1;32m   6455\u001b[0m                     \u001b[0;34m\"with non-numeric dtypes.\"\u001b[0m\u001b[0;34m\u001b[0m\u001b[0;34m\u001b[0m\u001b[0m\n\u001b[1;32m   6456\u001b[0m                 )\n\u001b[0;32m-> 6457\u001b[0;31m             \u001b[0;32mreturn\u001b[0m \u001b[0mop\u001b[0m\u001b[0;34m(\u001b[0m\u001b[0mdelegate\u001b[0m\u001b[0;34m,\u001b[0m \u001b[0mskipna\u001b[0m\u001b[0;34m=\u001b[0m\u001b[0mskipna\u001b[0m\u001b[0;34m,\u001b[0m \u001b[0;34m**\u001b[0m\u001b[0mkwds\u001b[0m\u001b[0;34m)\u001b[0m\u001b[0;34m\u001b[0m\u001b[0;34m\u001b[0m\u001b[0m\n\u001b[0m\u001b[1;32m   6458\u001b[0m \u001b[0;34m\u001b[0m\u001b[0m\n\u001b[1;32m   6459\u001b[0m     \u001b[0;34m@\u001b[0m\u001b[0mAppender\u001b[0m\u001b[0;34m(\u001b[0m\u001b[0mmake_doc\u001b[0m\u001b[0;34m(\u001b[0m\u001b[0;34m\"any\"\u001b[0m\u001b[0;34m,\u001b[0m \u001b[0mndim\u001b[0m\u001b[0;34m=\u001b[0m\u001b[0;36m1\u001b[0m\u001b[0;34m)\u001b[0m\u001b[0;34m)\u001b[0m\u001b[0;34m\u001b[0m\u001b[0;34m\u001b[0m\u001b[0m\n",
            "\u001b[0;32m/usr/local/lib/python3.11/dist-packages/pandas/core/nanops.py\u001b[0m in \u001b[0;36mf\u001b[0;34m(values, axis, skipna, **kwds)\u001b[0m\n\u001b[1;32m    145\u001b[0m                     \u001b[0mresult\u001b[0m \u001b[0;34m=\u001b[0m \u001b[0malt\u001b[0m\u001b[0;34m(\u001b[0m\u001b[0mvalues\u001b[0m\u001b[0;34m,\u001b[0m \u001b[0maxis\u001b[0m\u001b[0;34m=\u001b[0m\u001b[0maxis\u001b[0m\u001b[0;34m,\u001b[0m \u001b[0mskipna\u001b[0m\u001b[0;34m=\u001b[0m\u001b[0mskipna\u001b[0m\u001b[0;34m,\u001b[0m \u001b[0;34m**\u001b[0m\u001b[0mkwds\u001b[0m\u001b[0;34m)\u001b[0m\u001b[0;34m\u001b[0m\u001b[0;34m\u001b[0m\u001b[0m\n\u001b[1;32m    146\u001b[0m             \u001b[0;32melse\u001b[0m\u001b[0;34m:\u001b[0m\u001b[0;34m\u001b[0m\u001b[0;34m\u001b[0m\u001b[0m\n\u001b[0;32m--> 147\u001b[0;31m                 \u001b[0mresult\u001b[0m \u001b[0;34m=\u001b[0m \u001b[0malt\u001b[0m\u001b[0;34m(\u001b[0m\u001b[0mvalues\u001b[0m\u001b[0;34m,\u001b[0m \u001b[0maxis\u001b[0m\u001b[0;34m=\u001b[0m\u001b[0maxis\u001b[0m\u001b[0;34m,\u001b[0m \u001b[0mskipna\u001b[0m\u001b[0;34m=\u001b[0m\u001b[0mskipna\u001b[0m\u001b[0;34m,\u001b[0m \u001b[0;34m**\u001b[0m\u001b[0mkwds\u001b[0m\u001b[0;34m)\u001b[0m\u001b[0;34m\u001b[0m\u001b[0;34m\u001b[0m\u001b[0m\n\u001b[0m\u001b[1;32m    148\u001b[0m \u001b[0;34m\u001b[0m\u001b[0m\n\u001b[1;32m    149\u001b[0m             \u001b[0;32mreturn\u001b[0m \u001b[0mresult\u001b[0m\u001b[0;34m\u001b[0m\u001b[0;34m\u001b[0m\u001b[0m\n",
            "\u001b[0;32m/usr/local/lib/python3.11/dist-packages/pandas/core/nanops.py\u001b[0m in \u001b[0;36mnew_func\u001b[0;34m(values, axis, skipna, mask, **kwargs)\u001b[0m\n\u001b[1;32m    402\u001b[0m             \u001b[0mmask\u001b[0m \u001b[0;34m=\u001b[0m \u001b[0misna\u001b[0m\u001b[0;34m(\u001b[0m\u001b[0mvalues\u001b[0m\u001b[0;34m)\u001b[0m\u001b[0;34m\u001b[0m\u001b[0;34m\u001b[0m\u001b[0m\n\u001b[1;32m    403\u001b[0m \u001b[0;34m\u001b[0m\u001b[0m\n\u001b[0;32m--> 404\u001b[0;31m         \u001b[0mresult\u001b[0m \u001b[0;34m=\u001b[0m \u001b[0mfunc\u001b[0m\u001b[0;34m(\u001b[0m\u001b[0mvalues\u001b[0m\u001b[0;34m,\u001b[0m \u001b[0maxis\u001b[0m\u001b[0;34m=\u001b[0m\u001b[0maxis\u001b[0m\u001b[0;34m,\u001b[0m \u001b[0mskipna\u001b[0m\u001b[0;34m=\u001b[0m\u001b[0mskipna\u001b[0m\u001b[0;34m,\u001b[0m \u001b[0mmask\u001b[0m\u001b[0;34m=\u001b[0m\u001b[0mmask\u001b[0m\u001b[0;34m,\u001b[0m \u001b[0;34m**\u001b[0m\u001b[0mkwargs\u001b[0m\u001b[0;34m)\u001b[0m\u001b[0;34m\u001b[0m\u001b[0;34m\u001b[0m\u001b[0m\n\u001b[0m\u001b[1;32m    405\u001b[0m \u001b[0;34m\u001b[0m\u001b[0m\n\u001b[1;32m    406\u001b[0m         \u001b[0;32mif\u001b[0m \u001b[0mdatetimelike\u001b[0m\u001b[0;34m:\u001b[0m\u001b[0;34m\u001b[0m\u001b[0;34m\u001b[0m\u001b[0m\n",
            "\u001b[0;32m/usr/local/lib/python3.11/dist-packages/pandas/core/nanops.py\u001b[0m in \u001b[0;36mnanmean\u001b[0;34m(values, axis, skipna, mask)\u001b[0m\n\u001b[1;32m    718\u001b[0m     \u001b[0mcount\u001b[0m \u001b[0;34m=\u001b[0m \u001b[0m_get_counts\u001b[0m\u001b[0;34m(\u001b[0m\u001b[0mvalues\u001b[0m\u001b[0;34m.\u001b[0m\u001b[0mshape\u001b[0m\u001b[0;34m,\u001b[0m \u001b[0mmask\u001b[0m\u001b[0;34m,\u001b[0m \u001b[0maxis\u001b[0m\u001b[0;34m,\u001b[0m \u001b[0mdtype\u001b[0m\u001b[0;34m=\u001b[0m\u001b[0mdtype_count\u001b[0m\u001b[0;34m)\u001b[0m\u001b[0;34m\u001b[0m\u001b[0;34m\u001b[0m\u001b[0m\n\u001b[1;32m    719\u001b[0m     \u001b[0mthe_sum\u001b[0m \u001b[0;34m=\u001b[0m \u001b[0mvalues\u001b[0m\u001b[0;34m.\u001b[0m\u001b[0msum\u001b[0m\u001b[0;34m(\u001b[0m\u001b[0maxis\u001b[0m\u001b[0;34m,\u001b[0m \u001b[0mdtype\u001b[0m\u001b[0;34m=\u001b[0m\u001b[0mdtype_sum\u001b[0m\u001b[0;34m)\u001b[0m\u001b[0;34m\u001b[0m\u001b[0;34m\u001b[0m\u001b[0m\n\u001b[0;32m--> 720\u001b[0;31m     \u001b[0mthe_sum\u001b[0m \u001b[0;34m=\u001b[0m \u001b[0m_ensure_numeric\u001b[0m\u001b[0;34m(\u001b[0m\u001b[0mthe_sum\u001b[0m\u001b[0;34m)\u001b[0m\u001b[0;34m\u001b[0m\u001b[0;34m\u001b[0m\u001b[0m\n\u001b[0m\u001b[1;32m    721\u001b[0m \u001b[0;34m\u001b[0m\u001b[0m\n\u001b[1;32m    722\u001b[0m     \u001b[0;32mif\u001b[0m \u001b[0maxis\u001b[0m \u001b[0;32mis\u001b[0m \u001b[0;32mnot\u001b[0m \u001b[0;32mNone\u001b[0m \u001b[0;32mand\u001b[0m \u001b[0mgetattr\u001b[0m\u001b[0;34m(\u001b[0m\u001b[0mthe_sum\u001b[0m\u001b[0;34m,\u001b[0m \u001b[0;34m\"ndim\"\u001b[0m\u001b[0;34m,\u001b[0m \u001b[0;32mFalse\u001b[0m\u001b[0;34m)\u001b[0m\u001b[0;34m:\u001b[0m\u001b[0;34m\u001b[0m\u001b[0;34m\u001b[0m\u001b[0m\n",
            "\u001b[0;32m/usr/local/lib/python3.11/dist-packages/pandas/core/nanops.py\u001b[0m in \u001b[0;36m_ensure_numeric\u001b[0;34m(x)\u001b[0m\n\u001b[1;32m   1699\u001b[0m         \u001b[0;32mif\u001b[0m \u001b[0misinstance\u001b[0m\u001b[0;34m(\u001b[0m\u001b[0mx\u001b[0m\u001b[0;34m,\u001b[0m \u001b[0mstr\u001b[0m\u001b[0;34m)\u001b[0m\u001b[0;34m:\u001b[0m\u001b[0;34m\u001b[0m\u001b[0;34m\u001b[0m\u001b[0m\n\u001b[1;32m   1700\u001b[0m             \u001b[0;31m# GH#44008, GH#36703 avoid casting e.g. strings to numeric\u001b[0m\u001b[0;34m\u001b[0m\u001b[0;34m\u001b[0m\u001b[0m\n\u001b[0;32m-> 1701\u001b[0;31m             \u001b[0;32mraise\u001b[0m \u001b[0mTypeError\u001b[0m\u001b[0;34m(\u001b[0m\u001b[0;34mf\"Could not convert string '{x}' to numeric\"\u001b[0m\u001b[0;34m)\u001b[0m\u001b[0;34m\u001b[0m\u001b[0;34m\u001b[0m\u001b[0m\n\u001b[0m\u001b[1;32m   1702\u001b[0m         \u001b[0;32mtry\u001b[0m\u001b[0;34m:\u001b[0m\u001b[0;34m\u001b[0m\u001b[0;34m\u001b[0m\u001b[0m\n\u001b[1;32m   1703\u001b[0m             \u001b[0mx\u001b[0m \u001b[0;34m=\u001b[0m \u001b[0mfloat\u001b[0m\u001b[0;34m(\u001b[0m\u001b[0mx\u001b[0m\u001b[0;34m)\u001b[0m\u001b[0;34m\u001b[0m\u001b[0;34m\u001b[0m\u001b[0m\n",
            "\u001b[0;31mTypeError\u001b[0m: Could not convert string 'lowlowlowlowlowlowlowaveragelowlowlowlowlowaveragelowlowaveragelowlowaveragelowlowaveragelowaveragelowlowlowaveragelowlowlowlowlowlowlowlowlowlowlowlowlowlowlowlowlowlowlowlowlowlowlowlowlowlowlowlowlowlowlowlowlowlowlowlowlowaveragelowlowlowlowlowlowlowlowlowlowaveragelowlowlowaveragelowlowaverageaveragehighaverageaverageaverageaveragehighaveragehighaverageaveragehighaverageaverageaverageaverageaverageaverageaverageaveragehighaverageaverageaverageaveragehighaverageaverageaverageaverageaverageaverageaverageaveragehighhighaveragehighaverageaverageaveragehighhighhighhighhighhighhighhighhighhighhighhighhighaveragehighhighhighhighhighhighhighhighhighhighaveragehighhighhighhighhighhighaveragehighhighhighhighhighhighhighhighhighhighaverageaverageaverageaverageaverageaverageaveragehighhighaverageaverageaveragehighaverageaverageaverageaverageaverageaverageaverageaverageaveragehighaverageaverageaverageaverageaverageaverageaverageaverageaverageaverageaverageaverageaverageaverageaverageaverageaveragehighaveragelowlowlowlowlowlowlowlowaveragelowaveragelowlowlowlowlowlowaveragelowlowlowaveragelowlowlowlowlowlowaveragelowlowlowlowlowlowlowlowaveragelowlowlowaveragelowlowlowlowlowlowlowlowlowlowlowlowaveragelowlowlowlowaveragelowlowlowlowlowlowlowlowlowlowaveragelowlowlowlowaveragelowlowlowlowaveragelowlowlowlowaveragelowlowaveragelowlowaveragelowlowlowlowlowlowlowlowaverageaveragelowlowlowlowlowlowlowlowlowaverageaverageaveragehighaveragea..."
          ]
        }
      ]
    },
    {
      "cell_type": "markdown",
      "metadata": {
        "id": "JNDR7r4DqkhI"
      },
      "source": [
        "# Step 2: Making a simple pricing function"
      ]
    },
    {
      "cell_type": "code",
      "execution_count": null,
      "metadata": {
        "id": "MznsSjanveN5"
      },
      "outputs": [],
      "source": [
        "\n",
        "\n",
        "cols_to_numeric = ['Occupancy', 'Capacity', 'QueueLength', 'TrafficConditionNearby', 'IsSpecialDay']\n",
        "for col in cols_to_numeric:\n",
        "    df[col] = pd.to_numeric(df[col], errors='coerce')\n",
        "\n",
        "# Debug: Print rows with NaN or zero in required columns\n",
        "for col in cols_to_numeric:\n",
        "    nan_rows = df[df[col].isna()]\n",
        "    if not nan_rows.empty:\n",
        "        print(f\"DEBUG: Rows with NaN in {col}:\")\n",
        "        print(nan_rows[['Timestamp', 'LotID', col]])\n",
        "zero_cap = df[df['Capacity'] == 0]\n",
        "if not zero_cap.empty:\n",
        "    print(\"DEBUG: Rows with zero Capacity:\")\n",
        "    print(zero_cap[['Timestamp', 'LotID', 'Capacity']])\n",
        "\n",
        "# Drop rows with NaN or zero in required columns\n",
        "df = df.dropna(subset=cols_to_numeric)\n",
        "df = df[df['Capacity'] != 0]\n",
        "\n",
        "vehicle_type_weights = {'car': 1.0, 'bike': 0.5, 'truck': 1.5}\n",
        "df['VehicleTypeWeight'] = df['VehicleType'].map(vehicle_type_weights).fillna(1.0)\n",
        "\n",
        "df['Norm_Occupancy'] = df['Occupancy'] / df['Capacity']\n",
        "df['Norm_Queue'] = df['QueueLength'] / df['QueueLength'].max()\n",
        "df['Norm_Traffic'] = df['TrafficConditionNearby'] / df['TrafficConditionNearby'].max()\n",
        "\n",
        "ALPHA = 1.0\n",
        "BETA = 0.5\n",
        "GAMMA = 0.3\n",
        "DELTA = 0.8\n",
        "EPSILON = 0.7\n",
        "\n",
        "df['Raw_Demand'] = (\n",
        "    ALPHA * df['Norm_Occupancy'] +\n",
        "    BETA * df['Norm_Queue'] -\n",
        "    GAMMA * df['Norm_Traffic'] +\n",
        "    DELTA * df['IsSpecialDay'] +\n",
        "    EPSILON * df['VehicleTypeWeight']\n",
        ")\n",
        "\n",
        "if df['Raw_Demand'].max() != df['Raw_Demand'].min():\n",
        "    df['Norm_Demand'] = (df['Raw_Demand'] - df['Raw_Demand'].min()) / (df['Raw_Demand'].max() - df['Raw_Demand'].min())\n",
        "else:\n",
        "    df['Norm_Demand'] = 0.0\n",
        "\n",
        "BASE_PRICE = 10.0\n",
        "LAMBDA = 1.0\n",
        "df['Price_Model2'] = BASE_PRICE * (1 + LAMBDA * df['Norm_Demand'])\n",
        "df['Price_Model2'] = df['Price_Model2'].clip(lower=BASE_PRICE*0.5, upper=BASE_PRICE*2)\n",
        "\n",
        "# Final debug: Print and drop any rows with invalid Price_Model2\n",
        "df['Price_Model2'] = pd.to_numeric(df['Price_Model2'], errors='coerce')\n",
        "bad_rows = df[df['Price_Model2'].isna()]\n",
        "if not bad_rows.empty:\n",
        "    print(\"DEBUG: Dropping rows with invalid Price_Model2 before saving for Pathway:\")\n",
        "    print(bad_rows[['Timestamp', 'LotID', 'Price_Model2']])\n",
        "df = df[df['Price_Model2'].notna()]\n",
        "\n",
        "df[[\"Timestamp\", \"Occupancy\", \"Capacity\", \"LotID\", \"Price_Model2\"]].to_csv(\"parking_stream_model2.csv\", index=False)\n",
        "print(\"Model 2 demand-based pricing calculated, cleaned, and saved.\")\n"
      ]
    },
    {
      "cell_type": "markdown",
      "metadata": {
        "id": "E3sMSFtUqvax"
      },
      "source": [
        "\n",
        "\n",
        "# Step 3: Visualizing Daily Price Fluctuations with a Bokeh Plot"
      ]
    },
    {
      "cell_type": "markdown",
      "metadata": {
        "id": "POd-S7QMo9JA"
      },
      "source": [
        "**Note:** The Bokeh plot in the next cell will only be generated after you run the `pw.run()` cell (i.e., the final cell).\n"
      ]
    },
    {
      "cell_type": "code",
      "execution_count": null,
      "metadata": {
        "id": "fOL3BJcGveN5"
      },
      "outputs": [],
      "source": [
        "# # # Activate the Panel extension to enable interactive visualizations\n",
        "# # pn.extension()\n",
        "\n",
        "# # Define a custom Bokeh plotting function that takes a data source (from Pathway) and returns a figure\n",
        "# def price_plotter(source):\n",
        "#     # Create a Bokeh figure with datetime x-axis\n",
        "#     fig = bokeh.plotting.figure(\n",
        "#         height=400,\n",
        "#         width=800,\n",
        "#         title=\"Pathway: Daily Parking Price\",\n",
        "#         x_axis_type=\"datetime\",  # Ensure time-based data is properly formatted on the x-axis\n",
        "#     )\n",
        "#     # Plot a line graph showing how the price evolves over time\n",
        "#     fig.line(\"t\", \"price\", source=source, line_width=2, color=\"navy\")\n",
        "\n",
        "#     # Overlay red circles at each data point for better visibility\n",
        "#     fig.circle(\"t\", \"price\", source=source, size=6, color=\"red\")\n",
        "\n",
        "#     return fig\n",
        "\n",
        "# # Use Pathway's built-in .plot() method to bind the data stream (delta_window) to the Bokeh plot\n",
        "# # - 'price_plotter' is the rendering function\n",
        "# # - 'sorting_col=\"t\"' ensures the data is plotted in time order\n",
        "# viz = delta_window.plot(price_plotter, sorting_col=\"t\")\n",
        "\n",
        "# # Create a Panel layout and make it servable as a web app\n",
        "# # This line enables the interactive plot to be displayed when the app is served\n",
        "# pn.Column(viz).servable()\n",
        "# print(\"Hello\")\n",
        "\n",
        "\n",
        "\n",
        "# edit 0:\n",
        "\n",
        "\n",
        "\n",
        "# import panel as pn\n",
        "# import bokeh.plotting\n",
        "\n",
        "# pn.extension('bokeh')\n",
        "\n",
        "# def price_plotter(source):\n",
        "#     fig = bokeh.plotting.figure(\n",
        "#         height=400,\n",
        "#         width=800,\n",
        "#         title=\"Model 2: Demand-Based Price per Lot (Real-Time)\",\n",
        "#         x_axis_type=\"datetime\",\n",
        "#     )\n",
        "#     lots = list(set(source.data['LotID']))\n",
        "#     colors = bokeh.palettes.Category10[10] + bokeh.palettes.Category20[20]\n",
        "#     legend_added = False  # Track if at least one legend is added\n",
        "#     for i, lot in enumerate(lots):\n",
        "#         mask = [l == lot for l in source.data['LotID']]\n",
        "#         # Only plot if this lot has data\n",
        "#         if any(mask):\n",
        "#             fig.line(\n",
        "#                 [t for t, m in zip(source.data['t'], mask) if m],\n",
        "#                 [p for p, m in zip(source.data['Price_Model2'], mask) if m],\n",
        "#                 line_width=2,\n",
        "#                 color=colors[i % len(colors)],\n",
        "#                 legend_label=f\"Lot {lot}\"\n",
        "#             )\n",
        "#             legend_added = True\n",
        "#     if legend_added:\n",
        "#         fig.legend.location = \"top_left\"\n",
        "#     fig.xaxis.axis_label = 'Time'\n",
        "#     fig.yaxis.axis_label = 'Price ($)'\n",
        "#     return fig\n",
        "\n",
        "# viz = data_with_time.plot(price_plotter, sorting_col=\"t\")\n",
        "# pn.Column(viz).servable()\n",
        "\n",
        "\n",
        "# edit 1:\n",
        "\n",
        "\n",
        "# from bokeh.plotting import figure, show, output_notebook\n",
        "# import bokeh.palettes\n",
        "\n",
        "# output_notebook()\n",
        "\n",
        "# def plot_model2(df):\n",
        "#     fig = figure(\n",
        "#         height=400,\n",
        "#         width=800,\n",
        "#         title=\"Model 2: Demand-Based Price per Lot\",\n",
        "#         x_axis_type=\"datetime\",\n",
        "#     )\n",
        "#     lots = df['LotID'].unique()\n",
        "#     palette = bokeh.palettes.Category10[10] + bokeh.palettes.Category20[20]\n",
        "#     for i, lot in enumerate(lots):\n",
        "#         lot_df = df[df['LotID'] == lot]\n",
        "#         fig.line(\n",
        "#             lot_df['Timestamp'],\n",
        "#             lot_df['Price_Model2'],\n",
        "#             line_width=2,\n",
        "#             color=palette[i % len(palette)],\n",
        "#             legend_label=f\"Lot {lot}\"\n",
        "#         )\n",
        "#     fig.legend.location = \"top_left\"\n",
        "#     fig.xaxis.axis_label = 'Time'\n",
        "#     fig.yaxis.axis_label = 'Price ($)'\n",
        "#     show(fig)\n",
        "\n",
        "# plot_model2(df)\n",
        "\n",
        "\n",
        "\n",
        "# edit 2:\n",
        "\n",
        "\n",
        "\n",
        "\n",
        "import panel as pn\n",
        "import bokeh.plotting\n",
        "\n",
        "pn.extension('bokeh')\n",
        "\n",
        "def price_plotter(source):\n",
        "    fig = bokeh.plotting.figure(\n",
        "        height=400,\n",
        "        width=800,\n",
        "        title=\"Model 2: Demand-Based Price per Lot (Real-Time)\",\n",
        "        x_axis_type=\"datetime\",\n",
        "    )\n",
        "    lots = list(set(source.data['LotID']))\n",
        "    colors = bokeh.palettes.Category10[10] + bokeh.palettes.Category20[20]\n",
        "    legend_added = False\n",
        "    for i, lot in enumerate(lots):\n",
        "        mask = [l == lot for l in source.data['LotID']]\n",
        "        if any(mask):\n",
        "            fig.line(\n",
        "                [t for t, m in zip(source.data['t'], mask) if m],\n",
        "                [p for p, m in zip(source.data['Price_Model2'], mask) if m],\n",
        "                line_width=2,\n",
        "                color=colors[i % len(colors)],\n",
        "                legend_label=f\"Lot {lot}\"\n",
        "            )\n",
        "            legend_added = True\n",
        "    if legend_added:\n",
        "        fig.legend.location = \"top_left\"\n",
        "    fig.xaxis.axis_label = 'Time'\n",
        "    fig.yaxis.axis_label = 'Price ($)'\n",
        "    return fig\n",
        "\n",
        "viz = data_with_time.plot(price_plotter, sorting_col=\"t\")\n",
        "pn.Column(viz).servable()\n",
        "\n",
        "\n"
      ]
    },
    {
      "cell_type": "code",
      "execution_count": null,
      "metadata": {
        "id": "0IHWGcX6veN6"
      },
      "outputs": [],
      "source": [
        "\n",
        "\n",
        "# # Start the Pathway pipeline execution in the background\n",
        "# # - This triggers the real-time data stream processing defined above\n",
        "# # - %%capture --no-display suppresses output in the notebook interface\n",
        "\n",
        "%%capture --no-display\n",
        "pw.run()\n",
        "print(\"Hello\")\n",
        "\n"
      ]
    },
    {
      "cell_type": "code",
      "execution_count": null,
      "metadata": {
        "id": "pklSMqmRp1Gh"
      },
      "outputs": [],
      "source": []
    }
  ],
  "metadata": {
    "colab": {
      "provenance": []
    },
    "kaggle": {
      "accelerator": "none",
      "dataSources": [
        {
          "datasetId": 7749157,
          "sourceId": 12294858,
          "sourceType": "datasetVersion"
        }
      ],
      "dockerImageVersionId": 31040,
      "isGpuEnabled": false,
      "isInternetEnabled": true,
      "language": "python",
      "sourceType": "notebook"
    },
    "kernelspec": {
      "display_name": "Python (pathway_env)",
      "language": "python",
      "name": "pathway_env"
    },
    "language_info": {
      "codemirror_mode": {
        "name": "ipython",
        "version": 3
      },
      "file_extension": ".py",
      "mimetype": "text/x-python",
      "name": "python",
      "nbconvert_exporter": "python",
      "pygments_lexer": "ipython3",
      "version": "3.12.3"
    }
  },
  "nbformat": 4,
  "nbformat_minor": 0
}