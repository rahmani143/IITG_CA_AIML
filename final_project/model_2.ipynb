{
  "cells": [
    {
      "cell_type": "markdown",
      "metadata": {
        "id": "VTvr4_sti9Am"
      },
      "source": [
        "# Inroduction\n"
      ]
    },
    {
      "cell_type": "markdown",
      "metadata": {
        "id": "Rm8HKcygh4L2"
      },
      "source": [
        "This sample notebook demonstrates how to process live data streams using Pathway. The dataset used here is a subset of the one provided — specifically, it includes data for only a single parking spot. You are expected to implement your model across all parking spots.\n",
        "\n",
        "Please note that the pricing model used in this notebook is a simple baseline. You are expected to design and implement a more advanced and effective model.\n"
      ]
    },
    {
      "cell_type": "code",
      "execution_count": 7,
      "metadata": {
        "colab": {
          "base_uri": "https://localhost:8080/"
        },
        "id": "LlwkKnB50IGF",
        "outputId": "c60b966a-9f73-47c8-c16d-e6b918499c84"
      },
      "outputs": [
        {
          "output_type": "stream",
          "name": "stdout",
          "text": [
            "Hello\n"
          ]
        }
      ],
      "source": [
        "!pip install pathway bokeh panel --quiet\n",
        "\n",
        "print(\"Hello\")"
      ]
    },
    {
      "cell_type": "code",
      "execution_count": 8,
      "metadata": {
        "colab": {
          "base_uri": "https://localhost:8080/"
        },
        "id": "pHuc1nkJveN3",
        "outputId": "42d5c35e-60a7-4bf9-d54a-bc2b486794fe"
      },
      "outputs": [
        {
          "output_type": "stream",
          "name": "stdout",
          "text": [
            "Hello\n"
          ]
        }
      ],
      "source": [
        "import numpy as np\n",
        "import pandas as pd\n",
        "import matplotlib.pyplot as plt\n",
        "import datetime\n",
        "from datetime import datetime\n",
        "import pathway as pw\n",
        "import bokeh.plotting\n",
        "import panel as pn\n",
        "import numpy as np\n",
        "import pandas as pd\n",
        "import pathway as pw\n",
        "import bokeh.plotting\n",
        "import panel as pn\n",
        "from bokeh.io import output_notebook, show\n",
        "\n",
        "print(\"Hello\")"
      ]
    },
    {
      "cell_type": "code",
      "source": [
        "from google.colab import drive\n",
        "drive.mount('/content/drive')"
      ],
      "metadata": {
        "id": "u6GTpKzSHx9W",
        "outputId": "ed3e85db-ab67-49cb-de66-dd87d87b3935",
        "colab": {
          "base_uri": "https://localhost:8080/"
        }
      },
      "execution_count": 10,
      "outputs": [
        {
          "output_type": "stream",
          "name": "stdout",
          "text": [
            "Mounted at /content/drive\n"
          ]
        }
      ]
    },
    {
      "cell_type": "markdown",
      "metadata": {
        "id": "gGpZl1FxjFXE"
      },
      "source": [
        "# Step 1: Importing and Preprocessing the Data"
      ]
    },
    {
      "cell_type": "code",
      "execution_count": null,
      "metadata": {
        "id": "4D6geoV9veN3"
      },
      "outputs": [],
      "source": [
        "# Load the dataset (replace with your actual file if needed)\n",
        "df = pd.read_csv('dataset.csv')\n",
        "\n",
        "# Combine date and time columns if needed\n",
        "if 'LastUpdatedDate' in df.columns and 'LastUpdatedTime' in df.columns:\n",
        "    df['Timestamp'] = pd.to_datetime(\n",
        "        df['LastUpdatedDate'] + ' ' + df['LastUpdatedTime'],\n",
        "        format='%d-%m-%Y %H:%M:%S'\n",
        "    )\n",
        "else:\n",
        "    df['Timestamp'] = pd.to_datetime(df['Timestamp'])\n",
        "\n",
        "# Sort by time\n",
        "df = df.sort_values('Timestamp').reset_index(drop=True)\n",
        "\n",
        "# Ensure a unique lot identifier column (LotID)\n",
        "if 'LotID' not in df.columns:\n",
        "    df['LotID'] = df['Latitude'].astype(str) + '_' + df['Longitude'].astype(str)\n",
        "\n",
        "# Save a streaming-ready CSV for Pathway\n",
        "df[[\"Timestamp\", \"Occupancy\", \"Capacity\", \"LotID\"]].to_csv(\"parking_stream.csv\", index=False)\n",
        "\n",
        "print(\"Hello\")\n",
        "df.columns\n",
        "\n",
        "# You can find the sample dataset here: https://drive.google.com/file/d/1D479FLjp9aO3Mg8g6Lpj9oRViWacurA6/view?usp=sharing"
      ]
    },
    {
      "cell_type": "code",
      "execution_count": null,
      "metadata": {
        "id": "H0pe3TGIyKJE"
      },
      "outputs": [],
      "source": [
        "# Define the schema for the streaming data using Pathway\n",
        "# This schema specifies the expected structure of each data row in the stream\n",
        "\n",
        "class ParkingSchema(pw.Schema):\n",
        "    Timestamp: str\n",
        "    Occupancy: int\n",
        "    Capacity: int\n",
        "    LotID: str\n",
        "print(\"Hello World\")"
      ]
    },
    {
      "cell_type": "code",
      "execution_count": null,
      "metadata": {
        "id": "a4LxMh4xziMv"
      },
      "outputs": [],
      "source": [
        "# Load the data as a simulated stream using Pathway's replay_csv function\n",
        "# This replays the CSV data at a controlled input rate to mimic real-time streaming\n",
        "# input_rate=1000 means approximately 1000 rows per second will be ingested into the stream.\n",
        "\n",
        "data = pw.demo.replay_csv(\n",
        "    \"parking_stream.csv\",\n",
        "    schema=ParkingSchema,\n",
        "    input_rate=100\n",
        ")\n",
        "print(\"Hello\")"
      ]
    },
    {
      "cell_type": "code",
      "execution_count": null,
      "metadata": {
        "id": "IkBP_AA-zjec"
      },
      "outputs": [],
      "source": [
        "# Define the datetime format to parse the 'Timestamp' column\n",
        "fmt = \"%Y-%m-%d %H:%M:%S\"\n",
        "\n",
        "data_with_time = data.with_columns(\n",
        "    t = data.Timestamp.dt.strptime(fmt),\n",
        "    day = data.Timestamp.dt.strptime(fmt).dt.strftime(\"%Y-%m-%dT00:00:00\")\n",
        ")\n",
        "\n",
        "\n",
        "print(\"Hello\")"
      ]
    },
    {
      "cell_type": "markdown",
      "metadata": {
        "id": "JNDR7r4DqkhI"
      },
      "source": [
        "# Step 2: Making a simple pricing function"
      ]
    },
    {
      "cell_type": "code",
      "execution_count": null,
      "metadata": {
        "id": "MznsSjanveN5"
      },
      "outputs": [],
      "source": [
        "# --- Model 2: Demand-Based Price Function ---\n",
        "\n",
        "# 1. Ensure all relevant columns are numeric\n",
        "cols_to_numeric = ['Occupancy', 'Capacity', 'QueueLength', 'TrafficConditionNearby', 'IsSpecialDay']\n",
        "for col in cols_to_numeric:\n",
        "    df[col] = pd.to_numeric(df[col], errors='coerce')\n",
        "\n",
        "# 2. Assign weights for vehicle types\n",
        "vehicle_type_weights = {'car': 1.0, 'bike': 0.5, 'truck': 1.5}\n",
        "df['VehicleTypeWeight'] = df['VehicleType'].map(vehicle_type_weights).fillna(1.0)\n",
        "\n",
        "# 3. Normalize features (optional, for stability)\n",
        "df['Norm_Occupancy'] = df['Occupancy'] / df['Capacity']\n",
        "df['Norm_Queue'] = df['QueueLength'] / df['QueueLength'].max()\n",
        "df['Norm_Traffic'] = df['TrafficConditionNearby'] / df['TrafficConditionNearby'].max()\n",
        "\n",
        "# 4. Set coefficients (tune as needed)\n",
        "ALPHA = 1.0\n",
        "BETA = 0.5\n",
        "GAMMA = 0.3\n",
        "DELTA = 0.8\n",
        "EPSILON = 0.7\n",
        "\n",
        "# 5. Compute raw demand\n",
        "df['Raw_Demand'] = (\n",
        "    ALPHA * df['Norm_Occupancy'] +\n",
        "    BETA * df['Norm_Queue'] -\n",
        "    GAMMA * df['Norm_Traffic'] +\n",
        "    DELTA * df['IsSpecialDay'] +\n",
        "    EPSILON * df['VehicleTypeWeight']\n",
        ")\n",
        "\n",
        "# 6. Normalize demand to [0, 1]\n",
        "if df['Raw_Demand'].max() != df['Raw_Demand'].min():\n",
        "    df['Norm_Demand'] = (df['Raw_Demand'] - df['Raw_Demand'].min()) / (df['Raw_Demand'].max() - df['Raw_Demand'].min())\n",
        "else:\n",
        "    df['Norm_Demand'] = 0.0\n",
        "\n",
        "# 7. Compute price\n",
        "BASE_PRICE = 10.0\n",
        "LAMBDA = 1.0\n",
        "\n",
        "df['Price_Model2'] = BASE_PRICE * (1 + LAMBDA * df['Norm_Demand'])\n",
        "df['Price_Model2'] = df['Price_Model2'].clip(lower=BASE_PRICE*0.5, upper=BASE_PRICE*2)\n",
        "\n",
        "# 8. Save for streaming/visualization\n",
        "df[[\"Timestamp\", \"Occupancy\", \"Capacity\", \"LotID\", \"Price_Model2\"]].to_csv(\"parking_stream_model2.csv\", index=False)\n",
        "\n",
        "print(\"Model 2 demand-based pricing calculated and saved.\")\n"
      ]
    },
    {
      "cell_type": "markdown",
      "metadata": {
        "id": "E3sMSFtUqvax"
      },
      "source": [
        "\n",
        "\n",
        "# Step 3: Visualizing Daily Price Fluctuations with a Bokeh Plot"
      ]
    },
    {
      "cell_type": "markdown",
      "metadata": {
        "id": "POd-S7QMo9JA"
      },
      "source": [
        "**Note:** The Bokeh plot in the next cell will only be generated after you run the `pw.run()` cell (i.e., the final cell).\n"
      ]
    },
    {
      "cell_type": "code",
      "execution_count": null,
      "metadata": {
        "id": "fOL3BJcGveN5"
      },
      "outputs": [],
      "source": [
        "# # # Activate the Panel extension to enable interactive visualizations\n",
        "# # pn.extension()\n",
        "\n",
        "# # Define a custom Bokeh plotting function that takes a data source (from Pathway) and returns a figure\n",
        "# def price_plotter(source):\n",
        "#     # Create a Bokeh figure with datetime x-axis\n",
        "#     fig = bokeh.plotting.figure(\n",
        "#         height=400,\n",
        "#         width=800,\n",
        "#         title=\"Pathway: Daily Parking Price\",\n",
        "#         x_axis_type=\"datetime\",  # Ensure time-based data is properly formatted on the x-axis\n",
        "#     )\n",
        "#     # Plot a line graph showing how the price evolves over time\n",
        "#     fig.line(\"t\", \"price\", source=source, line_width=2, color=\"navy\")\n",
        "\n",
        "#     # Overlay red circles at each data point for better visibility\n",
        "#     fig.circle(\"t\", \"price\", source=source, size=6, color=\"red\")\n",
        "\n",
        "#     return fig\n",
        "\n",
        "# # Use Pathway's built-in .plot() method to bind the data stream (delta_window) to the Bokeh plot\n",
        "# # - 'price_plotter' is the rendering function\n",
        "# # - 'sorting_col=\"t\"' ensures the data is plotted in time order\n",
        "# viz = delta_window.plot(price_plotter, sorting_col=\"t\")\n",
        "\n",
        "# # Create a Panel layout and make it servable as a web app\n",
        "# # This line enables the interactive plot to be displayed when the app is served\n",
        "# pn.Column(viz).servable()\n",
        "# print(\"Hello\")\n",
        "\n",
        "\n",
        "\n",
        "# import panel as pn\n",
        "# import bokeh.plotting\n",
        "\n",
        "# pn.extension('bokeh')\n",
        "\n",
        "# def price_plotter(source):\n",
        "#     fig = bokeh.plotting.figure(\n",
        "#         height=400,\n",
        "#         width=800,\n",
        "#         title=\"Model 2: Demand-Based Price per Lot (Real-Time)\",\n",
        "#         x_axis_type=\"datetime\",\n",
        "#     )\n",
        "#     lots = list(set(source.data['LotID']))\n",
        "#     colors = bokeh.palettes.Category10[10] + bokeh.palettes.Category20[20]\n",
        "#     legend_added = False  # Track if at least one legend is added\n",
        "#     for i, lot in enumerate(lots):\n",
        "#         mask = [l == lot for l in source.data['LotID']]\n",
        "#         # Only plot if this lot has data\n",
        "#         if any(mask):\n",
        "#             fig.line(\n",
        "#                 [t for t, m in zip(source.data['t'], mask) if m],\n",
        "#                 [p for p, m in zip(source.data['Price_Model2'], mask) if m],\n",
        "#                 line_width=2,\n",
        "#                 color=colors[i % len(colors)],\n",
        "#                 legend_label=f\"Lot {lot}\"\n",
        "#             )\n",
        "#             legend_added = True\n",
        "#     if legend_added:\n",
        "#         fig.legend.location = \"top_left\"\n",
        "#     fig.xaxis.axis_label = 'Time'\n",
        "#     fig.yaxis.axis_label = 'Price ($)'\n",
        "#     return fig\n",
        "\n",
        "# viz = data_with_time.plot(price_plotter, sorting_col=\"t\")\n",
        "# pn.Column(viz).servable()\n",
        "\n",
        "\n",
        "\n",
        "from bokeh.plotting import figure, show, output_notebook\n",
        "import bokeh.palettes\n",
        "\n",
        "output_notebook()\n",
        "\n",
        "def plot_model2(df):\n",
        "    fig = figure(\n",
        "        height=400,\n",
        "        width=800,\n",
        "        title=\"Model 2: Demand-Based Price per Lot\",\n",
        "        x_axis_type=\"datetime\",\n",
        "    )\n",
        "    lots = df['LotID'].unique()\n",
        "    palette = bokeh.palettes.Category10[10] + bokeh.palettes.Category20[20]\n",
        "    for i, lot in enumerate(lots):\n",
        "        lot_df = df[df['LotID'] == lot]\n",
        "        fig.line(\n",
        "            lot_df['Timestamp'],\n",
        "            lot_df['Price_Model2'],\n",
        "            line_width=2,\n",
        "            color=palette[i % len(palette)],\n",
        "            legend_label=f\"Lot {lot}\"\n",
        "        )\n",
        "    fig.legend.location = \"top_left\"\n",
        "    fig.xaxis.axis_label = 'Time'\n",
        "    fig.yaxis.axis_label = 'Price ($)'\n",
        "    show(fig)\n",
        "\n",
        "plot_model2(df)\n",
        "\n",
        "\n"
      ]
    },
    {
      "cell_type": "code",
      "execution_count": null,
      "metadata": {
        "id": "0IHWGcX6veN6"
      },
      "outputs": [],
      "source": [
        "\n",
        "\n",
        "# # Start the Pathway pipeline execution in the background\n",
        "# # - This triggers the real-time data stream processing defined above\n",
        "# # - %%capture --no-display suppresses output in the notebook interface\n",
        "\n",
        "# %%capture --no-display\n",
        "pw.run()\n",
        "print(\"Hello\")\n",
        "\n"
      ]
    },
    {
      "cell_type": "code",
      "execution_count": null,
      "metadata": {
        "id": "pklSMqmRp1Gh"
      },
      "outputs": [],
      "source": []
    }
  ],
  "metadata": {
    "colab": {
      "provenance": []
    },
    "kaggle": {
      "accelerator": "none",
      "dataSources": [
        {
          "datasetId": 7749157,
          "sourceId": 12294858,
          "sourceType": "datasetVersion"
        }
      ],
      "dockerImageVersionId": 31040,
      "isGpuEnabled": false,
      "isInternetEnabled": true,
      "language": "python",
      "sourceType": "notebook"
    },
    "kernelspec": {
      "display_name": "Python (pathway_env)",
      "language": "python",
      "name": "pathway_env"
    },
    "language_info": {
      "codemirror_mode": {
        "name": "ipython",
        "version": 3
      },
      "file_extension": ".py",
      "mimetype": "text/x-python",
      "name": "python",
      "nbconvert_exporter": "python",
      "pygments_lexer": "ipython3",
      "version": "3.12.3"
    }
  },
  "nbformat": 4,
  "nbformat_minor": 0
}